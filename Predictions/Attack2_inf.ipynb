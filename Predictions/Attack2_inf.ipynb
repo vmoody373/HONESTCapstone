{
 "cells": [
  {
   "cell_type": "code",
   "execution_count": 3,
   "id": "193f5a14-5ee6-4571-bd56-d115cd2d0ea0",
   "metadata": {
    "id": "193f5a14-5ee6-4571-bd56-d115cd2d0ea0"
   },
   "outputs": [],
   "source": [
    "import dgl.nn as dglnn\n",
    "from dgl import from_networkx\n",
    "from dgl.data.utils import save_graphs\n",
    "import torch.nn as nn\n",
    "import torch as th\n",
    "import torch.nn.functional as F\n",
    "import dgl.function as fn\n",
    "from dgl.data.utils import load_graphs\n",
    "import networkx as nx\n",
    "import pandas as pd\n",
    "import socket\n",
    "import struct\n",
    "import random\n",
    "from sklearn.preprocessing import LabelEncoder\n",
    "from sklearn.preprocessing import StandardScaler\n",
    "from sklearn.model_selection import train_test_split\n",
    "import sys"
   ]
  },
  {
   "cell_type": "markdown",
   "id": "c88b5a11-70af-43bc-b692-55593ef2f6bf",
   "metadata": {
    "id": "c88b5a11-70af-43bc-b692-55593ef2f6bf"
   },
   "source": [
    "## Process Captured Dataframe to Match Graphsage"
   ]
  },
  {
   "cell_type": "code",
   "execution_count": null,
   "id": "f4e8f67f-f44f-4012-86a3-6115979a91cd",
   "metadata": {
    "id": "f4e8f67f-f44f-4012-86a3-6115979a91cd"
   },
   "outputs": [],
   "source": [
    "full_df = pd.read_parquet('data/parquet-20231022T155758Z-001/parquet/')"
   ]
  },
  {
   "cell_type": "code",
   "execution_count": null,
   "id": "33518eb5-f27b-447c-b1e9-4cfeb4a1d6fe",
   "metadata": {
    "id": "33518eb5-f27b-447c-b1e9-4cfeb4a1d6fe",
    "outputId": "0b9a1806-426c-40d7-f703-34ce38a4fe5b"
   },
   "outputs": [
    {
     "data": {
      "text/html": [
       "<div>\n",
       "<style scoped>\n",
       "    .dataframe tbody tr th:only-of-type {\n",
       "        vertical-align: middle;\n",
       "    }\n",
       "\n",
       "    .dataframe tbody tr th {\n",
       "        vertical-align: top;\n",
       "    }\n",
       "\n",
       "    .dataframe thead th {\n",
       "        text-align: right;\n",
       "    }\n",
       "</style>\n",
       "<table border=\"1\" class=\"dataframe\">\n",
       "  <thead>\n",
       "    <tr style=\"text-align: right;\">\n",
       "      <th></th>\n",
       "      <th>t_first</th>\n",
       "      <th>t_last</th>\n",
       "      <th>src4_addr</th>\n",
       "      <th>src6_addr</th>\n",
       "      <th>src_port</th>\n",
       "      <th>src_tos</th>\n",
       "      <th>dst4_addr</th>\n",
       "      <th>dst6_addr</th>\n",
       "      <th>dst_port</th>\n",
       "      <th>icmp_code</th>\n",
       "      <th>...</th>\n",
       "      <th>label</th>\n",
       "      <th>proto</th>\n",
       "      <th>sampled</th>\n",
       "      <th>export_sysid</th>\n",
       "      <th>fwd_status</th>\n",
       "      <th>app_latency</th>\n",
       "      <th>cli_latency</th>\n",
       "      <th>srv_latency</th>\n",
       "      <th>out_bytes</th>\n",
       "      <th>out_packets</th>\n",
       "    </tr>\n",
       "  </thead>\n",
       "  <tbody>\n",
       "    <tr>\n",
       "      <th>0</th>\n",
       "      <td>2023-10-10 13:30:54.499</td>\n",
       "      <td>2023-10-10T09:30:54.592</td>\n",
       "      <td>10.200.0.1</td>\n",
       "      <td>None</td>\n",
       "      <td>39935</td>\n",
       "      <td>0</td>\n",
       "      <td>10.200.0.102</td>\n",
       "      <td>None</td>\n",
       "      <td>80</td>\n",
       "      <td>NaN</td>\n",
       "      <td>...</td>\n",
       "      <td>&lt;none&gt;</td>\n",
       "      <td>6</td>\n",
       "      <td>0</td>\n",
       "      <td>0</td>\n",
       "      <td>0</td>\n",
       "      <td>0.230</td>\n",
       "      <td>0.018</td>\n",
       "      <td>0.132</td>\n",
       "      <td>104518</td>\n",
       "      <td>76</td>\n",
       "    </tr>\n",
       "    <tr>\n",
       "      <th>1</th>\n",
       "      <td>2023-10-10 13:45:11.604</td>\n",
       "      <td>2023-10-10T09:45:11.821</td>\n",
       "      <td>10.200.0.1</td>\n",
       "      <td>None</td>\n",
       "      <td>61029</td>\n",
       "      <td>0</td>\n",
       "      <td>10.200.0.102</td>\n",
       "      <td>None</td>\n",
       "      <td>80</td>\n",
       "      <td>NaN</td>\n",
       "      <td>...</td>\n",
       "      <td>&lt;none&gt;</td>\n",
       "      <td>6</td>\n",
       "      <td>0</td>\n",
       "      <td>0</td>\n",
       "      <td>0</td>\n",
       "      <td>0.231</td>\n",
       "      <td>0.015</td>\n",
       "      <td>0.108</td>\n",
       "      <td>353</td>\n",
       "      <td>4</td>\n",
       "    </tr>\n",
       "    <tr>\n",
       "      <th>2</th>\n",
       "      <td>2023-10-10 13:00:25.922</td>\n",
       "      <td>2023-10-10T09:00:25.922</td>\n",
       "      <td>10.200.0.102</td>\n",
       "      <td>None</td>\n",
       "      <td>22</td>\n",
       "      <td>0</td>\n",
       "      <td>10.200.0.1</td>\n",
       "      <td>None</td>\n",
       "      <td>20562</td>\n",
       "      <td>NaN</td>\n",
       "      <td>...</td>\n",
       "      <td>&lt;none&gt;</td>\n",
       "      <td>6</td>\n",
       "      <td>0</td>\n",
       "      <td>0</td>\n",
       "      <td>0</td>\n",
       "      <td>0.000</td>\n",
       "      <td>0.000</td>\n",
       "      <td>0.132</td>\n",
       "      <td>40</td>\n",
       "      <td>1</td>\n",
       "    </tr>\n",
       "    <tr>\n",
       "      <th>3</th>\n",
       "      <td>2023-10-10 13:00:25.923</td>\n",
       "      <td>2023-10-10T09:00:26.68</td>\n",
       "      <td>10.200.0.102</td>\n",
       "      <td>None</td>\n",
       "      <td>80</td>\n",
       "      <td>0</td>\n",
       "      <td>10.200.0.1</td>\n",
       "      <td>None</td>\n",
       "      <td>22382</td>\n",
       "      <td>NaN</td>\n",
       "      <td>...</td>\n",
       "      <td>&lt;none&gt;</td>\n",
       "      <td>6</td>\n",
       "      <td>0</td>\n",
       "      <td>0</td>\n",
       "      <td>0</td>\n",
       "      <td>0.242</td>\n",
       "      <td>0.008</td>\n",
       "      <td>0.131</td>\n",
       "      <td>301</td>\n",
       "      <td>6</td>\n",
       "    </tr>\n",
       "    <tr>\n",
       "      <th>4</th>\n",
       "      <td>2023-10-10 14:30:47.630</td>\n",
       "      <td>2023-10-10T10:30:47.103</td>\n",
       "      <td>10.200.0.102</td>\n",
       "      <td>None</td>\n",
       "      <td>80</td>\n",
       "      <td>0</td>\n",
       "      <td>10.200.0.1</td>\n",
       "      <td>None</td>\n",
       "      <td>26170</td>\n",
       "      <td>NaN</td>\n",
       "      <td>...</td>\n",
       "      <td>&lt;none&gt;</td>\n",
       "      <td>6</td>\n",
       "      <td>0</td>\n",
       "      <td>0</td>\n",
       "      <td>0</td>\n",
       "      <td>0.001</td>\n",
       "      <td>0.003</td>\n",
       "      <td>0.000</td>\n",
       "      <td>224</td>\n",
       "      <td>7</td>\n",
       "    </tr>\n",
       "  </tbody>\n",
       "</table>\n",
       "<p>5 rows × 24 columns</p>\n",
       "</div>"
      ],
      "text/plain": [
       "                  t_first                   t_last     src4_addr src6_addr  \\\n",
       "0 2023-10-10 13:30:54.499  2023-10-10T09:30:54.592    10.200.0.1      None   \n",
       "1 2023-10-10 13:45:11.604  2023-10-10T09:45:11.821    10.200.0.1      None   \n",
       "2 2023-10-10 13:00:25.922  2023-10-10T09:00:25.922  10.200.0.102      None   \n",
       "3 2023-10-10 13:00:25.923   2023-10-10T09:00:26.68  10.200.0.102      None   \n",
       "4 2023-10-10 14:30:47.630  2023-10-10T10:30:47.103  10.200.0.102      None   \n",
       "\n",
       "   src_port  src_tos     dst4_addr dst6_addr  dst_port  icmp_code  ...  \\\n",
       "0     39935        0  10.200.0.102      None        80        NaN  ...   \n",
       "1     61029        0  10.200.0.102      None        80        NaN  ...   \n",
       "2        22        0    10.200.0.1      None     20562        NaN  ...   \n",
       "3        80        0    10.200.0.1      None     22382        NaN  ...   \n",
       "4        80        0    10.200.0.1      None     26170        NaN  ...   \n",
       "\n",
       "    label  proto  sampled export_sysid fwd_status  app_latency  cli_latency  \\\n",
       "0  <none>      6        0            0          0        0.230        0.018   \n",
       "1  <none>      6        0            0          0        0.231        0.015   \n",
       "2  <none>      6        0            0          0        0.000        0.000   \n",
       "3  <none>      6        0            0          0        0.242        0.008   \n",
       "4  <none>      6        0            0          0        0.001        0.003   \n",
       "\n",
       "   srv_latency  out_bytes  out_packets  \n",
       "0        0.132     104518           76  \n",
       "1        0.108        353            4  \n",
       "2        0.132         40            1  \n",
       "3        0.131        301            6  \n",
       "4        0.000        224            7  \n",
       "\n",
       "[5 rows x 24 columns]"
      ]
     },
     "execution_count": 3,
     "metadata": {},
     "output_type": "execute_result"
    }
   ],
   "source": [
    "full_df.head()"
   ]
  },
  {
   "cell_type": "code",
   "execution_count": null,
   "id": "6fa8f9e8-93b5-4723-aba4-60a884575ae7",
   "metadata": {
    "id": "6fa8f9e8-93b5-4723-aba4-60a884575ae7"
   },
   "outputs": [],
   "source": [
    "sub_df = full_df.drop(\n",
    "    [\n",
    "        'src6_addr',\n",
    "        'dst6_addr',\n",
    "        'icmp_code',\n",
    "        'fwd_status',\n",
    "        'app_latency',\n",
    "        'cli_latency',\n",
    "        'srv_latency',\n",
    "        'src_tos',\n",
    "        'sampled',\n",
    "        'export_sysid',\n",
    "        'icmp_status',\n",
    "    ], axis=1)"
   ]
  },
  {
   "cell_type": "code",
   "execution_count": null,
   "id": "818d6ae4-8007-457d-af7c-1e7c0af8bcac",
   "metadata": {
    "id": "818d6ae4-8007-457d-af7c-1e7c0af8bcac"
   },
   "outputs": [],
   "source": [
    "sub_df['t_first'] = pd.to_datetime(sub_df['t_first'])\n",
    "sub_df['t_last'] = pd.to_datetime(sub_df['t_last'])\n",
    "\n",
    "# Create new column that is the difference in milliseconds\n",
    "sub_df['FLOW_DURATION_MILLISECONDS'] = (sub_df['t_first'] - sub_df['t_last']).dt.total_seconds() * 1000\n",
    "sub_df['FLOW_DURATION_MILLISECONDS'] = sub_df['FLOW_DURATION_MILLISECONDS'].astype(int)\n",
    "\n",
    "# Randomize src IP\n",
    "sub_df['IPV4_SRC_ADDR'] = sub_df.src4_addr.apply(lambda x: socket.inet_ntoa(struct.pack('>I', random.randint(0xac100001, 0xac1f0001))))\n",
    "\n",
    "# Transform and append addrs and ports\n",
    "sub_df['IPV4_SRC_ADDR'] = sub_df.IPV4_SRC_ADDR.apply(str)\n",
    "sub_df['src_port'] = sub_df.src_port.apply(str)\n",
    "sub_df['dst4_addr'] = sub_df.dst4_addr.apply(str)\n",
    "sub_df['dst_port'] = sub_df.dst_port.apply(str)\n",
    "\n",
    "sub_df['IPV4_SRC_ADDR'] = sub_df['IPV4_SRC_ADDR'] + ':' + sub_df['src_port']\n",
    "sub_df['IPV4_DST_ADDR'] = sub_df['dst4_addr'] + ':' + sub_df['dst_port']\n",
    "\n",
    "# Use dict to convert tcp flags to int\n",
    "# Define a function to convert a string to an integer\n",
    "def string_to_integer(input_string):\n",
    "    binary_string = ''.join(['0' if char == '.' else '1' for char in input_string])\n",
    "    return int(binary_string, 2)\n",
    "\n",
    "# Apply the function to the DataFrame column\n",
    "sub_df['TCP_FLAGS'] = sub_df['tcp_flags'].apply(lambda x: string_to_integer(x))\n",
    "\n",
    "# Drop old columns\n",
    "sub_df = sub_df.drop(\n",
    "    [\n",
    "        't_first',\n",
    "        't_last',\n",
    "        'src4_addr',\n",
    "        'dst4_addr',\n",
    "        'src_port',\n",
    "        'dst_port',\n",
    "        'tcp_flags'\n",
    "    ], axis=1\n",
    ")\n",
    "\n",
    "# Adjust naming to match og notebook\n",
    "new_names = {\n",
    "    'proto': 'PROTOCOL',\n",
    "    'in_bytes': 'IN_BYTES',\n",
    "    'in_packets': 'IN_PKTS',\n",
    "    'out_bytes': 'OUT_BYTES',\n",
    "    'out_packets': 'OUT_PKTS',\n",
    "}\n",
    "sub_df.rename(columns=new_names, inplace=True)\n",
    "sub_df = sub_df.reindex(\n",
    "    columns=[\n",
    "        'IPV4_SRC_ADDR',\n",
    "        'IPV4_DST_ADDR',\n",
    "        'PROTOCOL',\n",
    "        'IN_BYTES',\n",
    "        'OUT_BYTES',\n",
    "        'IN_PKTS',\n",
    "        'OUT_PKTS',\n",
    "        'TCP_FLAGS',\n",
    "        'FLOW_DURATION_MILLISECONDS',\n",
    "        'label'\n",
    "    ]\n",
    ")"
   ]
  },
  {
   "cell_type": "markdown",
   "id": "b9290533-286b-467b-9efe-af401aed0411",
   "metadata": {
    "id": "b9290533-286b-467b-9efe-af401aed0411"
   },
   "source": [
    "#### Converted TCP Flags\n",
    "To convert the TCP flags, I converted `'...A.RSF'` to `00010111` and then converted binary to an integer."
   ]
  },
  {
   "cell_type": "code",
   "execution_count": null,
   "id": "dd57fc38-a98d-4533-b5a9-38bdbbb9d2b5",
   "metadata": {
    "id": "dd57fc38-a98d-4533-b5a9-38bdbbb9d2b5"
   },
   "outputs": [],
   "source": [
    "# Scale with fit scaler\n",
    "from joblib import load\n",
    "\n",
    "scaler = load('scaler.joblib')\n",
    "\n",
    "cols_to_norm = list(set(list(sub_df.iloc[:, 2:].columns ))  - set(list(['label'])) )\n",
    "sub_df[cols_to_norm] = scaler.fit_transform(sub_df[cols_to_norm])\n",
    "sub_df = sub_df.drop('label', axis=1)"
   ]
  },
  {
   "cell_type": "code",
   "execution_count": null,
   "id": "6e7e50c4-5cee-43c5-9384-2cff0885c185",
   "metadata": {
    "id": "6e7e50c4-5cee-43c5-9384-2cff0885c185",
    "outputId": "7f2e20fc-897f-45a4-f205-f28566f218db"
   },
   "outputs": [
    {
     "data": {
      "text/plain": [
       "['TCP_FLAGS',\n",
       " 'OUT_BYTES',\n",
       " 'IN_BYTES',\n",
       " 'FLOW_DURATION_MILLISECONDS',\n",
       " 'OUT_PKTS',\n",
       " 'PROTOCOL',\n",
       " 'IN_PKTS']"
      ]
     },
     "execution_count": 7,
     "metadata": {},
     "output_type": "execute_result"
    }
   ],
   "source": [
    "cols_to_norm"
   ]
  },
  {
   "cell_type": "markdown",
   "id": "ea604092-3178-4f84-9ba5-4e21bb70a7b1",
   "metadata": {
    "id": "ea604092-3178-4f84-9ba5-4e21bb70a7b1"
   },
   "source": [
    "## Build Graphs"
   ]
  },
  {
   "cell_type": "code",
   "execution_count": 10,
   "id": "26d45fc0-b619-46ee-8e26-26854fb5431a",
   "metadata": {
    "id": "26d45fc0-b619-46ee-8e26-26854fb5431a"
   },
   "outputs": [],
   "source": [
    "load_from_disk = True\n",
    "\n",
    "if not load_from_disk:\n",
    "    # Create edge feature set\n",
    "    sub_df['h'] = sub_df[cols_to_norm].values.tolist()\n",
    "\n",
    "    # Construct graph based on src and dest with H as edge features\n",
    "    G_large = nx.from_pandas_edgelist(\n",
    "        sub_df, \"IPV4_SRC_ADDR\", \"IPV4_DST_ADDR\", ['h'] , create_using=nx.MultiGraph()\n",
    "    )\n",
    "\n",
    "    G_large = from_networkx(\n",
    "        G_large.to_directed(), edge_attrs=['h']\n",
    "    )\n",
    "\n",
    "    # Append dummy node features - list of ones size (num_nodes, 7_edge_features)\n",
    "    G_large.ndata['feature'] = th.ones(G_large.num_nodes(), 7)\n",
    "\n",
    "    # Reshape node features, and then edge features\n",
    "    G_large.ndata['feature'] = th.reshape(\n",
    "        G_large.ndata['feature'], (G_large.ndata['feature'].shape[0], 1, G_large.ndata['feature'].shape[1])\n",
    "    )\n",
    "    G_large.edata['h'] = th.reshape(\n",
    "        G_large.edata['h'], (G_large.edata['h'].shape[0], 1, G_large.edata['h'].shape[1])\n",
    "    )\n",
    "\n",
    "    # Save to disk\n",
    "    save_graphs('graphs/graph_data.bin', [G_large])\n",
    "else:\n",
    "    G_large = load_graphs('drive/MyDrive/graphs/graph_data.bin')[0][0]"
   ]
  },
  {
   "cell_type": "markdown",
   "id": "cf3faed5-c983-4a97-b14d-a576c2b16e37",
   "metadata": {
    "id": "cf3faed5-c983-4a97-b14d-a576c2b16e37"
   },
   "source": [
    "## Load Fit Model w/ Weights"
   ]
  },
  {
   "cell_type": "code",
   "execution_count": 6,
   "id": "fae3164b-0f89-4bb8-b602-47eae4ca5e05",
   "metadata": {
    "id": "fae3164b-0f89-4bb8-b602-47eae4ca5e05"
   },
   "outputs": [],
   "source": [
    "class MLPPredictor(nn.Module):\n",
    "    def __init__(self, in_features, out_classes):\n",
    "        super().__init__()\n",
    "        self.W = nn.Linear(in_features * 2, out_classes)\n",
    "\n",
    "    def apply_edges(self, edges):\n",
    "        h_u = edges.src['h']\n",
    "        h_v = edges.dst['h']\n",
    "        score = self.W(th.cat([h_u, h_v], 1))\n",
    "        return {'score': score}\n",
    "\n",
    "    def forward(self, graph, h):\n",
    "        with graph.local_scope():\n",
    "            graph.ndata['h'] = h\n",
    "            graph.apply_edges(self.apply_edges)\n",
    "            return graph.edata['score']\n",
    "\n",
    "\n",
    "class SAGELayer(nn.Module):\n",
    "    def __init__(self, ndim_in, edims, ndim_out, activation):\n",
    "        super(SAGELayer, self).__init__()\n",
    "        ### force to outut fix dimensions\n",
    "        self.W_msg = nn.Linear(ndim_in + edims, ndim_out)\n",
    "        ### apply weight\n",
    "        self.W_apply = nn.Linear(ndim_in + ndim_out, ndim_out)\n",
    "        self.activation = activation\n",
    "\n",
    "    def message_func(self, edges):\n",
    "        return {'m': self.W_msg(th.cat([edges.src['h'], edges.data['h']], 2))}\n",
    "\n",
    "    def forward(self, g_dgl, nfeats, efeats):\n",
    "        with g_dgl.local_scope():\n",
    "            g = g_dgl\n",
    "            g.ndata['h'] = nfeats\n",
    "            g.edata['h'] = efeats\n",
    "            # Eq4\n",
    "            g.update_all(self.message_func, fn.mean('m', 'h_neigh'))\n",
    "            # Eq5\n",
    "            g.ndata['h'] = F.relu(self.W_apply(th.cat([g.ndata['h'], g.ndata['h_neigh']], 2)))\n",
    "            return g.ndata['h']\n",
    "\n",
    "\n",
    "class SAGE(nn.Module):\n",
    "    def __init__(self, ndim_in, ndim_out, edim, activation, dropout):\n",
    "        super(SAGE, self).__init__()\n",
    "        self.layers = nn.ModuleList()\n",
    "        self.layers.append(SAGELayer(ndim_in, edim, 128, activation))\n",
    "        self.layers.append(SAGELayer(128, edim, ndim_out, activation))\n",
    "        self.dropout = nn.Dropout(p=dropout)\n",
    "\n",
    "    def forward(self, g, nfeats, efeats):\n",
    "        for i, layer in enumerate(self.layers):\n",
    "            if i != 0:\n",
    "                nfeats = self.dropout(nfeats)\n",
    "            nfeats = layer(g, nfeats, efeats)\n",
    "        return nfeats.sum(1)\n",
    "\n",
    "\n",
    "class Model(nn.Module):\n",
    "    def __init__(self, ndim_in, ndim_out, edim, activation, dropout):\n",
    "        super().__init__()\n",
    "        self.gnn = SAGE(ndim_in, ndim_out, edim, activation, dropout)\n",
    "        self.pred = MLPPredictor(ndim_out, 2)\n",
    "    def forward(self, g, nfeats, efeats):\n",
    "        h = self.gnn(g, nfeats, efeats)\n",
    "        return self.pred(g, h)\n",
    "\n",
    "# Modeling functions\n",
    "def compute_accuracy(pred, labels):\n",
    "    return (pred.argmax(1) == labels).float().mean().item()"
   ]
  },
  {
   "cell_type": "code",
   "execution_count": 8,
   "id": "d7892998-210b-4cc1-abf7-b2941d72535a",
   "metadata": {
    "colab": {
     "base_uri": "https://localhost:8080/"
    },
    "id": "d7892998-210b-4cc1-abf7-b2941d72535a",
    "outputId": "13cb4b91-10e0-4029-ca2f-e1c2c0d997b3"
   },
   "outputs": [
    {
     "data": {
      "text/plain": [
       "Model(\n",
       "  (gnn): SAGE(\n",
       "    (layers): ModuleList(\n",
       "      (0): SAGELayer(\n",
       "        (W_msg): Linear(in_features=14, out_features=128, bias=True)\n",
       "        (W_apply): Linear(in_features=135, out_features=128, bias=True)\n",
       "      )\n",
       "      (1): SAGELayer(\n",
       "        (W_msg): Linear(in_features=135, out_features=128, bias=True)\n",
       "        (W_apply): Linear(in_features=256, out_features=128, bias=True)\n",
       "      )\n",
       "    )\n",
       "    (dropout): Dropout(p=0.2, inplace=False)\n",
       "  )\n",
       "  (pred): MLPPredictor(\n",
       "    (W): Linear(in_features=256, out_features=2, bias=True)\n",
       "  )\n",
       ")"
      ]
     },
     "execution_count": 8,
     "metadata": {},
     "output_type": "execute_result"
    }
   ],
   "source": [
    "# Model(nodefeat_dim_in, ndim_out, edgefeat_dim, activation, dropout)\n",
    "model = Model(7, 128, 7, F.relu, 0.2)\n",
    "model = th.load('drive/MyDrive/models/nf-bot-iot-torch.pth', map_location=th.device('cuda:0'))\n",
    "model.eval()"
   ]
  },
  {
   "cell_type": "markdown",
   "id": "31627a55-e6c2-41dd-87aa-83fcaa62c528",
   "metadata": {
    "id": "31627a55-e6c2-41dd-87aa-83fcaa62c528"
   },
   "source": [
    "## Generate Predictions"
   ]
  },
  {
   "cell_type": "code",
   "execution_count": 11,
   "id": "081bd304-fd53-48ac-839e-c53b7f083659",
   "metadata": {
    "id": "081bd304-fd53-48ac-839e-c53b7f083659"
   },
   "outputs": [],
   "source": [
    "G_large = G_large.to('cuda:0')\n",
    "predictions = model(\n",
    "    G_large,                      # Graph\n",
    "    G_large.ndata['feature'],     # Dummy Node Features (ones)\n",
    "    G_large.edata['h']            # Edge Features (dataframe)\n",
    ")"
   ]
  },
  {
   "cell_type": "code",
   "execution_count": 13,
   "id": "245ab65e-96f1-4238-93c9-7b5741a288be",
   "metadata": {
    "colab": {
     "base_uri": "https://localhost:8080/"
    },
    "id": "245ab65e-96f1-4238-93c9-7b5741a288be",
    "outputId": "318248fa-20c7-43a3-fb57-f62ad9d945e9"
   },
   "outputs": [
    {
     "data": {
      "text/plain": [
       "torch.Size([3857724, 2])"
      ]
     },
     "execution_count": 13,
     "metadata": {},
     "output_type": "execute_result"
    }
   ],
   "source": [
    "predictions.shape"
   ]
  },
  {
   "cell_type": "code",
   "execution_count": 16,
   "id": "fchN5SvvTPIa",
   "metadata": {
    "id": "fchN5SvvTPIa"
   },
   "outputs": [],
   "source": [
    "pred_max = predictions.argmax(1)"
   ]
  },
  {
   "cell_type": "markdown",
   "id": "07ba0f83-df97-44eb-91cf-771fc1297749",
   "metadata": {},
   "source": [
    "### Percent Predicated as Attack\n",
    "Based on the output below, it seems that the model predicted 72.25% of the flows as attacks. That seems high to me."
   ]
  },
  {
   "cell_type": "code",
   "execution_count": 17,
   "id": "42qiQDeJTUp5",
   "metadata": {
    "colab": {
     "base_uri": "https://localhost:8080/"
    },
    "id": "42qiQDeJTUp5",
    "outputId": "d99d02c6-febe-44cd-f6ec-87e877f8b50a"
   },
   "outputs": [
    {
     "data": {
      "text/plain": [
       "tensor(0.7225, device='cuda:0')"
      ]
     },
     "execution_count": 17,
     "metadata": {},
     "output_type": "execute_result"
    }
   ],
   "source": [
    "sum(pred_max)/len(pred_max)"
   ]
  },
  {
   "cell_type": "code",
   "execution_count": null,
   "id": "Hxzw99UjTzj4",
   "metadata": {
    "id": "Hxzw99UjTzj4"
   },
   "outputs": [],
   "source": []
  }
 ],
 "metadata": {
  "accelerator": "GPU",
  "colab": {
   "gpuType": "A100",
   "machine_shape": "hm",
   "provenance": []
  },
  "kernelspec": {
   "display_name": "Python 3 (ipykernel)",
   "language": "python",
   "name": "python3"
  },
  "language_info": {
   "codemirror_mode": {
    "name": "ipython",
    "version": 3
   },
   "file_extension": ".py",
   "mimetype": "text/x-python",
   "name": "python",
   "nbconvert_exporter": "python",
   "pygments_lexer": "ipython3",
   "version": "3.11.5"
  }
 },
 "nbformat": 4,
 "nbformat_minor": 5
}
