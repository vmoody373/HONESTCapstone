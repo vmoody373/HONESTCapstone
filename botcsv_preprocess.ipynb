{
 "cells": [
  {
   "cell_type": "markdown",
   "id": "0758b15b-bbda-4bf1-b5a7-51c8464f6b33",
   "metadata": {},
   "source": [
    "# Process Data\n",
    "After digging through closed issues on the E-graphsage repo, I saw the author point to this dataset when someone asked where is the `bot.csv` data. There needs to be some processing to combine the files, and append the correct feature names. Here I am bringing everything together so we have one source file.\n",
    "\n",
    "Original Data Source: https://cloudstor.aarnet.edu.au/plus/s/umT99TnxvbpkkoE?path=%2FCSV%2FEntire%20Dataset"
   ]
  },
  {
   "cell_type": "code",
   "execution_count": 1,
   "id": "838c153d-f672-42b3-bd94-f73ac9230774",
   "metadata": {},
   "outputs": [],
   "source": [
    "import socket\n",
    "import struct\n",
    "import random\n",
    "\n",
    "import dask.dataframe as dd\n",
    "from dask_ml.preprocessing import StandardScaler\n",
    "from sklearn.model_selection import train_test_split\n",
    "import pandas as pd\n",
    "import numpy as np\n",
    "import networkx as nx"
   ]
  },
  {
   "cell_type": "code",
   "execution_count": 2,
   "id": "29b6c2eb-aacc-48d4-b94b-d1bc0868070b",
   "metadata": {},
   "outputs": [],
   "source": [
    "feat_names = pd.read_csv('UNSW_2018_IoT_Botnet_Dataset_Feature_Names.csv')\n",
    "feat_names = [s.strip() for s in feat_names]\n",
    "\n",
    "# Some dport and sport values aren't ints, but appear to be hex eg. 00xE or <NA>, so I'm forcing all strings\n",
    "ddf = dd.read_csv(f'data/*.csv', header=None, names=feat_names, dtype={'dport': 'object', 'sport': 'object'})"
   ]
  },
  {
   "cell_type": "code",
   "execution_count": 3,
   "id": "d68bb824-9cd0-4f86-95f4-baf0d168e53a",
   "metadata": {
    "scrolled": true
   },
   "outputs": [
    {
     "data": {
      "text/html": [
       "<div>\n",
       "<style scoped>\n",
       "    .dataframe tbody tr th:only-of-type {\n",
       "        vertical-align: middle;\n",
       "    }\n",
       "\n",
       "    .dataframe tbody tr th {\n",
       "        vertical-align: top;\n",
       "    }\n",
       "\n",
       "    .dataframe thead th {\n",
       "        text-align: right;\n",
       "    }\n",
       "</style>\n",
       "<table border=\"1\" class=\"dataframe\">\n",
       "  <thead>\n",
       "    <tr style=\"text-align: right;\">\n",
       "      <th></th>\n",
       "      <th>pkSeqID</th>\n",
       "      <th>stime</th>\n",
       "      <th>flgs</th>\n",
       "      <th>proto</th>\n",
       "      <th>saddr</th>\n",
       "      <th>sport</th>\n",
       "      <th>daddr</th>\n",
       "      <th>dport</th>\n",
       "      <th>pkts</th>\n",
       "      <th>bytes</th>\n",
       "      <th>...</th>\n",
       "      <th>spkts</th>\n",
       "      <th>dpkts</th>\n",
       "      <th>sbytes</th>\n",
       "      <th>dbytes</th>\n",
       "      <th>rate</th>\n",
       "      <th>srate</th>\n",
       "      <th>drate</th>\n",
       "      <th>attack</th>\n",
       "      <th>category</th>\n",
       "      <th>subcategory</th>\n",
       "    </tr>\n",
       "  </thead>\n",
       "  <tbody>\n",
       "    <tr>\n",
       "      <th>0</th>\n",
       "      <td>1</td>\n",
       "      <td>1.526344e+09</td>\n",
       "      <td>e</td>\n",
       "      <td>arp</td>\n",
       "      <td>192.168.100.1</td>\n",
       "      <td>&lt;NA&gt;</td>\n",
       "      <td>192.168.100.3</td>\n",
       "      <td>&lt;NA&gt;</td>\n",
       "      <td>4</td>\n",
       "      <td>240</td>\n",
       "      <td>...</td>\n",
       "      <td>2</td>\n",
       "      <td>2</td>\n",
       "      <td>120</td>\n",
       "      <td>120</td>\n",
       "      <td>0.002508</td>\n",
       "      <td>0.000836</td>\n",
       "      <td>0.000836</td>\n",
       "      <td>0</td>\n",
       "      <td>Normal</td>\n",
       "      <td>Normal</td>\n",
       "    </tr>\n",
       "    <tr>\n",
       "      <th>1</th>\n",
       "      <td>2</td>\n",
       "      <td>1.526344e+09</td>\n",
       "      <td>e</td>\n",
       "      <td>tcp</td>\n",
       "      <td>192.168.100.7</td>\n",
       "      <td>139</td>\n",
       "      <td>192.168.100.4</td>\n",
       "      <td>36390</td>\n",
       "      <td>10</td>\n",
       "      <td>680</td>\n",
       "      <td>...</td>\n",
       "      <td>5</td>\n",
       "      <td>5</td>\n",
       "      <td>350</td>\n",
       "      <td>330</td>\n",
       "      <td>0.006190</td>\n",
       "      <td>0.002751</td>\n",
       "      <td>0.002751</td>\n",
       "      <td>0</td>\n",
       "      <td>Normal</td>\n",
       "      <td>Normal</td>\n",
       "    </tr>\n",
       "    <tr>\n",
       "      <th>2</th>\n",
       "      <td>3</td>\n",
       "      <td>1.526344e+09</td>\n",
       "      <td>e</td>\n",
       "      <td>udp</td>\n",
       "      <td>192.168.100.149</td>\n",
       "      <td>51838</td>\n",
       "      <td>27.124.125.250</td>\n",
       "      <td>123</td>\n",
       "      <td>2</td>\n",
       "      <td>180</td>\n",
       "      <td>...</td>\n",
       "      <td>1</td>\n",
       "      <td>1</td>\n",
       "      <td>90</td>\n",
       "      <td>90</td>\n",
       "      <td>20.590960</td>\n",
       "      <td>0.000000</td>\n",
       "      <td>0.000000</td>\n",
       "      <td>0</td>\n",
       "      <td>Normal</td>\n",
       "      <td>Normal</td>\n",
       "    </tr>\n",
       "    <tr>\n",
       "      <th>3</th>\n",
       "      <td>4</td>\n",
       "      <td>1.526344e+09</td>\n",
       "      <td>e</td>\n",
       "      <td>arp</td>\n",
       "      <td>192.168.100.4</td>\n",
       "      <td>&lt;NA&gt;</td>\n",
       "      <td>192.168.100.7</td>\n",
       "      <td>&lt;NA&gt;</td>\n",
       "      <td>10</td>\n",
       "      <td>510</td>\n",
       "      <td>...</td>\n",
       "      <td>5</td>\n",
       "      <td>5</td>\n",
       "      <td>210</td>\n",
       "      <td>300</td>\n",
       "      <td>0.006189</td>\n",
       "      <td>0.002751</td>\n",
       "      <td>0.002751</td>\n",
       "      <td>0</td>\n",
       "      <td>Normal</td>\n",
       "      <td>Normal</td>\n",
       "    </tr>\n",
       "    <tr>\n",
       "      <th>4</th>\n",
       "      <td>5</td>\n",
       "      <td>1.526344e+09</td>\n",
       "      <td>e</td>\n",
       "      <td>udp</td>\n",
       "      <td>192.168.100.27</td>\n",
       "      <td>58999</td>\n",
       "      <td>192.168.100.1</td>\n",
       "      <td>53</td>\n",
       "      <td>4</td>\n",
       "      <td>630</td>\n",
       "      <td>...</td>\n",
       "      <td>2</td>\n",
       "      <td>2</td>\n",
       "      <td>174</td>\n",
       "      <td>456</td>\n",
       "      <td>0.005264</td>\n",
       "      <td>0.001755</td>\n",
       "      <td>0.001755</td>\n",
       "      <td>0</td>\n",
       "      <td>Normal</td>\n",
       "      <td>Normal</td>\n",
       "    </tr>\n",
       "    <tr>\n",
       "      <th>...</th>\n",
       "      <td>...</td>\n",
       "      <td>...</td>\n",
       "      <td>...</td>\n",
       "      <td>...</td>\n",
       "      <td>...</td>\n",
       "      <td>...</td>\n",
       "      <td>...</td>\n",
       "      <td>...</td>\n",
       "      <td>...</td>\n",
       "      <td>...</td>\n",
       "      <td>...</td>\n",
       "      <td>...</td>\n",
       "      <td>...</td>\n",
       "      <td>...</td>\n",
       "      <td>...</td>\n",
       "      <td>...</td>\n",
       "      <td>...</td>\n",
       "      <td>...</td>\n",
       "      <td>...</td>\n",
       "      <td>...</td>\n",
       "      <td>...</td>\n",
       "    </tr>\n",
       "    <tr>\n",
       "      <th>322336</th>\n",
       "      <td>8999996</td>\n",
       "      <td>1.528083e+09</td>\n",
       "      <td>e s</td>\n",
       "      <td>tcp</td>\n",
       "      <td>192.168.100.150</td>\n",
       "      <td>5701</td>\n",
       "      <td>192.168.100.6</td>\n",
       "      <td>80</td>\n",
       "      <td>5</td>\n",
       "      <td>676</td>\n",
       "      <td>...</td>\n",
       "      <td>4</td>\n",
       "      <td>1</td>\n",
       "      <td>616</td>\n",
       "      <td>60</td>\n",
       "      <td>0.067886</td>\n",
       "      <td>0.050914</td>\n",
       "      <td>0.000000</td>\n",
       "      <td>1</td>\n",
       "      <td>DoS</td>\n",
       "      <td>TCP</td>\n",
       "    </tr>\n",
       "    <tr>\n",
       "      <th>322337</th>\n",
       "      <td>8999997</td>\n",
       "      <td>1.528083e+09</td>\n",
       "      <td>e s</td>\n",
       "      <td>tcp</td>\n",
       "      <td>192.168.100.150</td>\n",
       "      <td>5706</td>\n",
       "      <td>192.168.100.6</td>\n",
       "      <td>80</td>\n",
       "      <td>4</td>\n",
       "      <td>616</td>\n",
       "      <td>...</td>\n",
       "      <td>4</td>\n",
       "      <td>0</td>\n",
       "      <td>616</td>\n",
       "      <td>0</td>\n",
       "      <td>0.050914</td>\n",
       "      <td>0.050914</td>\n",
       "      <td>0.000000</td>\n",
       "      <td>1</td>\n",
       "      <td>DoS</td>\n",
       "      <td>TCP</td>\n",
       "    </tr>\n",
       "    <tr>\n",
       "      <th>322338</th>\n",
       "      <td>8999998</td>\n",
       "      <td>1.528083e+09</td>\n",
       "      <td>e s</td>\n",
       "      <td>tcp</td>\n",
       "      <td>192.168.100.150</td>\n",
       "      <td>5707</td>\n",
       "      <td>192.168.100.6</td>\n",
       "      <td>80</td>\n",
       "      <td>4</td>\n",
       "      <td>616</td>\n",
       "      <td>...</td>\n",
       "      <td>4</td>\n",
       "      <td>0</td>\n",
       "      <td>616</td>\n",
       "      <td>0</td>\n",
       "      <td>0.050914</td>\n",
       "      <td>0.050914</td>\n",
       "      <td>0.000000</td>\n",
       "      <td>1</td>\n",
       "      <td>DoS</td>\n",
       "      <td>TCP</td>\n",
       "    </tr>\n",
       "    <tr>\n",
       "      <th>322339</th>\n",
       "      <td>8999999</td>\n",
       "      <td>1.528083e+09</td>\n",
       "      <td>e s</td>\n",
       "      <td>tcp</td>\n",
       "      <td>192.168.100.150</td>\n",
       "      <td>5710</td>\n",
       "      <td>192.168.100.6</td>\n",
       "      <td>80</td>\n",
       "      <td>4</td>\n",
       "      <td>616</td>\n",
       "      <td>...</td>\n",
       "      <td>4</td>\n",
       "      <td>0</td>\n",
       "      <td>616</td>\n",
       "      <td>0</td>\n",
       "      <td>0.050914</td>\n",
       "      <td>0.050914</td>\n",
       "      <td>0.000000</td>\n",
       "      <td>1</td>\n",
       "      <td>DoS</td>\n",
       "      <td>TCP</td>\n",
       "    </tr>\n",
       "    <tr>\n",
       "      <th>322340</th>\n",
       "      <td>9000000</td>\n",
       "      <td>1.528083e+09</td>\n",
       "      <td>e s</td>\n",
       "      <td>tcp</td>\n",
       "      <td>192.168.100.150</td>\n",
       "      <td>5711</td>\n",
       "      <td>192.168.100.6</td>\n",
       "      <td>80</td>\n",
       "      <td>4</td>\n",
       "      <td>616</td>\n",
       "      <td>...</td>\n",
       "      <td>4</td>\n",
       "      <td>0</td>\n",
       "      <td>616</td>\n",
       "      <td>0</td>\n",
       "      <td>0.050914</td>\n",
       "      <td>0.050914</td>\n",
       "      <td>0.000000</td>\n",
       "      <td>1</td>\n",
       "      <td>DoS</td>\n",
       "      <td>TCP</td>\n",
       "    </tr>\n",
       "  </tbody>\n",
       "</table>\n",
       "<p>72370443 rows × 35 columns</p>\n",
       "</div>"
      ],
      "text/plain": [
       "        pkSeqID         stime flgs proto            saddr  sport  \\\n",
       "0             1  1.526344e+09    e   arp    192.168.100.1   <NA>   \n",
       "1             2  1.526344e+09    e   tcp    192.168.100.7    139   \n",
       "2             3  1.526344e+09    e   udp  192.168.100.149  51838   \n",
       "3             4  1.526344e+09    e   arp    192.168.100.4   <NA>   \n",
       "4             5  1.526344e+09    e   udp   192.168.100.27  58999   \n",
       "...         ...           ...  ...   ...              ...    ...   \n",
       "322336  8999996  1.528083e+09  e s   tcp  192.168.100.150   5701   \n",
       "322337  8999997  1.528083e+09  e s   tcp  192.168.100.150   5706   \n",
       "322338  8999998  1.528083e+09  e s   tcp  192.168.100.150   5707   \n",
       "322339  8999999  1.528083e+09  e s   tcp  192.168.100.150   5710   \n",
       "322340  9000000  1.528083e+09  e s   tcp  192.168.100.150   5711   \n",
       "\n",
       "                 daddr  dport  pkts  bytes  ... spkts  dpkts  sbytes  dbytes  \\\n",
       "0        192.168.100.3   <NA>     4    240  ...     2      2     120     120   \n",
       "1        192.168.100.4  36390    10    680  ...     5      5     350     330   \n",
       "2       27.124.125.250    123     2    180  ...     1      1      90      90   \n",
       "3        192.168.100.7   <NA>    10    510  ...     5      5     210     300   \n",
       "4        192.168.100.1     53     4    630  ...     2      2     174     456   \n",
       "...                ...    ...   ...    ...  ...   ...    ...     ...     ...   \n",
       "322336   192.168.100.6     80     5    676  ...     4      1     616      60   \n",
       "322337   192.168.100.6     80     4    616  ...     4      0     616       0   \n",
       "322338   192.168.100.6     80     4    616  ...     4      0     616       0   \n",
       "322339   192.168.100.6     80     4    616  ...     4      0     616       0   \n",
       "322340   192.168.100.6     80     4    616  ...     4      0     616       0   \n",
       "\n",
       "             rate     srate     drate  attack  category  subcategory  \n",
       "0        0.002508  0.000836  0.000836       0    Normal       Normal  \n",
       "1        0.006190  0.002751  0.002751       0    Normal       Normal  \n",
       "2       20.590960  0.000000  0.000000       0    Normal       Normal  \n",
       "3        0.006189  0.002751  0.002751       0    Normal       Normal  \n",
       "4        0.005264  0.001755  0.001755       0    Normal       Normal  \n",
       "...           ...       ...       ...     ...       ...          ...  \n",
       "322336   0.067886  0.050914  0.000000       1       DoS          TCP  \n",
       "322337   0.050914  0.050914  0.000000       1       DoS          TCP  \n",
       "322338   0.050914  0.050914  0.000000       1       DoS          TCP  \n",
       "322339   0.050914  0.050914  0.000000       1       DoS          TCP  \n",
       "322340   0.050914  0.050914  0.000000       1       DoS          TCP  \n",
       "\n",
       "[72370443 rows x 35 columns]"
      ]
     },
     "execution_count": 3,
     "metadata": {},
     "output_type": "execute_result"
    }
   ],
   "source": [
    "ddf.compute()"
   ]
  },
  {
   "cell_type": "markdown",
   "id": "7935fe53-b5f4-4432-8ebd-1908b09197dc",
   "metadata": {},
   "source": [
    "#### Current Features"
   ]
  },
  {
   "cell_type": "code",
   "execution_count": 5,
   "id": "fb794c02-cfbd-41e8-b5b7-9ce5e6245459",
   "metadata": {},
   "outputs": [
    {
     "data": {
      "text/plain": [
       "Index(['pkSeqID', 'stime', 'flgs', 'proto', 'saddr', 'sport', 'daddr', 'dport',\n",
       "       'pkts', 'bytes', 'state', 'ltime', 'seq', 'dur', 'mean', 'stddev',\n",
       "       'smac', 'dmac', 'sum', 'min', 'max', 'soui', 'doui', 'sco', 'dco',\n",
       "       'spkts', 'dpkts', 'sbytes', 'dbytes', 'rate', 'srate', 'drate',\n",
       "       'attack', 'category', 'subcategory'],\n",
       "      dtype='object')"
      ]
     },
     "execution_count": 5,
     "metadata": {},
     "output_type": "execute_result"
    }
   ],
   "source": [
    "ddf.columns"
   ]
  },
  {
   "cell_type": "code",
   "execution_count": 6,
   "id": "97faf4b7-9c47-4dbe-8bab-a13f92756d8c",
   "metadata": {},
   "outputs": [],
   "source": [
    "ddf.to_parquet('data/complete/bot.parquet')"
   ]
  },
  {
   "cell_type": "code",
   "execution_count": 10,
   "id": "e3c943dc-5189-49f4-a082-7fc1e9af5012",
   "metadata": {},
   "outputs": [
    {
     "data": {
      "text/plain": [
       "['/home/nfx/Documents/Capstone/data/complete/bot.csv']"
      ]
     },
     "execution_count": 10,
     "metadata": {},
     "output_type": "execute_result"
    }
   ],
   "source": [
    "ddf.to_csv('data/complete/bot.csv', single_file=True)"
   ]
  },
  {
   "cell_type": "markdown",
   "id": "7de26ccc-57e9-49cf-bdb9-734dbfb6ae7e",
   "metadata": {},
   "source": [
    "-------------\n",
    "## Data Adjustments\n",
    "After trying to use the exported parquet file with the existing `E-GraphSAGE-BoT-IoT-mean-binary.ipynb` file from the standard folder in the E-GraphSAGE repo, I noticed we have missing columns that seem to come from additional processing.\n",
    "\n",
    "**Missing**\n",
    "- Some source and destinations have `<NA>`. Based on the output in the original notebook, these might have been changed to `-1`?\n",
    "- They have `state_number` which is int values, while the our current parquet only has `state` with string values.\n",
    "- They also have `proto_number` we have only `proto` with string values.\n",
    "- They have `flgs_number` we have `flgs` with strings.\n",
    "\n",
    "To address these, I will check if this dataset has -1 values for port. If they don't I will replace `<NA>` with `-1`. In regards to the `*_number` columns, I will generate a dictionary and replace the values with a specific number. "
   ]
  },
  {
   "cell_type": "code",
   "execution_count": 2,
   "id": "0f127ab5-2dde-4f5f-9bad-53e9567ad12e",
   "metadata": {},
   "outputs": [
    {
     "name": "stderr",
     "output_type": "stream",
     "text": [
      "/tmp/ipykernel_81851/989524179.py:2: DtypeWarning: Columns (6,8) have mixed types. Specify dtype option on import or set low_memory=False.\n",
      "  df = pd.read_csv('data/complete/bot.csv')\n"
     ]
    }
   ],
   "source": [
    "# Using pandas because Dask wouldn't correctly replace '<NA>` values\n",
    "df = pd.read_csv('data/complete/bot.csv')"
   ]
  },
  {
   "cell_type": "markdown",
   "id": "d4193358-61fe-4913-bf50-e57b2ae6391e",
   "metadata": {},
   "source": [
    "#### Check Ports for -1\n",
    "Checked for -1, and there weren't any, so I am going to assume -1 is NA for this dataset. They are updated below."
   ]
  },
  {
   "cell_type": "code",
   "execution_count": 3,
   "id": "f583a009-21ca-42b8-857d-af317a6ea530",
   "metadata": {},
   "outputs": [
    {
     "data": {
      "text/plain": [
       "(0, 0)"
      ]
     },
     "execution_count": 3,
     "metadata": {},
     "output_type": "execute_result"
    }
   ],
   "source": [
    "len(df.loc[df['sport'] == '-1']), len(df.loc[df['dport'] == '-1'])"
   ]
  },
  {
   "cell_type": "code",
   "execution_count": 4,
   "id": "d5585205-f164-4de7-8be7-b9839f2149f0",
   "metadata": {},
   "outputs": [],
   "source": [
    "df[['sport', 'dport']] = df[['sport', 'dport']].fillna('-1')"
   ]
  },
  {
   "cell_type": "code",
   "execution_count": 5,
   "id": "426aea5f-7c98-4392-be4c-9c199d45f08f",
   "metadata": {},
   "outputs": [
    {
     "data": {
      "text/plain": [
       "(2800, 2800)"
      ]
     },
     "execution_count": 5,
     "metadata": {},
     "output_type": "execute_result"
    }
   ],
   "source": [
    "len(df.loc[df['sport'] == '-1']), len(df.loc[df['dport'] == '-1'])"
   ]
  },
  {
   "cell_type": "markdown",
   "id": "df13b0a7-e407-46d2-a883-9c5b53fa1cb8",
   "metadata": {},
   "source": [
    "#### Generate Dicts\n",
    "Create a int mapping for each state, proto, flgs value."
   ]
  },
  {
   "cell_type": "code",
   "execution_count": 6,
   "id": "e7a04d58-d84e-494f-9177-cc6b592c7324",
   "metadata": {},
   "outputs": [],
   "source": [
    "state_dict = {v: k for k, v in dict(enumerate(df.state.unique())).items()}\n",
    "proto_dict = {v: k for k, v in dict(enumerate(df.proto.unique())).items()}\n",
    "flgs_dict = {v: k for k, v in dict(enumerate(df.flgs.unique())).items()}\n",
    "\n",
    "df['state_number'] = df['state'].map(state_dict)\n",
    "df['proto_number'] = df['proto'].map(proto_dict)\n",
    "df['flgs_number'] = df['flgs'].map(flgs_dict)"
   ]
  },
  {
   "cell_type": "code",
   "execution_count": 7,
   "id": "ba27925b-4963-40d3-893e-608446e546db",
   "metadata": {},
   "outputs": [
    {
     "data": {
      "text/plain": [
       "{'CON': 0,\n",
       " 'INT': 1,\n",
       " 'RST': 2,\n",
       " 'FIN': 3,\n",
       " 'URP': 4,\n",
       " 'NRS': 5,\n",
       " 'REQ': 6,\n",
       " 'PAR': 7,\n",
       " 'ECO': 8,\n",
       " 'ACC': 9,\n",
       " 'TST': 10,\n",
       " 'MAS': 11,\n",
       " 'CLO': 12,\n",
       " 'RSP': 13}"
      ]
     },
     "execution_count": 7,
     "metadata": {},
     "output_type": "execute_result"
    }
   ],
   "source": [
    "state_dict"
   ]
  },
  {
   "cell_type": "code",
   "execution_count": 8,
   "id": "fe776bb5-af5a-412d-94f4-18a0855e8163",
   "metadata": {},
   "outputs": [
    {
     "data": {
      "text/plain": [
       "{'arp': 0, 'tcp': 1, 'udp': 2, 'icmp': 3, 'ipv6-icmp': 4, 'igmp': 5, 'rarp': 6}"
      ]
     },
     "execution_count": 8,
     "metadata": {},
     "output_type": "execute_result"
    }
   ],
   "source": [
    "proto_dict"
   ]
  },
  {
   "cell_type": "code",
   "execution_count": 9,
   "id": "4401aaec-4b67-47a9-8292-08bc54544cfb",
   "metadata": {},
   "outputs": [
    {
     "data": {
      "text/plain": [
       "{'e': 0,\n",
       " 'e d': 1,\n",
       " 'eU': 2,\n",
       " 'e &': 3,\n",
       " 'e s': 4,\n",
       " 'e *': 5,\n",
       " 'e g': 6,\n",
       " 'e  D': 7,\n",
       " 'e dD': 8,\n",
       " 'e    F': 9,\n",
       " 'e r': 10,\n",
       " 'e   t': 11,\n",
       " 'e dS': 12}"
      ]
     },
     "execution_count": 9,
     "metadata": {},
     "output_type": "execute_result"
    }
   ],
   "source": [
    "flgs_dict"
   ]
  },
  {
   "cell_type": "code",
   "execution_count": 14,
   "id": "9f7f4bbc-c7d1-48b7-ac99-1434d05997ef",
   "metadata": {},
   "outputs": [],
   "source": [
    "df.to_csv('data/processed/bot.csv')"
   ]
  },
  {
   "cell_type": "markdown",
   "id": "99005c5b-95af-4c6c-840a-f83f23fa2090",
   "metadata": {},
   "source": [
    "--------------------------\n",
    "### E-GraphSAGE Notebook Processing\n",
    "I'm going to clean up the processing done in the start of the notebook provided with the paper. There is a lot of sloppy work, and perhaps this way I can document step by step."
   ]
  },
  {
   "cell_type": "code",
   "execution_count": 2,
   "id": "11711197-c43d-4472-9f3d-e5aa0347b6b4",
   "metadata": {},
   "outputs": [
    {
     "name": "stderr",
     "output_type": "stream",
     "text": [
      "/tmp/ipykernel_84996/808290223.py:2: DtypeWarning: Columns (7,9) have mixed types. Specify dtype option on import or set low_memory=False.\n",
      "  df = pd.read_csv('data/processed/bot.csv')\n"
     ]
    }
   ],
   "source": [
    "# Adding drops here because data is large\n",
    "df = pd.read_csv('data/processed/bot.csv')"
   ]
  },
  {
   "cell_type": "markdown",
   "id": "5a6c2597-eb48-4467-a430-1c1857b7505f",
   "metadata": {},
   "source": [
    "There isn't a clear reason that they dropped some of the features. Some are repeats after creating the dictionary mapping."
   ]
  },
  {
   "cell_type": "code",
   "execution_count": 3,
   "id": "9e6539ea-40ac-4eca-a688-21d38b66d689",
   "metadata": {},
   "outputs": [
    {
     "data": {
      "text/plain": [
       "label\n",
       "1    72360933\n",
       "0        9510\n",
       "Name: count, dtype: int64"
      ]
     },
     "execution_count": 3,
     "metadata": {},
     "output_type": "execute_result"
    }
   ],
   "source": [
    "# Drop columns, rename\n",
    "df.drop(columns=['subcategory',\n",
    "                 'pkSeqID',\n",
    "                 'stime',\n",
    "                 'flgs',\n",
    "                 'category',\n",
    "                 'state',\n",
    "                 'proto',\n",
    "                 'seq',\n",
    "                 'Unnamed: 0.1',\n",
    "                 'Unnamed: 0'], inplace=True)\n",
    "\n",
    "df.rename(columns={'attack': 'label'}, inplace=True)\n",
    "df.label.value_counts()"
   ]
  },
  {
   "cell_type": "markdown",
   "id": "0a758f83-f541-47cc-bcdc-e0dece2e2ce6",
   "metadata": {},
   "source": [
    "Now we just randomize the source IP addresses, and then append the column so that the formate is `<IP>:<PORT>`."
   ]
  },
  {
   "cell_type": "code",
   "execution_count": 4,
   "id": "332879ca-524c-41b5-be90-0020aa7a7a86",
   "metadata": {},
   "outputs": [],
   "source": [
    "# Force IP and port number to str\n",
    "df[['saddr', 'sport', 'daddr', 'dport']] = df[['saddr', 'sport', 'daddr', 'dport']].astype(str)\n",
    "\n",
    "# Randomly assign new source IP address per the paper\n",
    "df['saddr'] = df.saddr.apply(\n",
    "    lambda x: socket.inet_ntoa(struct.pack('>I', random.randint(0xac100001, 0xac1f0001)))\n",
    ")\n",
    "\n",
    "# Append port numbers to address then drop port columns\n",
    "df['saddr'] = df['saddr'] + ':' + df['sport']\n",
    "df['daddr'] = df['daddr'] + ':' + df['dport']\n",
    "df.drop(columns=['sport', 'dport'], inplace=True)"
   ]
  },
  {
   "cell_type": "markdown",
   "id": "466d13eb-e976-4257-8447-7ff0eb3bf487",
   "metadata": {},
   "source": [
    "#### Ground Truth\n",
    "Now we are going to store the ground truth labels along with the source and destination IP. This is used later for stratifying our train test split."
   ]
  },
  {
   "cell_type": "code",
   "execution_count": 5,
   "id": "b6f7c819-0108-43e7-91cf-2435532403a8",
   "metadata": {},
   "outputs": [],
   "source": [
    "label_ground_truth = df[['saddr', 'daddr', 'label']]"
   ]
  },
  {
   "cell_type": "markdown",
   "id": "4959c243-8c96-4a80-afcc-6138da2e00eb",
   "metadata": {},
   "source": [
    "Below I am going to create indicator variables. They use the get_dummies in the original notebook, but based on the dataframe output they have, there are fewer unqiue values in their data. You can see that they have proto_state from $[1-5]$, but we will have six. I'm unable to find any information as to why these are different. My best guess is that our data contain almost 19x the number of observations/packets. Again, I'm not able to find information as to why that is true... nor how they might have reduced it."
   ]
  },
  {
   "cell_type": "code",
   "execution_count": 6,
   "id": "99aa5969-bbde-4219-a566-686a647b7d38",
   "metadata": {},
   "outputs": [],
   "source": [
    "df = pd.get_dummies(df, columns=['state_number', 'proto_number', 'flgs_number'])"
   ]
  },
  {
   "cell_type": "code",
   "execution_count": 7,
   "id": "0f12f5a7-d53e-4d89-8889-015f9f5976d9",
   "metadata": {},
   "outputs": [],
   "source": [
    "df = df.reset_index()\n",
    "\n",
    "# Replace infinity values in the dataset. Not sure why we would have them?\n",
    "df.replace([np.inf, -np.inf], np.nan, inplace=True)\n",
    "df.fillna(0, inplace=True)\n",
    "df.drop(columns=['index'], inplace=True)"
   ]
  },
  {
   "cell_type": "code",
   "execution_count": 8,
   "id": "430eac7a-c53f-4f77-9f78-deb203488d5b",
   "metadata": {},
   "outputs": [
    {
     "data": {
      "text/plain": [
       "((72370443, 59),\n",
       " Index(['saddr', 'daddr', 'pkts', 'bytes', 'ltime', 'dur', 'mean', 'stddev',\n",
       "        'smac', 'dmac', 'sum', 'min', 'max', 'soui', 'doui', 'sco', 'dco',\n",
       "        'spkts', 'dpkts', 'sbytes', 'dbytes', 'rate', 'srate', 'drate', 'label',\n",
       "        'state_number_0', 'state_number_1', 'state_number_2', 'state_number_3',\n",
       "        'state_number_4', 'state_number_5', 'state_number_6', 'state_number_7',\n",
       "        'state_number_8', 'state_number_9', 'state_number_10',\n",
       "        'state_number_11', 'state_number_12', 'state_number_13',\n",
       "        'proto_number_0', 'proto_number_1', 'proto_number_2', 'proto_number_3',\n",
       "        'proto_number_4', 'proto_number_5', 'proto_number_6', 'flgs_number_0',\n",
       "        'flgs_number_1', 'flgs_number_2', 'flgs_number_3', 'flgs_number_4',\n",
       "        'flgs_number_5', 'flgs_number_6', 'flgs_number_7', 'flgs_number_8',\n",
       "        'flgs_number_9', 'flgs_number_10', 'flgs_number_11', 'flgs_number_12'],\n",
       "       dtype='object'))"
      ]
     },
     "execution_count": 8,
     "metadata": {},
     "output_type": "execute_result"
    }
   ],
   "source": [
    "df.shape, df.columns"
   ]
  },
  {
   "cell_type": "code",
   "execution_count": 9,
   "id": "c49cb218-a463-400f-ad8a-ca407f9987c3",
   "metadata": {},
   "outputs": [
    {
     "data": {
      "text/html": [
       "<div>\n",
       "<style scoped>\n",
       "    .dataframe tbody tr th:only-of-type {\n",
       "        vertical-align: middle;\n",
       "    }\n",
       "\n",
       "    .dataframe tbody tr th {\n",
       "        vertical-align: top;\n",
       "    }\n",
       "\n",
       "    .dataframe thead th {\n",
       "        text-align: right;\n",
       "    }\n",
       "</style>\n",
       "<table border=\"1\" class=\"dataframe\">\n",
       "  <thead>\n",
       "    <tr style=\"text-align: right;\">\n",
       "      <th></th>\n",
       "      <th>saddr</th>\n",
       "      <th>daddr</th>\n",
       "      <th>pkts</th>\n",
       "      <th>bytes</th>\n",
       "      <th>ltime</th>\n",
       "      <th>dur</th>\n",
       "      <th>mean</th>\n",
       "      <th>stddev</th>\n",
       "      <th>smac</th>\n",
       "      <th>dmac</th>\n",
       "      <th>...</th>\n",
       "      <th>flgs_number_3</th>\n",
       "      <th>flgs_number_4</th>\n",
       "      <th>flgs_number_5</th>\n",
       "      <th>flgs_number_6</th>\n",
       "      <th>flgs_number_7</th>\n",
       "      <th>flgs_number_8</th>\n",
       "      <th>flgs_number_9</th>\n",
       "      <th>flgs_number_10</th>\n",
       "      <th>flgs_number_11</th>\n",
       "      <th>flgs_number_12</th>\n",
       "    </tr>\n",
       "  </thead>\n",
       "  <tbody>\n",
       "    <tr>\n",
       "      <th>0</th>\n",
       "      <td>172.20.116.142:-1</td>\n",
       "      <td>192.168.100.3:-1</td>\n",
       "      <td>4</td>\n",
       "      <td>240</td>\n",
       "      <td>1.526345e+09</td>\n",
       "      <td>1195.996582</td>\n",
       "      <td>0.000006</td>\n",
       "      <td>0.000002</td>\n",
       "      <td>0.0</td>\n",
       "      <td>0.0</td>\n",
       "      <td>...</td>\n",
       "      <td>False</td>\n",
       "      <td>False</td>\n",
       "      <td>False</td>\n",
       "      <td>False</td>\n",
       "      <td>False</td>\n",
       "      <td>False</td>\n",
       "      <td>False</td>\n",
       "      <td>False</td>\n",
       "      <td>False</td>\n",
       "      <td>False</td>\n",
       "    </tr>\n",
       "    <tr>\n",
       "      <th>1</th>\n",
       "      <td>172.23.198.15:139</td>\n",
       "      <td>192.168.100.4:36390</td>\n",
       "      <td>10</td>\n",
       "      <td>680</td>\n",
       "      <td>1.526346e+09</td>\n",
       "      <td>1453.945923</td>\n",
       "      <td>0.000028</td>\n",
       "      <td>0.000008</td>\n",
       "      <td>0.0</td>\n",
       "      <td>0.0</td>\n",
       "      <td>...</td>\n",
       "      <td>False</td>\n",
       "      <td>False</td>\n",
       "      <td>False</td>\n",
       "      <td>False</td>\n",
       "      <td>False</td>\n",
       "      <td>False</td>\n",
       "      <td>False</td>\n",
       "      <td>False</td>\n",
       "      <td>False</td>\n",
       "      <td>False</td>\n",
       "    </tr>\n",
       "    <tr>\n",
       "      <th>2</th>\n",
       "      <td>172.18.144.36:51838</td>\n",
       "      <td>27.124.125.250:123</td>\n",
       "      <td>2</td>\n",
       "      <td>180</td>\n",
       "      <td>1.526344e+09</td>\n",
       "      <td>0.048565</td>\n",
       "      <td>0.048565</td>\n",
       "      <td>0.000000</td>\n",
       "      <td>0.0</td>\n",
       "      <td>0.0</td>\n",
       "      <td>...</td>\n",
       "      <td>False</td>\n",
       "      <td>False</td>\n",
       "      <td>False</td>\n",
       "      <td>False</td>\n",
       "      <td>False</td>\n",
       "      <td>False</td>\n",
       "      <td>False</td>\n",
       "      <td>False</td>\n",
       "      <td>False</td>\n",
       "      <td>False</td>\n",
       "    </tr>\n",
       "    <tr>\n",
       "      <th>3</th>\n",
       "      <td>172.19.40.134:-1</td>\n",
       "      <td>192.168.100.7:-1</td>\n",
       "      <td>10</td>\n",
       "      <td>510</td>\n",
       "      <td>1.526346e+09</td>\n",
       "      <td>1454.080322</td>\n",
       "      <td>0.000238</td>\n",
       "      <td>0.000022</td>\n",
       "      <td>0.0</td>\n",
       "      <td>0.0</td>\n",
       "      <td>...</td>\n",
       "      <td>False</td>\n",
       "      <td>False</td>\n",
       "      <td>False</td>\n",
       "      <td>False</td>\n",
       "      <td>False</td>\n",
       "      <td>False</td>\n",
       "      <td>False</td>\n",
       "      <td>False</td>\n",
       "      <td>False</td>\n",
       "      <td>False</td>\n",
       "    </tr>\n",
       "    <tr>\n",
       "      <th>4</th>\n",
       "      <td>172.16.213.21:58999</td>\n",
       "      <td>192.168.100.1:53</td>\n",
       "      <td>4</td>\n",
       "      <td>630</td>\n",
       "      <td>1.526345e+09</td>\n",
       "      <td>569.933960</td>\n",
       "      <td>0.098505</td>\n",
       "      <td>0.080150</td>\n",
       "      <td>0.0</td>\n",
       "      <td>0.0</td>\n",
       "      <td>...</td>\n",
       "      <td>False</td>\n",
       "      <td>False</td>\n",
       "      <td>False</td>\n",
       "      <td>False</td>\n",
       "      <td>False</td>\n",
       "      <td>False</td>\n",
       "      <td>False</td>\n",
       "      <td>False</td>\n",
       "      <td>False</td>\n",
       "      <td>False</td>\n",
       "    </tr>\n",
       "  </tbody>\n",
       "</table>\n",
       "<p>5 rows × 59 columns</p>\n",
       "</div>"
      ],
      "text/plain": [
       "                 saddr                daddr  pkts  bytes         ltime  \\\n",
       "0    172.20.116.142:-1     192.168.100.3:-1     4    240  1.526345e+09   \n",
       "1    172.23.198.15:139  192.168.100.4:36390    10    680  1.526346e+09   \n",
       "2  172.18.144.36:51838   27.124.125.250:123     2    180  1.526344e+09   \n",
       "3     172.19.40.134:-1     192.168.100.7:-1    10    510  1.526346e+09   \n",
       "4  172.16.213.21:58999     192.168.100.1:53     4    630  1.526345e+09   \n",
       "\n",
       "           dur      mean    stddev  smac  dmac  ...  flgs_number_3  \\\n",
       "0  1195.996582  0.000006  0.000002   0.0   0.0  ...          False   \n",
       "1  1453.945923  0.000028  0.000008   0.0   0.0  ...          False   \n",
       "2     0.048565  0.048565  0.000000   0.0   0.0  ...          False   \n",
       "3  1454.080322  0.000238  0.000022   0.0   0.0  ...          False   \n",
       "4   569.933960  0.098505  0.080150   0.0   0.0  ...          False   \n",
       "\n",
       "   flgs_number_4  flgs_number_5  flgs_number_6  flgs_number_7  flgs_number_8  \\\n",
       "0          False          False          False          False          False   \n",
       "1          False          False          False          False          False   \n",
       "2          False          False          False          False          False   \n",
       "3          False          False          False          False          False   \n",
       "4          False          False          False          False          False   \n",
       "\n",
       "   flgs_number_9  flgs_number_10  flgs_number_11  flgs_number_12  \n",
       "0          False           False           False           False  \n",
       "1          False           False           False           False  \n",
       "2          False           False           False           False  \n",
       "3          False           False           False           False  \n",
       "4          False           False           False           False  \n",
       "\n",
       "[5 rows x 59 columns]"
      ]
     },
     "execution_count": 9,
     "metadata": {},
     "output_type": "execute_result"
    }
   ],
   "source": [
    "df.head()"
   ]
  },
  {
   "cell_type": "markdown",
   "id": "0629a06f-32aa-42c7-bee9-b70d7913b5ba",
   "metadata": {},
   "source": [
    "At this point in the paper notebook, the dataset is `(3668522, 58)` while ours is `(72370443, 59)`. The extra column is most likely an additonal protocol in our data, but I can't confirm that statement. We also have many many more observations."
   ]
  },
  {
   "cell_type": "code",
   "execution_count": 10,
   "id": "88ebfcf6-f023-438b-a9ad-327e129755cc",
   "metadata": {},
   "outputs": [],
   "source": [
    "df.to_parquet('data/processed/bot.parquet')"
   ]
  },
  {
   "cell_type": "markdown",
   "id": "9c24acc1-4e0e-4654-ba14-4c93c219c6b0",
   "metadata": {},
   "source": [
    "The section below gets a little messy. Despite having 164gb memory, I wasn't able to perform scaling on the data without switching back to Dask. Then, when I tried to split the data, the Dask-ML version of train_test_split doesn't support straification. This forced me back to Pandas."
   ]
  },
  {
   "cell_type": "code",
   "execution_count": 2,
   "id": "6e7b2c45-8e18-4db9-88c9-9413172edf73",
   "metadata": {},
   "outputs": [],
   "source": [
    "ddf = dd.read_parquet('data/processed/bot.parquet')\n",
    "\n",
    "bool_columns = [\n",
    "    'state_number_0', 'state_number_1', 'state_number_2', 'state_number_3', 'state_number_4',\n",
    "    'state_number_5', 'state_number_6', 'state_number_7', 'state_number_8', 'state_number_9',\n",
    "    'state_number_10', 'state_number_11', 'state_number_12', 'state_number_13',\n",
    "    'proto_number_0', 'proto_number_1', 'proto_number_2', 'proto_number_3', 'proto_number_4',\n",
    "    'proto_number_5', 'proto_number_6',\n",
    "    'flgs_number_0', 'flgs_number_1', 'flgs_number_2', 'flgs_number_3', 'flgs_number_4',\n",
    "    'flgs_number_5', 'flgs_number_6', 'flgs_number_7', 'flgs_number_8', 'flgs_number_9',\n",
    "    'flgs_number_10', 'flgs_number_11', 'flgs_number_12'\n",
    "]\n",
    "\n",
    "# Convert boolean columns to integers\n",
    "ddf[bool_columns] = ddf[bool_columns].astype(int)"
   ]
  },
  {
   "cell_type": "code",
   "execution_count": 4,
   "id": "1c42871a-282b-4021-b101-5c4892bba02d",
   "metadata": {},
   "outputs": [],
   "source": [
    "# Scale the data and split for export\n",
    "scaler = StandardScaler()\n",
    "cols_to_norm = list(set(list(ddf.iloc[:, 2:].columns )) - set(list(['label'])))\n",
    "ddf_scaled = scaler.fit_transform(ddf[cols_to_norm])"
   ]
  },
  {
   "cell_type": "markdown",
   "id": "5e7414ab-ae2d-4ae6-815c-a0970c8ccec1",
   "metadata": {},
   "source": [
    "Save the scaler for inference."
   ]
  },
  {
   "cell_type": "code",
   "execution_count": 7,
   "id": "84741982-ff1b-4b94-b409-47abcaaa0845",
   "metadata": {},
   "outputs": [],
   "source": [
    "import pickle\n",
    "with open('data/processed/scaler.pkl','wb') as f:\n",
    "    pickle.dump(scaler, f)"
   ]
  },
  {
   "cell_type": "code",
   "execution_count": 8,
   "id": "ab479e25-9625-46fc-916f-d945ab4df8e4",
   "metadata": {},
   "outputs": [],
   "source": [
    "df = pd.read_parquet('data/processed/bot.parquet')"
   ]
  },
  {
   "cell_type": "code",
   "execution_count": 11,
   "id": "b6e8c833-085a-43de-b436-615258a42806",
   "metadata": {},
   "outputs": [],
   "source": [
    "label_ground_truth = df[['saddr', 'daddr', 'label']]\n",
    "\n",
    "X_train, X_test, y_train, y_test = train_test_split(\n",
    "     df, label_ground_truth, test_size=0.3, random_state=42, stratify=label_ground_truth.label\n",
    ")"
   ]
  },
  {
   "cell_type": "code",
   "execution_count": 12,
   "id": "bb7a756a-c732-4457-ba24-9f9c72f764c0",
   "metadata": {},
   "outputs": [],
   "source": [
    "X_train.to_parquet('data/final/x_train.parquet')\n",
    "X_test.to_parquet('data/final/x_test.parquet')\n",
    "y_train.to_parquet('data/final/y_train')\n",
    "y_test.to_parquet('data/final/y_test')"
   ]
  },
  {
   "cell_type": "markdown",
   "id": "fc330031-aa19-4cc6-85dd-3f3d77f48a70",
   "metadata": {},
   "source": [
    "-----------\n",
    "### Generate Graphs"
   ]
  },
  {
   "cell_type": "code",
   "execution_count": 2,
   "id": "8d9400cc-7e3f-47de-8bff-1d8935e7ddee",
   "metadata": {},
   "outputs": [],
   "source": [
    "# Reload from disk to free memory.\n",
    "X_train = pd.read_parquet('data/final/x_train.parquet')\n",
    "cols_to_norm = list(set(list(X_train.iloc[:, 2:].columns )) - set(list(['label'])))\n",
    "\n",
    "\n",
    "X_train['h'] = X_train[cols_to_norm].values.tolist()\n",
    "G = nx.from_pandas_edgelist(X_train, \"saddr\", \"daddr\", ['h','label'], create_using= nx.MultiGraph())"
   ]
  },
  {
   "cell_type": "markdown",
   "id": "619509bd-f1ba-4d84-9e5e-10b81976c52b",
   "metadata": {},
   "source": [
    "The above graph fills up 90% of my memory. Forming the directed graph causes it to hit 100% and kill the kernel."
   ]
  },
  {
   "cell_type": "code",
   "execution_count": null,
   "id": "2e7a6d9e-578e-42de-b568-e2669b2f12d6",
   "metadata": {},
   "outputs": [],
   "source": [
    "G = G.to_directed()\n",
    "G = from_networkx(G,edge_attrs=['h','label'])"
   ]
  },
  {
   "cell_type": "code",
   "execution_count": null,
   "id": "f5a64e67-e2e5-4e02-a90c-12e166860738",
   "metadata": {},
   "outputs": [],
   "source": []
  }
 ],
 "metadata": {
  "kernelspec": {
   "display_name": "Python 3 (ipykernel)",
   "language": "python",
   "name": "python3"
  },
  "language_info": {
   "codemirror_mode": {
    "name": "ipython",
    "version": 3
   },
   "file_extension": ".py",
   "mimetype": "text/x-python",
   "name": "python",
   "nbconvert_exporter": "python",
   "pygments_lexer": "ipython3",
   "version": "3.11.5"
  }
 },
 "nbformat": 4,
 "nbformat_minor": 5
}
