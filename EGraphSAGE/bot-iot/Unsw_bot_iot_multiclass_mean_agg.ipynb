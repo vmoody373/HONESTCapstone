{
 "cells": [
  {
   "cell_type": "code",
   "execution_count": 1,
   "metadata": {
    "colab": {
     "base_uri": "https://localhost:8080/"
    },
    "id": "mS0bWISTqhMI",
    "outputId": "a6cbe1aa-ab9a-4d02-cc1c-d3e9514e8748"
   },
   "outputs": [
    {
     "name": "stderr",
     "output_type": "stream",
     "text": [
      "Using backend: pytorch\n",
      "/usr/local/lib/python3.6/dist-packages/statsmodels/tools/_testing.py:19: FutureWarning: pandas.util.testing is deprecated. Use the functions in the public API at pandas.testing instead.\n",
      "  import pandas.util.testing as tm\n"
     ]
    }
   ],
   "source": [
    "import dgl.nn as dglnn\n",
    "from dgl import from_networkx\n",
    "import torch.nn as nn\n",
    "import torch as th\n",
    "import torch.nn.functional as F\n",
    "import dgl.function as fn\n",
    "import networkx as nx\n",
    "import pandas as pd\n",
    "import socket\n",
    "import struct\n",
    "import random\n",
    "from sklearn.preprocessing import LabelEncoder\n",
    "from sklearn.preprocessing import StandardScaler\n",
    "from sklearn.model_selection import train_test_split\n",
    "import category_encoders as ce\n",
    "from sklearn.decomposition import PCA\n",
    "import seaborn as sns\n",
    "import matplotlib.pyplot as plt\n",
    "import numpy as np"
   ]
  },
  {
   "cell_type": "code",
   "execution_count": 2,
   "metadata": {
    "id": "ki0watiErdJp"
   },
   "outputs": [],
   "source": [
    "data = pd.read_csv('/content/NF-BoT-IoT.csv')"
   ]
  },
  {
   "cell_type": "code",
   "execution_count": 3,
   "metadata": {
    "colab": {
     "base_uri": "https://localhost:8080/",
     "height": 439
    },
    "id": "0JmyVopVrqWQ",
    "outputId": "7dd4b901-c0c4-4bb4-b5fa-d504fe9821f2"
   },
   "outputs": [
    {
     "data": {
      "text/html": [
       "<div>\n",
       "<style scoped>\n",
       "    .dataframe tbody tr th:only-of-type {\n",
       "        vertical-align: middle;\n",
       "    }\n",
       "\n",
       "    .dataframe tbody tr th {\n",
       "        vertical-align: top;\n",
       "    }\n",
       "\n",
       "    .dataframe thead th {\n",
       "        text-align: right;\n",
       "    }\n",
       "</style>\n",
       "<table border=\"1\" class=\"dataframe\">\n",
       "  <thead>\n",
       "    <tr style=\"text-align: right;\">\n",
       "      <th></th>\n",
       "      <th>IPV4_SRC_ADDR</th>\n",
       "      <th>L4_SRC_PORT</th>\n",
       "      <th>IPV4_DST_ADDR</th>\n",
       "      <th>L4_DST_PORT</th>\n",
       "      <th>PROTOCOL</th>\n",
       "      <th>L7_PROTO</th>\n",
       "      <th>IN_BYTES</th>\n",
       "      <th>OUT_BYTES</th>\n",
       "      <th>IN_PKTS</th>\n",
       "      <th>OUT_PKTS</th>\n",
       "      <th>TCP_FLAGS</th>\n",
       "      <th>FLOW_DURATION_MILLISECONDS</th>\n",
       "      <th>Label</th>\n",
       "      <th>Attack</th>\n",
       "    </tr>\n",
       "  </thead>\n",
       "  <tbody>\n",
       "    <tr>\n",
       "      <th>0</th>\n",
       "      <td>192.168.100.6</td>\n",
       "      <td>52670</td>\n",
       "      <td>192.168.100.1</td>\n",
       "      <td>53</td>\n",
       "      <td>17</td>\n",
       "      <td>5.212</td>\n",
       "      <td>71</td>\n",
       "      <td>126</td>\n",
       "      <td>1</td>\n",
       "      <td>1</td>\n",
       "      <td>0</td>\n",
       "      <td>4294966</td>\n",
       "      <td>0</td>\n",
       "      <td>Benign</td>\n",
       "    </tr>\n",
       "    <tr>\n",
       "      <th>1</th>\n",
       "      <td>192.168.100.6</td>\n",
       "      <td>49160</td>\n",
       "      <td>192.168.100.149</td>\n",
       "      <td>4444</td>\n",
       "      <td>6</td>\n",
       "      <td>0.000</td>\n",
       "      <td>217753000</td>\n",
       "      <td>199100</td>\n",
       "      <td>4521</td>\n",
       "      <td>4049</td>\n",
       "      <td>24</td>\n",
       "      <td>4176249</td>\n",
       "      <td>1</td>\n",
       "      <td>Theft</td>\n",
       "    </tr>\n",
       "    <tr>\n",
       "      <th>2</th>\n",
       "      <td>192.168.100.46</td>\n",
       "      <td>3456</td>\n",
       "      <td>192.168.100.5</td>\n",
       "      <td>80</td>\n",
       "      <td>17</td>\n",
       "      <td>0.000</td>\n",
       "      <td>8508021</td>\n",
       "      <td>8918372</td>\n",
       "      <td>9086</td>\n",
       "      <td>9086</td>\n",
       "      <td>0</td>\n",
       "      <td>4175916</td>\n",
       "      <td>0</td>\n",
       "      <td>Benign</td>\n",
       "    </tr>\n",
       "    <tr>\n",
       "      <th>3</th>\n",
       "      <td>192.168.100.3</td>\n",
       "      <td>80</td>\n",
       "      <td>192.168.100.55</td>\n",
       "      <td>8080</td>\n",
       "      <td>6</td>\n",
       "      <td>7.000</td>\n",
       "      <td>8442138</td>\n",
       "      <td>9013406</td>\n",
       "      <td>9086</td>\n",
       "      <td>9086</td>\n",
       "      <td>0</td>\n",
       "      <td>4175916</td>\n",
       "      <td>0</td>\n",
       "      <td>Benign</td>\n",
       "    </tr>\n",
       "    <tr>\n",
       "      <th>4</th>\n",
       "      <td>192.168.100.46</td>\n",
       "      <td>80</td>\n",
       "      <td>192.168.100.5</td>\n",
       "      <td>80</td>\n",
       "      <td>6</td>\n",
       "      <td>7.000</td>\n",
       "      <td>8374706</td>\n",
       "      <td>0</td>\n",
       "      <td>9086</td>\n",
       "      <td>0</td>\n",
       "      <td>0</td>\n",
       "      <td>4175916</td>\n",
       "      <td>0</td>\n",
       "      <td>Benign</td>\n",
       "    </tr>\n",
       "    <tr>\n",
       "      <th>...</th>\n",
       "      <td>...</td>\n",
       "      <td>...</td>\n",
       "      <td>...</td>\n",
       "      <td>...</td>\n",
       "      <td>...</td>\n",
       "      <td>...</td>\n",
       "      <td>...</td>\n",
       "      <td>...</td>\n",
       "      <td>...</td>\n",
       "      <td>...</td>\n",
       "      <td>...</td>\n",
       "      <td>...</td>\n",
       "      <td>...</td>\n",
       "      <td>...</td>\n",
       "    </tr>\n",
       "    <tr>\n",
       "      <th>600095</th>\n",
       "      <td>192.168.100.46</td>\n",
       "      <td>80</td>\n",
       "      <td>192.168.100.5</td>\n",
       "      <td>80</td>\n",
       "      <td>6</td>\n",
       "      <td>7.000</td>\n",
       "      <td>2330065</td>\n",
       "      <td>0</td>\n",
       "      <td>2523</td>\n",
       "      <td>0</td>\n",
       "      <td>0</td>\n",
       "      <td>4263037</td>\n",
       "      <td>0</td>\n",
       "      <td>Benign</td>\n",
       "    </tr>\n",
       "    <tr>\n",
       "      <th>600096</th>\n",
       "      <td>192.168.100.5</td>\n",
       "      <td>0</td>\n",
       "      <td>192.168.100.3</td>\n",
       "      <td>0</td>\n",
       "      <td>6</td>\n",
       "      <td>0.000</td>\n",
       "      <td>1054423</td>\n",
       "      <td>0</td>\n",
       "      <td>1513</td>\n",
       "      <td>0</td>\n",
       "      <td>0</td>\n",
       "      <td>4263062</td>\n",
       "      <td>0</td>\n",
       "      <td>Benign</td>\n",
       "    </tr>\n",
       "    <tr>\n",
       "      <th>600097</th>\n",
       "      <td>192.168.100.7</td>\n",
       "      <td>365</td>\n",
       "      <td>192.168.100.3</td>\n",
       "      <td>565</td>\n",
       "      <td>17</td>\n",
       "      <td>0.000</td>\n",
       "      <td>62422</td>\n",
       "      <td>0</td>\n",
       "      <td>1357</td>\n",
       "      <td>0</td>\n",
       "      <td>0</td>\n",
       "      <td>4263062</td>\n",
       "      <td>0</td>\n",
       "      <td>Benign</td>\n",
       "    </tr>\n",
       "    <tr>\n",
       "      <th>600098</th>\n",
       "      <td>192.168.100.3</td>\n",
       "      <td>50850</td>\n",
       "      <td>13.54.166.67</td>\n",
       "      <td>8883</td>\n",
       "      <td>6</td>\n",
       "      <td>222.178</td>\n",
       "      <td>11300</td>\n",
       "      <td>1664</td>\n",
       "      <td>32</td>\n",
       "      <td>32</td>\n",
       "      <td>24</td>\n",
       "      <td>4264935</td>\n",
       "      <td>0</td>\n",
       "      <td>Benign</td>\n",
       "    </tr>\n",
       "    <tr>\n",
       "      <th>600099</th>\n",
       "      <td>192.168.100.6</td>\n",
       "      <td>49160</td>\n",
       "      <td>192.168.100.149</td>\n",
       "      <td>4444</td>\n",
       "      <td>6</td>\n",
       "      <td>0.000</td>\n",
       "      <td>40102320</td>\n",
       "      <td>37280</td>\n",
       "      <td>763</td>\n",
       "      <td>590</td>\n",
       "      <td>24</td>\n",
       "      <td>4270068</td>\n",
       "      <td>1</td>\n",
       "      <td>Theft</td>\n",
       "    </tr>\n",
       "  </tbody>\n",
       "</table>\n",
       "<p>600100 rows × 14 columns</p>\n",
       "</div>"
      ],
      "text/plain": [
       "         IPV4_SRC_ADDR  L4_SRC_PORT  ... Label  Attack\n",
       "0        192.168.100.6        52670  ...     0  Benign\n",
       "1        192.168.100.6        49160  ...     1   Theft\n",
       "2       192.168.100.46         3456  ...     0  Benign\n",
       "3        192.168.100.3           80  ...     0  Benign\n",
       "4       192.168.100.46           80  ...     0  Benign\n",
       "...                ...          ...  ...   ...     ...\n",
       "600095  192.168.100.46           80  ...     0  Benign\n",
       "600096   192.168.100.5            0  ...     0  Benign\n",
       "600097   192.168.100.7          365  ...     0  Benign\n",
       "600098   192.168.100.3        50850  ...     0  Benign\n",
       "600099   192.168.100.6        49160  ...     1   Theft\n",
       "\n",
       "[600100 rows x 14 columns]"
      ]
     },
     "execution_count": 3,
     "metadata": {
      "tags": []
     },
     "output_type": "execute_result"
    }
   ],
   "source": [
    "data"
   ]
  },
  {
   "cell_type": "code",
   "execution_count": 4,
   "metadata": {
    "id": "PoVYaeFZtJBd"
   },
   "outputs": [],
   "source": [
    "data['IPV4_SRC_ADDR'] = data.IPV4_SRC_ADDR.apply(lambda x: socket.inet_ntoa(struct.pack('>I', random.randint(0xac100001, 0xac1f0001))))"
   ]
  },
  {
   "cell_type": "code",
   "execution_count": 5,
   "metadata": {
    "id": "zs4z58WCtu8k"
   },
   "outputs": [],
   "source": [
    "data['IPV4_SRC_ADDR'] = data.IPV4_SRC_ADDR.apply(str)\n",
    "data['L4_SRC_PORT'] = data.L4_SRC_PORT.apply(str)\n",
    "data['IPV4_DST_ADDR'] = data.IPV4_DST_ADDR.apply(str)\n",
    "data['L4_DST_PORT'] = data.L4_DST_PORT.apply(str)"
   ]
  },
  {
   "cell_type": "code",
   "execution_count": 6,
   "metadata": {
    "id": "9EEwTAK3tle9"
   },
   "outputs": [],
   "source": [
    "data['IPV4_SRC_ADDR'] = data['IPV4_SRC_ADDR'] + ':' + data['L4_SRC_PORT']\n",
    "data['IPV4_DST_ADDR'] = data['IPV4_DST_ADDR'] + ':' + data['L4_DST_PORT']"
   ]
  },
  {
   "cell_type": "code",
   "execution_count": 7,
   "metadata": {
    "id": "xbdaHUxOtzd-"
   },
   "outputs": [],
   "source": [
    "data.drop(columns=['L4_SRC_PORT','L4_DST_PORT'],inplace=True)"
   ]
  },
  {
   "cell_type": "code",
   "execution_count": 8,
   "metadata": {
    "colab": {
     "base_uri": "https://localhost:8080/",
     "height": 419
    },
    "id": "CN9rLLmr0eeI",
    "outputId": "ccd523c2-0cba-46a4-aef1-434f6a2b741b"
   },
   "outputs": [
    {
     "data": {
      "text/html": [
       "<div>\n",
       "<style scoped>\n",
       "    .dataframe tbody tr th:only-of-type {\n",
       "        vertical-align: middle;\n",
       "    }\n",
       "\n",
       "    .dataframe tbody tr th {\n",
       "        vertical-align: top;\n",
       "    }\n",
       "\n",
       "    .dataframe thead th {\n",
       "        text-align: right;\n",
       "    }\n",
       "</style>\n",
       "<table border=\"1\" class=\"dataframe\">\n",
       "  <thead>\n",
       "    <tr style=\"text-align: right;\">\n",
       "      <th></th>\n",
       "      <th>IPV4_SRC_ADDR</th>\n",
       "      <th>IPV4_DST_ADDR</th>\n",
       "      <th>PROTOCOL</th>\n",
       "      <th>L7_PROTO</th>\n",
       "      <th>IN_BYTES</th>\n",
       "      <th>OUT_BYTES</th>\n",
       "      <th>IN_PKTS</th>\n",
       "      <th>OUT_PKTS</th>\n",
       "      <th>TCP_FLAGS</th>\n",
       "      <th>FLOW_DURATION_MILLISECONDS</th>\n",
       "      <th>Label</th>\n",
       "      <th>Attack</th>\n",
       "    </tr>\n",
       "  </thead>\n",
       "  <tbody>\n",
       "    <tr>\n",
       "      <th>0</th>\n",
       "      <td>172.24.221.25:52670</td>\n",
       "      <td>192.168.100.1:53</td>\n",
       "      <td>17</td>\n",
       "      <td>5.212</td>\n",
       "      <td>71</td>\n",
       "      <td>126</td>\n",
       "      <td>1</td>\n",
       "      <td>1</td>\n",
       "      <td>0</td>\n",
       "      <td>4294966</td>\n",
       "      <td>0</td>\n",
       "      <td>Benign</td>\n",
       "    </tr>\n",
       "    <tr>\n",
       "      <th>1</th>\n",
       "      <td>172.30.40.30:49160</td>\n",
       "      <td>192.168.100.149:4444</td>\n",
       "      <td>6</td>\n",
       "      <td>0.000</td>\n",
       "      <td>217753000</td>\n",
       "      <td>199100</td>\n",
       "      <td>4521</td>\n",
       "      <td>4049</td>\n",
       "      <td>24</td>\n",
       "      <td>4176249</td>\n",
       "      <td>1</td>\n",
       "      <td>Theft</td>\n",
       "    </tr>\n",
       "    <tr>\n",
       "      <th>2</th>\n",
       "      <td>172.18.33.9:3456</td>\n",
       "      <td>192.168.100.5:80</td>\n",
       "      <td>17</td>\n",
       "      <td>0.000</td>\n",
       "      <td>8508021</td>\n",
       "      <td>8918372</td>\n",
       "      <td>9086</td>\n",
       "      <td>9086</td>\n",
       "      <td>0</td>\n",
       "      <td>4175916</td>\n",
       "      <td>0</td>\n",
       "      <td>Benign</td>\n",
       "    </tr>\n",
       "    <tr>\n",
       "      <th>3</th>\n",
       "      <td>172.28.162.77:80</td>\n",
       "      <td>192.168.100.55:8080</td>\n",
       "      <td>6</td>\n",
       "      <td>7.000</td>\n",
       "      <td>8442138</td>\n",
       "      <td>9013406</td>\n",
       "      <td>9086</td>\n",
       "      <td>9086</td>\n",
       "      <td>0</td>\n",
       "      <td>4175916</td>\n",
       "      <td>0</td>\n",
       "      <td>Benign</td>\n",
       "    </tr>\n",
       "    <tr>\n",
       "      <th>4</th>\n",
       "      <td>172.16.172.176:80</td>\n",
       "      <td>192.168.100.5:80</td>\n",
       "      <td>6</td>\n",
       "      <td>7.000</td>\n",
       "      <td>8374706</td>\n",
       "      <td>0</td>\n",
       "      <td>9086</td>\n",
       "      <td>0</td>\n",
       "      <td>0</td>\n",
       "      <td>4175916</td>\n",
       "      <td>0</td>\n",
       "      <td>Benign</td>\n",
       "    </tr>\n",
       "    <tr>\n",
       "      <th>...</th>\n",
       "      <td>...</td>\n",
       "      <td>...</td>\n",
       "      <td>...</td>\n",
       "      <td>...</td>\n",
       "      <td>...</td>\n",
       "      <td>...</td>\n",
       "      <td>...</td>\n",
       "      <td>...</td>\n",
       "      <td>...</td>\n",
       "      <td>...</td>\n",
       "      <td>...</td>\n",
       "      <td>...</td>\n",
       "    </tr>\n",
       "    <tr>\n",
       "      <th>600095</th>\n",
       "      <td>172.29.255.125:80</td>\n",
       "      <td>192.168.100.5:80</td>\n",
       "      <td>6</td>\n",
       "      <td>7.000</td>\n",
       "      <td>2330065</td>\n",
       "      <td>0</td>\n",
       "      <td>2523</td>\n",
       "      <td>0</td>\n",
       "      <td>0</td>\n",
       "      <td>4263037</td>\n",
       "      <td>0</td>\n",
       "      <td>Benign</td>\n",
       "    </tr>\n",
       "    <tr>\n",
       "      <th>600096</th>\n",
       "      <td>172.23.113.241:0</td>\n",
       "      <td>192.168.100.3:0</td>\n",
       "      <td>6</td>\n",
       "      <td>0.000</td>\n",
       "      <td>1054423</td>\n",
       "      <td>0</td>\n",
       "      <td>1513</td>\n",
       "      <td>0</td>\n",
       "      <td>0</td>\n",
       "      <td>4263062</td>\n",
       "      <td>0</td>\n",
       "      <td>Benign</td>\n",
       "    </tr>\n",
       "    <tr>\n",
       "      <th>600097</th>\n",
       "      <td>172.18.235.164:365</td>\n",
       "      <td>192.168.100.3:565</td>\n",
       "      <td>17</td>\n",
       "      <td>0.000</td>\n",
       "      <td>62422</td>\n",
       "      <td>0</td>\n",
       "      <td>1357</td>\n",
       "      <td>0</td>\n",
       "      <td>0</td>\n",
       "      <td>4263062</td>\n",
       "      <td>0</td>\n",
       "      <td>Benign</td>\n",
       "    </tr>\n",
       "    <tr>\n",
       "      <th>600098</th>\n",
       "      <td>172.22.128.93:50850</td>\n",
       "      <td>13.54.166.67:8883</td>\n",
       "      <td>6</td>\n",
       "      <td>222.178</td>\n",
       "      <td>11300</td>\n",
       "      <td>1664</td>\n",
       "      <td>32</td>\n",
       "      <td>32</td>\n",
       "      <td>24</td>\n",
       "      <td>4264935</td>\n",
       "      <td>0</td>\n",
       "      <td>Benign</td>\n",
       "    </tr>\n",
       "    <tr>\n",
       "      <th>600099</th>\n",
       "      <td>172.25.237.107:49160</td>\n",
       "      <td>192.168.100.149:4444</td>\n",
       "      <td>6</td>\n",
       "      <td>0.000</td>\n",
       "      <td>40102320</td>\n",
       "      <td>37280</td>\n",
       "      <td>763</td>\n",
       "      <td>590</td>\n",
       "      <td>24</td>\n",
       "      <td>4270068</td>\n",
       "      <td>1</td>\n",
       "      <td>Theft</td>\n",
       "    </tr>\n",
       "  </tbody>\n",
       "</table>\n",
       "<p>600100 rows × 12 columns</p>\n",
       "</div>"
      ],
      "text/plain": [
       "               IPV4_SRC_ADDR         IPV4_DST_ADDR  ...  Label  Attack\n",
       "0        172.24.221.25:52670      192.168.100.1:53  ...      0  Benign\n",
       "1         172.30.40.30:49160  192.168.100.149:4444  ...      1   Theft\n",
       "2           172.18.33.9:3456      192.168.100.5:80  ...      0  Benign\n",
       "3           172.28.162.77:80   192.168.100.55:8080  ...      0  Benign\n",
       "4          172.16.172.176:80      192.168.100.5:80  ...      0  Benign\n",
       "...                      ...                   ...  ...    ...     ...\n",
       "600095     172.29.255.125:80      192.168.100.5:80  ...      0  Benign\n",
       "600096      172.23.113.241:0       192.168.100.3:0  ...      0  Benign\n",
       "600097    172.18.235.164:365     192.168.100.3:565  ...      0  Benign\n",
       "600098   172.22.128.93:50850     13.54.166.67:8883  ...      0  Benign\n",
       "600099  172.25.237.107:49160  192.168.100.149:4444  ...      1   Theft\n",
       "\n",
       "[600100 rows x 12 columns]"
      ]
     },
     "execution_count": 8,
     "metadata": {
      "tags": []
     },
     "output_type": "execute_result"
    }
   ],
   "source": [
    "data"
   ]
  },
  {
   "cell_type": "code",
   "execution_count": 9,
   "metadata": {
    "id": "C_WU15ngvnBM"
   },
   "outputs": [],
   "source": [
    "data.drop(columns=['Label'],inplace = True)"
   ]
  },
  {
   "cell_type": "code",
   "execution_count": 10,
   "metadata": {
    "id": "Q0d3nbdiv37j"
   },
   "outputs": [],
   "source": [
    "data.rename(columns={\"Attack\": \"label\"},inplace = True)"
   ]
  },
  {
   "cell_type": "code",
   "execution_count": 11,
   "metadata": {
    "id": "yjS-hTKDzI29"
   },
   "outputs": [],
   "source": [
    "le = LabelEncoder()\n",
    "le.fit_transform(data.label.values)\n",
    "data['label'] = le.transform(data['label'])"
   ]
  },
  {
   "cell_type": "code",
   "execution_count": 12,
   "metadata": {
    "id": "SVgjPVfg03XG"
   },
   "outputs": [],
   "source": [
    "label = data.label"
   ]
  },
  {
   "cell_type": "code",
   "execution_count": 13,
   "metadata": {
    "id": "ADl2Fj7H08Rr"
   },
   "outputs": [],
   "source": [
    "data.drop(columns=['label'],inplace = True)"
   ]
  },
  {
   "cell_type": "code",
   "execution_count": 14,
   "metadata": {
    "id": "qhsZMD3uwLk7"
   },
   "outputs": [],
   "source": [
    "scaler = StandardScaler()"
   ]
  },
  {
   "cell_type": "code",
   "execution_count": 15,
   "metadata": {
    "id": "aukoVdNf2zcp"
   },
   "outputs": [],
   "source": [
    "data =  pd.concat([data, label], axis=1)"
   ]
  },
  {
   "cell_type": "code",
   "execution_count": 16,
   "metadata": {
    "colab": {
     "base_uri": "https://localhost:8080/",
     "height": 419
    },
    "id": "IP-ZEZW4nxSm",
    "outputId": "d3f123dd-51b2-447d-958b-05c3109bb362"
   },
   "outputs": [
    {
     "data": {
      "text/html": [
       "<div>\n",
       "<style scoped>\n",
       "    .dataframe tbody tr th:only-of-type {\n",
       "        vertical-align: middle;\n",
       "    }\n",
       "\n",
       "    .dataframe tbody tr th {\n",
       "        vertical-align: top;\n",
       "    }\n",
       "\n",
       "    .dataframe thead th {\n",
       "        text-align: right;\n",
       "    }\n",
       "</style>\n",
       "<table border=\"1\" class=\"dataframe\">\n",
       "  <thead>\n",
       "    <tr style=\"text-align: right;\">\n",
       "      <th></th>\n",
       "      <th>IPV4_SRC_ADDR</th>\n",
       "      <th>IPV4_DST_ADDR</th>\n",
       "      <th>PROTOCOL</th>\n",
       "      <th>L7_PROTO</th>\n",
       "      <th>IN_BYTES</th>\n",
       "      <th>OUT_BYTES</th>\n",
       "      <th>IN_PKTS</th>\n",
       "      <th>OUT_PKTS</th>\n",
       "      <th>TCP_FLAGS</th>\n",
       "      <th>FLOW_DURATION_MILLISECONDS</th>\n",
       "      <th>label</th>\n",
       "    </tr>\n",
       "  </thead>\n",
       "  <tbody>\n",
       "    <tr>\n",
       "      <th>0</th>\n",
       "      <td>172.24.221.25:52670</td>\n",
       "      <td>192.168.100.1:53</td>\n",
       "      <td>17</td>\n",
       "      <td>5.212</td>\n",
       "      <td>71</td>\n",
       "      <td>126</td>\n",
       "      <td>1</td>\n",
       "      <td>1</td>\n",
       "      <td>0</td>\n",
       "      <td>4294966</td>\n",
       "      <td>0</td>\n",
       "    </tr>\n",
       "    <tr>\n",
       "      <th>1</th>\n",
       "      <td>172.30.40.30:49160</td>\n",
       "      <td>192.168.100.149:4444</td>\n",
       "      <td>6</td>\n",
       "      <td>0.000</td>\n",
       "      <td>217753000</td>\n",
       "      <td>199100</td>\n",
       "      <td>4521</td>\n",
       "      <td>4049</td>\n",
       "      <td>24</td>\n",
       "      <td>4176249</td>\n",
       "      <td>4</td>\n",
       "    </tr>\n",
       "    <tr>\n",
       "      <th>2</th>\n",
       "      <td>172.18.33.9:3456</td>\n",
       "      <td>192.168.100.5:80</td>\n",
       "      <td>17</td>\n",
       "      <td>0.000</td>\n",
       "      <td>8508021</td>\n",
       "      <td>8918372</td>\n",
       "      <td>9086</td>\n",
       "      <td>9086</td>\n",
       "      <td>0</td>\n",
       "      <td>4175916</td>\n",
       "      <td>0</td>\n",
       "    </tr>\n",
       "    <tr>\n",
       "      <th>3</th>\n",
       "      <td>172.28.162.77:80</td>\n",
       "      <td>192.168.100.55:8080</td>\n",
       "      <td>6</td>\n",
       "      <td>7.000</td>\n",
       "      <td>8442138</td>\n",
       "      <td>9013406</td>\n",
       "      <td>9086</td>\n",
       "      <td>9086</td>\n",
       "      <td>0</td>\n",
       "      <td>4175916</td>\n",
       "      <td>0</td>\n",
       "    </tr>\n",
       "    <tr>\n",
       "      <th>4</th>\n",
       "      <td>172.16.172.176:80</td>\n",
       "      <td>192.168.100.5:80</td>\n",
       "      <td>6</td>\n",
       "      <td>7.000</td>\n",
       "      <td>8374706</td>\n",
       "      <td>0</td>\n",
       "      <td>9086</td>\n",
       "      <td>0</td>\n",
       "      <td>0</td>\n",
       "      <td>4175916</td>\n",
       "      <td>0</td>\n",
       "    </tr>\n",
       "    <tr>\n",
       "      <th>...</th>\n",
       "      <td>...</td>\n",
       "      <td>...</td>\n",
       "      <td>...</td>\n",
       "      <td>...</td>\n",
       "      <td>...</td>\n",
       "      <td>...</td>\n",
       "      <td>...</td>\n",
       "      <td>...</td>\n",
       "      <td>...</td>\n",
       "      <td>...</td>\n",
       "      <td>...</td>\n",
       "    </tr>\n",
       "    <tr>\n",
       "      <th>600095</th>\n",
       "      <td>172.29.255.125:80</td>\n",
       "      <td>192.168.100.5:80</td>\n",
       "      <td>6</td>\n",
       "      <td>7.000</td>\n",
       "      <td>2330065</td>\n",
       "      <td>0</td>\n",
       "      <td>2523</td>\n",
       "      <td>0</td>\n",
       "      <td>0</td>\n",
       "      <td>4263037</td>\n",
       "      <td>0</td>\n",
       "    </tr>\n",
       "    <tr>\n",
       "      <th>600096</th>\n",
       "      <td>172.23.113.241:0</td>\n",
       "      <td>192.168.100.3:0</td>\n",
       "      <td>6</td>\n",
       "      <td>0.000</td>\n",
       "      <td>1054423</td>\n",
       "      <td>0</td>\n",
       "      <td>1513</td>\n",
       "      <td>0</td>\n",
       "      <td>0</td>\n",
       "      <td>4263062</td>\n",
       "      <td>0</td>\n",
       "    </tr>\n",
       "    <tr>\n",
       "      <th>600097</th>\n",
       "      <td>172.18.235.164:365</td>\n",
       "      <td>192.168.100.3:565</td>\n",
       "      <td>17</td>\n",
       "      <td>0.000</td>\n",
       "      <td>62422</td>\n",
       "      <td>0</td>\n",
       "      <td>1357</td>\n",
       "      <td>0</td>\n",
       "      <td>0</td>\n",
       "      <td>4263062</td>\n",
       "      <td>0</td>\n",
       "    </tr>\n",
       "    <tr>\n",
       "      <th>600098</th>\n",
       "      <td>172.22.128.93:50850</td>\n",
       "      <td>13.54.166.67:8883</td>\n",
       "      <td>6</td>\n",
       "      <td>222.178</td>\n",
       "      <td>11300</td>\n",
       "      <td>1664</td>\n",
       "      <td>32</td>\n",
       "      <td>32</td>\n",
       "      <td>24</td>\n",
       "      <td>4264935</td>\n",
       "      <td>0</td>\n",
       "    </tr>\n",
       "    <tr>\n",
       "      <th>600099</th>\n",
       "      <td>172.25.237.107:49160</td>\n",
       "      <td>192.168.100.149:4444</td>\n",
       "      <td>6</td>\n",
       "      <td>0.000</td>\n",
       "      <td>40102320</td>\n",
       "      <td>37280</td>\n",
       "      <td>763</td>\n",
       "      <td>590</td>\n",
       "      <td>24</td>\n",
       "      <td>4270068</td>\n",
       "      <td>4</td>\n",
       "    </tr>\n",
       "  </tbody>\n",
       "</table>\n",
       "<p>600100 rows × 11 columns</p>\n",
       "</div>"
      ],
      "text/plain": [
       "               IPV4_SRC_ADDR  ... label\n",
       "0        172.24.221.25:52670  ...     0\n",
       "1         172.30.40.30:49160  ...     4\n",
       "2           172.18.33.9:3456  ...     0\n",
       "3           172.28.162.77:80  ...     0\n",
       "4          172.16.172.176:80  ...     0\n",
       "...                      ...  ...   ...\n",
       "600095     172.29.255.125:80  ...     0\n",
       "600096      172.23.113.241:0  ...     0\n",
       "600097    172.18.235.164:365  ...     0\n",
       "600098   172.22.128.93:50850  ...     0\n",
       "600099  172.25.237.107:49160  ...     4\n",
       "\n",
       "[600100 rows x 11 columns]"
      ]
     },
     "execution_count": 16,
     "metadata": {
      "tags": []
     },
     "output_type": "execute_result"
    }
   ],
   "source": [
    "data"
   ]
  },
  {
   "cell_type": "code",
   "execution_count": 17,
   "metadata": {
    "id": "PUa4uJbewQc7"
   },
   "outputs": [],
   "source": [
    "X_train, X_test, y_train, y_test = train_test_split(\n",
    "     data, label, test_size=0.3, random_state=123,stratify= label)"
   ]
  },
  {
   "cell_type": "code",
   "execution_count": 18,
   "metadata": {
    "colab": {
     "base_uri": "https://localhost:8080/"
    },
    "id": "z3DrIWDHqNxp",
    "outputId": "e2777f43-f37e-4596-eb7b-21186d3bf389"
   },
   "outputs": [
    {
     "name": "stderr",
     "output_type": "stream",
     "text": [
      "/usr/local/lib/python3.6/dist-packages/category_encoders/utils.py:21: FutureWarning: is_categorical is deprecated and will be removed in a future version.  Use is_categorical_dtype instead\n",
      "  elif pd.api.types.is_categorical(cols):\n"
     ]
    }
   ],
   "source": [
    "encoder = ce.TargetEncoder(cols=['TCP_FLAGS','L7_PROTO','PROTOCOL'])\n",
    "encoder.fit(X_train, y_train)\n",
    "X_train = encoder.transform(X_train)"
   ]
  },
  {
   "cell_type": "code",
   "execution_count": 19,
   "metadata": {
    "id": "EDKYHCbcqN81"
   },
   "outputs": [],
   "source": [
    "cols_to_norm = list(set(list(X_train.iloc[:, 2:].columns ))  - set(list(['label'])) )\n",
    "X_train[cols_to_norm] = scaler.fit_transform(X_train[cols_to_norm])"
   ]
  },
  {
   "cell_type": "code",
   "execution_count": 20,
   "metadata": {
    "id": "ek535MkWwUHN"
   },
   "outputs": [],
   "source": [
    "X_train['h'] = X_train[ cols_to_norm ].values.tolist()"
   ]
  },
  {
   "cell_type": "code",
   "execution_count": 21,
   "metadata": {
    "colab": {
     "base_uri": "https://localhost:8080/",
     "height": 711
    },
    "id": "v4mfPB0X9rRX",
    "outputId": "29a8752f-28cd-49b4-c4c1-15e0d58d4a6a"
   },
   "outputs": [
    {
     "data": {
      "text/html": [
       "<div>\n",
       "<style scoped>\n",
       "    .dataframe tbody tr th:only-of-type {\n",
       "        vertical-align: middle;\n",
       "    }\n",
       "\n",
       "    .dataframe tbody tr th {\n",
       "        vertical-align: top;\n",
       "    }\n",
       "\n",
       "    .dataframe thead th {\n",
       "        text-align: right;\n",
       "    }\n",
       "</style>\n",
       "<table border=\"1\" class=\"dataframe\">\n",
       "  <thead>\n",
       "    <tr style=\"text-align: right;\">\n",
       "      <th></th>\n",
       "      <th>IPV4_SRC_ADDR</th>\n",
       "      <th>IPV4_DST_ADDR</th>\n",
       "      <th>PROTOCOL</th>\n",
       "      <th>L7_PROTO</th>\n",
       "      <th>IN_BYTES</th>\n",
       "      <th>OUT_BYTES</th>\n",
       "      <th>IN_PKTS</th>\n",
       "      <th>OUT_PKTS</th>\n",
       "      <th>TCP_FLAGS</th>\n",
       "      <th>FLOW_DURATION_MILLISECONDS</th>\n",
       "      <th>label</th>\n",
       "      <th>h</th>\n",
       "    </tr>\n",
       "  </thead>\n",
       "  <tbody>\n",
       "    <tr>\n",
       "      <th>592389</th>\n",
       "      <td>172.22.161.1:57470</td>\n",
       "      <td>192.168.100.3:80</td>\n",
       "      <td>0.256954</td>\n",
       "      <td>-1.663308</td>\n",
       "      <td>-0.010775</td>\n",
       "      <td>-0.007610</td>\n",
       "      <td>0.002649</td>\n",
       "      <td>-0.008687</td>\n",
       "      <td>-1.419793</td>\n",
       "      <td>-2.082482</td>\n",
       "      <td>3</td>\n",
       "      <td>[-0.008687378732836464, -0.010775447906154435,...</td>\n",
       "    </tr>\n",
       "    <tr>\n",
       "      <th>541914</th>\n",
       "      <td>172.20.109.96:53426</td>\n",
       "      <td>192.168.100.3:80</td>\n",
       "      <td>0.256954</td>\n",
       "      <td>-1.663308</td>\n",
       "      <td>-0.015998</td>\n",
       "      <td>-0.007551</td>\n",
       "      <td>-0.021496</td>\n",
       "      <td>-0.003471</td>\n",
       "      <td>-1.557296</td>\n",
       "      <td>-2.082482</td>\n",
       "      <td>1</td>\n",
       "      <td>[-0.003471109481788205, -0.015997749788891628,...</td>\n",
       "    </tr>\n",
       "    <tr>\n",
       "      <th>393332</th>\n",
       "      <td>172.23.80.235:60855</td>\n",
       "      <td>192.168.100.6:9080</td>\n",
       "      <td>0.256954</td>\n",
       "      <td>0.564662</td>\n",
       "      <td>-0.017433</td>\n",
       "      <td>-0.008378</td>\n",
       "      <td>-0.045641</td>\n",
       "      <td>-0.024336</td>\n",
       "      <td>0.675890</td>\n",
       "      <td>0.496292</td>\n",
       "      <td>3</td>\n",
       "      <td>[-0.02433618648598124, -0.01743253012037605, 0...</td>\n",
       "    </tr>\n",
       "    <tr>\n",
       "      <th>180488</th>\n",
       "      <td>172.29.38.38:14323</td>\n",
       "      <td>192.168.100.3:12139</td>\n",
       "      <td>0.256954</td>\n",
       "      <td>0.564662</td>\n",
       "      <td>-0.017440</td>\n",
       "      <td>-0.008378</td>\n",
       "      <td>-0.045641</td>\n",
       "      <td>-0.024336</td>\n",
       "      <td>0.675890</td>\n",
       "      <td>0.496292</td>\n",
       "      <td>3</td>\n",
       "      <td>[-0.02433618648598124, -0.017439993217028764, ...</td>\n",
       "    </tr>\n",
       "    <tr>\n",
       "      <th>207769</th>\n",
       "      <td>172.17.187.99:40317</td>\n",
       "      <td>192.168.100.5:5357</td>\n",
       "      <td>0.256954</td>\n",
       "      <td>0.564662</td>\n",
       "      <td>-0.017433</td>\n",
       "      <td>-0.008378</td>\n",
       "      <td>-0.045641</td>\n",
       "      <td>-0.024336</td>\n",
       "      <td>0.675890</td>\n",
       "      <td>0.496292</td>\n",
       "      <td>3</td>\n",
       "      <td>[-0.02433618648598124, -0.01743253012037605, 0...</td>\n",
       "    </tr>\n",
       "    <tr>\n",
       "      <th>...</th>\n",
       "      <td>...</td>\n",
       "      <td>...</td>\n",
       "      <td>...</td>\n",
       "      <td>...</td>\n",
       "      <td>...</td>\n",
       "      <td>...</td>\n",
       "      <td>...</td>\n",
       "      <td>...</td>\n",
       "      <td>...</td>\n",
       "      <td>...</td>\n",
       "      <td>...</td>\n",
       "      <td>...</td>\n",
       "    </tr>\n",
       "    <tr>\n",
       "      <th>96131</th>\n",
       "      <td>172.28.236.237:57963</td>\n",
       "      <td>192.168.100.5:1027</td>\n",
       "      <td>0.256954</td>\n",
       "      <td>0.564662</td>\n",
       "      <td>-0.017433</td>\n",
       "      <td>-0.008378</td>\n",
       "      <td>-0.045641</td>\n",
       "      <td>-0.024336</td>\n",
       "      <td>0.675890</td>\n",
       "      <td>0.496290</td>\n",
       "      <td>3</td>\n",
       "      <td>[-0.02433618648598124, -0.01743253012037605, 0...</td>\n",
       "    </tr>\n",
       "    <tr>\n",
       "      <th>583684</th>\n",
       "      <td>172.26.229.7:54248</td>\n",
       "      <td>192.168.100.3:80</td>\n",
       "      <td>0.256954</td>\n",
       "      <td>-1.663308</td>\n",
       "      <td>-0.016132</td>\n",
       "      <td>-0.007551</td>\n",
       "      <td>-0.021496</td>\n",
       "      <td>-0.003471</td>\n",
       "      <td>-1.557296</td>\n",
       "      <td>-2.082482</td>\n",
       "      <td>1</td>\n",
       "      <td>[-0.003471109481788205, -0.016132085528640493,...</td>\n",
       "    </tr>\n",
       "    <tr>\n",
       "      <th>599529</th>\n",
       "      <td>172.25.187.120:43797</td>\n",
       "      <td>192.168.100.150:4433</td>\n",
       "      <td>0.256954</td>\n",
       "      <td>0.564662</td>\n",
       "      <td>-0.017403</td>\n",
       "      <td>-0.008378</td>\n",
       "      <td>-0.045641</td>\n",
       "      <td>-0.024336</td>\n",
       "      <td>0.675890</td>\n",
       "      <td>0.496292</td>\n",
       "      <td>4</td>\n",
       "      <td>[-0.02433618648598124, -0.01740267773376519, 0...</td>\n",
       "    </tr>\n",
       "    <tr>\n",
       "      <th>352726</th>\n",
       "      <td>172.19.103.146:33197</td>\n",
       "      <td>192.168.100.5:90</td>\n",
       "      <td>0.256954</td>\n",
       "      <td>0.564662</td>\n",
       "      <td>-0.017433</td>\n",
       "      <td>-0.008378</td>\n",
       "      <td>-0.045641</td>\n",
       "      <td>-0.024336</td>\n",
       "      <td>0.675890</td>\n",
       "      <td>0.496289</td>\n",
       "      <td>3</td>\n",
       "      <td>[-0.02433618648598124, -0.01743253012037605, 0...</td>\n",
       "    </tr>\n",
       "    <tr>\n",
       "      <th>566386</th>\n",
       "      <td>172.28.138.12:48166</td>\n",
       "      <td>192.168.100.3:80</td>\n",
       "      <td>0.256954</td>\n",
       "      <td>-1.663308</td>\n",
       "      <td>-0.017306</td>\n",
       "      <td>-0.008424</td>\n",
       "      <td>-0.041617</td>\n",
       "      <td>-0.029552</td>\n",
       "      <td>0.675890</td>\n",
       "      <td>-1.679595</td>\n",
       "      <td>1</td>\n",
       "      <td>[-0.029552455737029498, -0.017305657477279898,...</td>\n",
       "    </tr>\n",
       "  </tbody>\n",
       "</table>\n",
       "<p>420070 rows × 12 columns</p>\n",
       "</div>"
      ],
      "text/plain": [
       "               IPV4_SRC_ADDR  ...                                                  h\n",
       "592389    172.22.161.1:57470  ...  [-0.008687378732836464, -0.010775447906154435,...\n",
       "541914   172.20.109.96:53426  ...  [-0.003471109481788205, -0.015997749788891628,...\n",
       "393332   172.23.80.235:60855  ...  [-0.02433618648598124, -0.01743253012037605, 0...\n",
       "180488    172.29.38.38:14323  ...  [-0.02433618648598124, -0.017439993217028764, ...\n",
       "207769   172.17.187.99:40317  ...  [-0.02433618648598124, -0.01743253012037605, 0...\n",
       "...                      ...  ...                                                ...\n",
       "96131   172.28.236.237:57963  ...  [-0.02433618648598124, -0.01743253012037605, 0...\n",
       "583684    172.26.229.7:54248  ...  [-0.003471109481788205, -0.016132085528640493,...\n",
       "599529  172.25.187.120:43797  ...  [-0.02433618648598124, -0.01740267773376519, 0...\n",
       "352726  172.19.103.146:33197  ...  [-0.02433618648598124, -0.01743253012037605, 0...\n",
       "566386   172.28.138.12:48166  ...  [-0.029552455737029498, -0.017305657477279898,...\n",
       "\n",
       "[420070 rows x 12 columns]"
      ]
     },
     "execution_count": 21,
     "metadata": {
      "tags": []
     },
     "output_type": "execute_result"
    }
   ],
   "source": [
    "X_train"
   ]
  },
  {
   "cell_type": "code",
   "execution_count": 22,
   "metadata": {
    "id": "OIrcNfMSwa0j"
   },
   "outputs": [],
   "source": [
    "G = nx.from_pandas_edgelist(X_train, \"IPV4_SRC_ADDR\", \"IPV4_DST_ADDR\", ['h','label'],create_using=nx.MultiGraph())"
   ]
  },
  {
   "cell_type": "code",
   "execution_count": 23,
   "metadata": {
    "id": "QluLSxbiwn7M"
   },
   "outputs": [],
   "source": [
    "G = G.to_directed()\n"
   ]
  },
  {
   "cell_type": "code",
   "execution_count": 24,
   "metadata": {
    "id": "2zClkKEzwrVb"
   },
   "outputs": [],
   "source": [
    "G = from_networkx(G,edge_attrs=['h','label'] )\n"
   ]
  },
  {
   "cell_type": "code",
   "execution_count": 25,
   "metadata": {
    "id": "9jlBYgE8wsW7"
   },
   "outputs": [],
   "source": [
    "# Eq1\n",
    "G.ndata['h'] = th.ones(G.num_nodes(), G.edata['h'].shape[1])"
   ]
  },
  {
   "cell_type": "code",
   "execution_count": 26,
   "metadata": {
    "id": "E7Vc6IELwuJr"
   },
   "outputs": [],
   "source": [
    "G.edata['train_mask'] = th.ones(len(G.edata['h']), dtype=th.bool)\n"
   ]
  },
  {
   "cell_type": "code",
   "execution_count": 27,
   "metadata": {
    "colab": {
     "base_uri": "https://localhost:8080/"
    },
    "id": "BIx7-W6s46Ju",
    "outputId": "234c56a1-9958-4e82-e244-b2a41dcf2855"
   },
   "outputs": [
    {
     "data": {
      "text/plain": [
       "tensor([True, True, True,  ..., True, True, True])"
      ]
     },
     "execution_count": 27,
     "metadata": {
      "tags": []
     },
     "output_type": "execute_result"
    }
   ],
   "source": [
    "G.edata['train_mask'] "
   ]
  },
  {
   "cell_type": "code",
   "execution_count": 28,
   "metadata": {
    "id": "DzDap1MR5e95"
   },
   "outputs": [],
   "source": [
    "def compute_accuracy(pred, labels):\n",
    "    return (pred.argmax(1) == labels).float().mean().item()"
   ]
  },
  {
   "cell_type": "code",
   "execution_count": 29,
   "metadata": {
    "id": "5VzTQxAR5HoT"
   },
   "outputs": [],
   "source": [
    "class SAGELayer(nn.Module):\n",
    "    def __init__(self, ndim_in, edims, ndim_out, activation):\n",
    "        super(SAGELayer, self).__init__()\n",
    "        ### force to outut fix dimensions\n",
    "        self.W_msg = nn.Linear(ndim_in + edims, ndim_out)\n",
    "        ### apply weight\n",
    "        self.W_apply = nn.Linear(ndim_in + ndim_out, ndim_out)\n",
    "        self.activation = activation\n",
    "\n",
    "    def message_func(self, edges):\n",
    "        return {'m': self.W_msg(th.cat([edges.src['h'], edges.data['h']], 2))}\n",
    "\n",
    "    def forward(self, g_dgl, nfeats, efeats):\n",
    "        with g_dgl.local_scope():\n",
    "            g = g_dgl\n",
    "            g.ndata['h'] = nfeats\n",
    "            g.edata['h'] = efeats\n",
    "            # Eq4\n",
    "            g.update_all(self.message_func, fn.mean('m', 'h_neigh'))\n",
    "            # Eq5          \n",
    "            g.ndata['h'] = F.relu(self.W_apply(th.cat([g.ndata['h'], g.ndata['h_neigh']], 2)))\n",
    "            return g.ndata['h']\n",
    "\n",
    "\n",
    "class SAGE(nn.Module):\n",
    "    def __init__(self, ndim_in, ndim_out, edim, activation, dropout):\n",
    "        super(SAGE, self).__init__()\n",
    "        self.layers = nn.ModuleList()\n",
    "        self.layers.append(SAGELayer(ndim_in, edim, 128, activation))\n",
    "        self.layers.append(SAGELayer(128, edim, ndim_out, activation))\n",
    "        self.dropout = nn.Dropout(p=dropout)\n",
    "\n",
    "    def forward(self, g, nfeats, efeats):\n",
    "        for i, layer in enumerate(self.layers):\n",
    "            if i != 0:\n",
    "                nfeats = self.dropout(nfeats)\n",
    "            nfeats = layer(g, nfeats, efeats)\n",
    "        return nfeats.sum(1)"
   ]
  },
  {
   "cell_type": "code",
   "execution_count": 30,
   "metadata": {
    "id": "hrLYvze5wwMi"
   },
   "outputs": [],
   "source": [
    "class MLPPredictor(nn.Module):\n",
    "    def __init__(self, in_features, out_classes):\n",
    "        super().__init__()\n",
    "        self.W = nn.Linear(in_features * 2, out_classes)\n",
    "\n",
    "    def apply_edges(self, edges):\n",
    "        h_u = edges.src['h']\n",
    "        h_v = edges.dst['h']\n",
    "        score = self.W(th.cat([h_u, h_v], 1))\n",
    "        return {'score': score}\n",
    "\n",
    "    def forward(self, graph, h):\n",
    "        with graph.local_scope():\n",
    "            graph.ndata['h'] = h\n",
    "            graph.apply_edges(self.apply_edges)\n",
    "            return graph.edata['score']"
   ]
  },
  {
   "cell_type": "code",
   "execution_count": 31,
   "metadata": {
    "id": "GPLg-kCcwxLa"
   },
   "outputs": [],
   "source": [
    "G.ndata['h'] = th.reshape(G.ndata['h'], (G.ndata['h'].shape[0], 1,G.ndata['h'].shape[1]))\n",
    "G.edata['h'] = th.reshape(G.edata['h'], (G.edata['h'].shape[0], 1,G.edata['h'].shape[1]))"
   ]
  },
  {
   "cell_type": "code",
   "execution_count": 32,
   "metadata": {
    "id": "SwdZs785w1dT"
   },
   "outputs": [],
   "source": [
    "class Model(nn.Module):\n",
    "    def __init__(self, ndim_in, ndim_out, edim, activation, dropout):\n",
    "        super().__init__()\n",
    "        self.gnn = SAGE(ndim_in, ndim_out, edim, activation, dropout)\n",
    "        self.pred = MLPPredictor(ndim_out, 5)\n",
    "    def forward(self, g, nfeats, efeats):\n",
    "        h = self.gnn(g, nfeats, efeats)\n",
    "        return self.pred(g, h)"
   ]
  },
  {
   "cell_type": "code",
   "execution_count": 33,
   "metadata": {
    "id": "BEw7J1Z45R62"
   },
   "outputs": [],
   "source": [
    "from sklearn.utils import class_weight\n",
    "class_weights = class_weight.compute_class_weight('balanced',\n",
    "                                                 np.unique(G.edata['label'].cpu().numpy()),\n",
    "                                                 G.edata['label'].cpu().numpy())"
   ]
  },
  {
   "cell_type": "code",
   "execution_count": 34,
   "metadata": {
    "id": "Cti0vAFYw3A0"
   },
   "outputs": [],
   "source": [
    "class_weights = th.FloatTensor(class_weights).cuda()\n",
    "criterion = nn.CrossEntropyLoss(weight = class_weights)"
   ]
  },
  {
   "cell_type": "code",
   "execution_count": 35,
   "metadata": {
    "colab": {
     "base_uri": "https://localhost:8080/"
    },
    "id": "Rj3DHIZmw4IM",
    "outputId": "25d6e453-935e-4132-e67b-f6dbc46c699a"
   },
   "outputs": [
    {
     "data": {
      "text/plain": [
       "device(type='cuda', index=0)"
      ]
     },
     "execution_count": 35,
     "metadata": {
      "tags": []
     },
     "output_type": "execute_result"
    }
   ],
   "source": [
    "G = G.to('cuda:0')\n",
    "G.device"
   ]
  },
  {
   "cell_type": "code",
   "execution_count": 36,
   "metadata": {
    "colab": {
     "base_uri": "https://localhost:8080/"
    },
    "id": "qdlVG3JOw5Qj",
    "outputId": "48880507-da3a-41d5-f470-b594953d822c"
   },
   "outputs": [
    {
     "data": {
      "text/plain": [
       "device(type='cuda', index=0)"
      ]
     },
     "execution_count": 36,
     "metadata": {
      "tags": []
     },
     "output_type": "execute_result"
    }
   ],
   "source": [
    "G.ndata['h'].device\n"
   ]
  },
  {
   "cell_type": "code",
   "execution_count": 37,
   "metadata": {
    "colab": {
     "base_uri": "https://localhost:8080/"
    },
    "id": "dvt3pnXmw6U7",
    "outputId": "9f97f898-6d60-4295-dac3-16efa108353c"
   },
   "outputs": [
    {
     "data": {
      "text/plain": [
       "device(type='cuda', index=0)"
      ]
     },
     "execution_count": 37,
     "metadata": {
      "tags": []
     },
     "output_type": "execute_result"
    }
   ],
   "source": [
    "G.edata['h'].device\n"
   ]
  },
  {
   "cell_type": "code",
   "execution_count": 38,
   "metadata": {
    "colab": {
     "base_uri": "https://localhost:8080/"
    },
    "id": "-_eTiHzWw8Cz",
    "outputId": "a9129648-590f-433f-99e1-f7cf871283d7"
   },
   "outputs": [
    {
     "name": "stdout",
     "output_type": "stream",
     "text": [
      "Training acc: 0.7604886889457703\n",
      "Training acc: 0.7630763649940491\n",
      "Training acc: 0.7629752159118652\n",
      "Training acc: 0.7625324130058289\n",
      "Training acc: 0.7474111318588257\n",
      "Training acc: 0.7555240392684937\n",
      "Training acc: 0.7655866742134094\n",
      "Training acc: 0.7669566869735718\n",
      "Training acc: 0.764086902141571\n",
      "Training acc: 0.7449960708618164\n",
      "Training acc: 0.7680802941322327\n",
      "Training acc: 0.7622729539871216\n",
      "Training acc: 0.7510450482368469\n",
      "Training acc: 0.7672958970069885\n",
      "Training acc: 0.7625240683555603\n",
      "Training acc: 0.7663900852203369\n",
      "Training acc: 0.7658271193504333\n",
      "Training acc: 0.758365273475647\n",
      "Training acc: 0.7553383708000183\n",
      "Training acc: 0.7583866715431213\n",
      "Training acc: 0.7681624293327332\n",
      "Training acc: 0.7402635216712952\n",
      "Training acc: 0.770497739315033\n",
      "Training acc: 0.7478277087211609\n",
      "Training acc: 0.7465077042579651\n",
      "Training acc: 0.7545242309570312\n",
      "Training acc: 0.7622788548469543\n",
      "Training acc: 0.7641035914421082\n",
      "Training acc: 0.7617313265800476\n",
      "Training acc: 0.7135024666786194\n",
      "Training acc: 0.6975337266921997\n",
      "Training acc: 0.743584394454956\n",
      "Training acc: 0.7351858019828796\n",
      "Training acc: 0.7509081363677979\n",
      "Training acc: 0.7662293910980225\n",
      "Training acc: 0.7644630670547485\n",
      "Training acc: 0.7783333659172058\n",
      "Training acc: 0.7794188857078552\n",
      "Training acc: 0.7470885515213013\n",
      "Training acc: 0.7760372757911682\n",
      "Training acc: 0.7278262972831726\n",
      "Training acc: 0.6634441614151001\n",
      "Training acc: 0.7783988118171692\n",
      "Training acc: 0.7747482061386108\n",
      "Training acc: 0.7487632632255554\n",
      "Training acc: 0.7725141048431396\n",
      "Training acc: 0.7573392391204834\n",
      "Training acc: 0.7558466196060181\n",
      "Training acc: 0.7607719898223877\n",
      "Training acc: 0.7708083987236023\n",
      "Training acc: 0.7760908603668213\n",
      "Training acc: 0.7746327519416809\n",
      "Training acc: 0.7804449200630188\n",
      "Training acc: 0.7635298371315002\n",
      "Training acc: 0.7794129252433777\n",
      "Training acc: 0.7657199501991272\n",
      "Training acc: 0.7758099436759949\n",
      "Training acc: 0.7808020114898682\n",
      "Training acc: 0.7788273096084595\n",
      "Training acc: 0.7717106342315674\n",
      "Training acc: 0.7768204808235168\n",
      "Training acc: 0.7808698415756226\n",
      "Training acc: 0.7805413007736206\n",
      "Training acc: 0.7821577191352844\n",
      "Training acc: 0.7807865142822266\n",
      "Training acc: 0.783061146736145\n",
      "Training acc: 0.7843394875526428\n",
      "Training acc: 0.7842049598693848\n",
      "Training acc: 0.7844228148460388\n",
      "Training acc: 0.7642749547958374\n",
      "Training acc: 0.7444033026695251\n",
      "Training acc: 0.7801163792610168\n",
      "Training acc: 0.7792201042175293\n",
      "Training acc: 0.7795700430870056\n",
      "Training acc: 0.7577593922615051\n",
      "Training acc: 0.7768431305885315\n",
      "Training acc: 0.7813816666603088\n",
      "Training acc: 0.7780929207801819\n",
      "Training acc: 0.7811007499694824\n"
     ]
    }
   ],
   "source": [
    "node_features = G.ndata['h']\n",
    "edge_features = G.edata['h']\n",
    "\n",
    "edge_label = G.edata['label']\n",
    "train_mask = G.edata['train_mask']\n",
    "\n",
    "model = Model(G.ndata['h'].shape[2], 128, G.ndata['h'].shape[2], F.relu, 0.2).cuda()\n",
    "opt = th.optim.Adam(model.parameters())\n",
    "\n",
    "for epoch in range(1,8000):\n",
    "    pred = model(G, node_features,edge_features).cuda()\n",
    "    loss = criterion(pred[train_mask] ,edge_label[train_mask])\n",
    "    opt.zero_grad()\n",
    "    loss.backward()\n",
    "    opt.step()\n",
    "    if epoch % 100 == 0:\n",
    "      print('Training acc:', compute_accuracy(pred[train_mask], edge_label[train_mask]))\n"
   ]
  },
  {
   "cell_type": "code",
   "execution_count": 39,
   "metadata": {
    "id": "p7gYo6lVtHCN"
   },
   "outputs": [],
   "source": [
    "X_test = encoder.transform(X_test)"
   ]
  },
  {
   "cell_type": "code",
   "execution_count": 40,
   "metadata": {
    "id": "OUGIEbMFtSnf"
   },
   "outputs": [],
   "source": [
    "X_test[cols_to_norm] = scaler.transform(X_test[cols_to_norm])"
   ]
  },
  {
   "cell_type": "code",
   "execution_count": 41,
   "metadata": {
    "colab": {
     "base_uri": "https://localhost:8080/",
     "height": 439
    },
    "id": "VlyqlEqjtb9s",
    "outputId": "6b637a23-7f60-4810-9348-38c50d09d30c"
   },
   "outputs": [
    {
     "data": {
      "text/html": [
       "<div>\n",
       "<style scoped>\n",
       "    .dataframe tbody tr th:only-of-type {\n",
       "        vertical-align: middle;\n",
       "    }\n",
       "\n",
       "    .dataframe tbody tr th {\n",
       "        vertical-align: top;\n",
       "    }\n",
       "\n",
       "    .dataframe thead th {\n",
       "        text-align: right;\n",
       "    }\n",
       "</style>\n",
       "<table border=\"1\" class=\"dataframe\">\n",
       "  <thead>\n",
       "    <tr style=\"text-align: right;\">\n",
       "      <th></th>\n",
       "      <th>IPV4_SRC_ADDR</th>\n",
       "      <th>IPV4_DST_ADDR</th>\n",
       "      <th>PROTOCOL</th>\n",
       "      <th>L7_PROTO</th>\n",
       "      <th>IN_BYTES</th>\n",
       "      <th>OUT_BYTES</th>\n",
       "      <th>IN_PKTS</th>\n",
       "      <th>OUT_PKTS</th>\n",
       "      <th>TCP_FLAGS</th>\n",
       "      <th>FLOW_DURATION_MILLISECONDS</th>\n",
       "      <th>label</th>\n",
       "    </tr>\n",
       "  </thead>\n",
       "  <tbody>\n",
       "    <tr>\n",
       "      <th>508964</th>\n",
       "      <td>172.29.164.251:3851</td>\n",
       "      <td>192.168.100.148:57874</td>\n",
       "      <td>0.256954</td>\n",
       "      <td>0.564662</td>\n",
       "      <td>-0.017440</td>\n",
       "      <td>-0.008374</td>\n",
       "      <td>-0.045641</td>\n",
       "      <td>-0.024336</td>\n",
       "      <td>0.675890</td>\n",
       "      <td>0.496292</td>\n",
       "      <td>3</td>\n",
       "    </tr>\n",
       "    <tr>\n",
       "      <th>550351</th>\n",
       "      <td>172.27.194.211:59388</td>\n",
       "      <td>192.168.100.3:80</td>\n",
       "      <td>0.256954</td>\n",
       "      <td>-1.663308</td>\n",
       "      <td>-0.015694</td>\n",
       "      <td>-0.007551</td>\n",
       "      <td>-0.021496</td>\n",
       "      <td>-0.003471</td>\n",
       "      <td>-1.557296</td>\n",
       "      <td>-2.082482</td>\n",
       "      <td>3</td>\n",
       "    </tr>\n",
       "    <tr>\n",
       "      <th>126326</th>\n",
       "      <td>172.30.164.19:14903</td>\n",
       "      <td>192.168.100.3:12625</td>\n",
       "      <td>0.256954</td>\n",
       "      <td>0.564662</td>\n",
       "      <td>-0.017440</td>\n",
       "      <td>-0.008378</td>\n",
       "      <td>-0.045641</td>\n",
       "      <td>-0.024336</td>\n",
       "      <td>0.675890</td>\n",
       "      <td>0.496292</td>\n",
       "      <td>3</td>\n",
       "    </tr>\n",
       "    <tr>\n",
       "      <th>75198</th>\n",
       "      <td>172.23.94.131:33223</td>\n",
       "      <td>192.168.100.5:2383</td>\n",
       "      <td>0.256954</td>\n",
       "      <td>0.564662</td>\n",
       "      <td>-0.017433</td>\n",
       "      <td>-0.008378</td>\n",
       "      <td>-0.045641</td>\n",
       "      <td>-0.024336</td>\n",
       "      <td>0.675890</td>\n",
       "      <td>0.496290</td>\n",
       "      <td>3</td>\n",
       "    </tr>\n",
       "    <tr>\n",
       "      <th>459608</th>\n",
       "      <td>172.22.61.164:53308</td>\n",
       "      <td>192.168.100.3:3306</td>\n",
       "      <td>0.256954</td>\n",
       "      <td>0.564662</td>\n",
       "      <td>-0.016705</td>\n",
       "      <td>-0.007860</td>\n",
       "      <td>-0.021496</td>\n",
       "      <td>0.001745</td>\n",
       "      <td>-1.378847</td>\n",
       "      <td>0.496174</td>\n",
       "      <td>3</td>\n",
       "    </tr>\n",
       "    <tr>\n",
       "      <th>...</th>\n",
       "      <td>...</td>\n",
       "      <td>...</td>\n",
       "      <td>...</td>\n",
       "      <td>...</td>\n",
       "      <td>...</td>\n",
       "      <td>...</td>\n",
       "      <td>...</td>\n",
       "      <td>...</td>\n",
       "      <td>...</td>\n",
       "      <td>...</td>\n",
       "      <td>...</td>\n",
       "    </tr>\n",
       "    <tr>\n",
       "      <th>219108</th>\n",
       "      <td>172.18.51.155:45576</td>\n",
       "      <td>192.168.100.3:1114</td>\n",
       "      <td>0.256954</td>\n",
       "      <td>0.564662</td>\n",
       "      <td>-0.017433</td>\n",
       "      <td>-0.008378</td>\n",
       "      <td>-0.045641</td>\n",
       "      <td>-0.024336</td>\n",
       "      <td>0.675890</td>\n",
       "      <td>0.496292</td>\n",
       "      <td>3</td>\n",
       "    </tr>\n",
       "    <tr>\n",
       "      <th>527997</th>\n",
       "      <td>172.22.242.126:40850</td>\n",
       "      <td>192.168.100.3:60161</td>\n",
       "      <td>0.256954</td>\n",
       "      <td>0.564662</td>\n",
       "      <td>-0.017433</td>\n",
       "      <td>-0.008378</td>\n",
       "      <td>-0.045641</td>\n",
       "      <td>-0.024336</td>\n",
       "      <td>0.675890</td>\n",
       "      <td>0.496292</td>\n",
       "      <td>3</td>\n",
       "    </tr>\n",
       "    <tr>\n",
       "      <th>38363</th>\n",
       "      <td>172.22.50.60:57088</td>\n",
       "      <td>192.168.100.7:80</td>\n",
       "      <td>0.256954</td>\n",
       "      <td>-1.663308</td>\n",
       "      <td>-0.016455</td>\n",
       "      <td>-0.006905</td>\n",
       "      <td>-0.029544</td>\n",
       "      <td>-0.008687</td>\n",
       "      <td>-1.378847</td>\n",
       "      <td>0.486699</td>\n",
       "      <td>1</td>\n",
       "    </tr>\n",
       "    <tr>\n",
       "      <th>159958</th>\n",
       "      <td>172.25.87.154:39747</td>\n",
       "      <td>192.168.100.7:2251</td>\n",
       "      <td>0.256954</td>\n",
       "      <td>0.564662</td>\n",
       "      <td>-0.017433</td>\n",
       "      <td>-0.008378</td>\n",
       "      <td>-0.045641</td>\n",
       "      <td>-0.024336</td>\n",
       "      <td>0.675890</td>\n",
       "      <td>0.496292</td>\n",
       "      <td>3</td>\n",
       "    </tr>\n",
       "    <tr>\n",
       "      <th>541341</th>\n",
       "      <td>172.30.219.164:53054</td>\n",
       "      <td>192.168.100.3:80</td>\n",
       "      <td>0.256954</td>\n",
       "      <td>-1.663308</td>\n",
       "      <td>-0.016222</td>\n",
       "      <td>-0.007551</td>\n",
       "      <td>-0.021496</td>\n",
       "      <td>-0.003471</td>\n",
       "      <td>-1.557296</td>\n",
       "      <td>-2.082482</td>\n",
       "      <td>2</td>\n",
       "    </tr>\n",
       "  </tbody>\n",
       "</table>\n",
       "<p>180030 rows × 11 columns</p>\n",
       "</div>"
      ],
      "text/plain": [
       "               IPV4_SRC_ADDR  ... label\n",
       "508964   172.29.164.251:3851  ...     3\n",
       "550351  172.27.194.211:59388  ...     3\n",
       "126326   172.30.164.19:14903  ...     3\n",
       "75198    172.23.94.131:33223  ...     3\n",
       "459608   172.22.61.164:53308  ...     3\n",
       "...                      ...  ...   ...\n",
       "219108   172.18.51.155:45576  ...     3\n",
       "527997  172.22.242.126:40850  ...     3\n",
       "38363     172.22.50.60:57088  ...     1\n",
       "159958   172.25.87.154:39747  ...     3\n",
       "541341  172.30.219.164:53054  ...     2\n",
       "\n",
       "[180030 rows x 11 columns]"
      ]
     },
     "execution_count": 41,
     "metadata": {
      "tags": []
     },
     "output_type": "execute_result"
    }
   ],
   "source": [
    "X_test"
   ]
  },
  {
   "cell_type": "code",
   "execution_count": 42,
   "metadata": {
    "id": "q5CMxVe5xIDb"
   },
   "outputs": [],
   "source": [
    "X_test['h'] = X_test[ cols_to_norm ].values.tolist()"
   ]
  },
  {
   "cell_type": "code",
   "execution_count": 43,
   "metadata": {
    "id": "VsAmtLAbxN_6"
   },
   "outputs": [],
   "source": [
    "G_test = nx.from_pandas_edgelist(X_test, \"IPV4_SRC_ADDR\", \"IPV4_DST_ADDR\", ['h','label'],create_using=nx.MultiGraph())\n",
    "G_test = G_test.to_directed()\n",
    "G_test = from_networkx(G_test,edge_attrs=['h','label'] )\n",
    "actual = G_test.edata.pop('label')\n",
    "G_test.ndata['feature'] = th.ones(G_test.num_nodes(), G.ndata['h'].shape[2])"
   ]
  },
  {
   "cell_type": "code",
   "execution_count": 44,
   "metadata": {
    "id": "Eeux6JIxxQtC"
   },
   "outputs": [],
   "source": [
    "G_test.ndata['feature'] = th.reshape(G_test.ndata['feature'], (G_test.ndata['feature'].shape[0], 1, G_test.ndata['feature'].shape[1]))"
   ]
  },
  {
   "cell_type": "code",
   "execution_count": 45,
   "metadata": {
    "id": "PBETQI3YxYay"
   },
   "outputs": [],
   "source": [
    "G_test.edata['h'] = th.reshape(G_test.edata['h'], (G_test.edata['h'].shape[0], 1, G_test.edata['h'].shape[1]))\n"
   ]
  },
  {
   "cell_type": "code",
   "execution_count": 46,
   "metadata": {
    "id": "qlTOyVN6xZZB"
   },
   "outputs": [],
   "source": [
    "G_test = G_test.to('cuda:0')\n"
   ]
  },
  {
   "cell_type": "code",
   "execution_count": 47,
   "metadata": {
    "id": "QyugNIt9xac6"
   },
   "outputs": [],
   "source": [
    "import timeit\n",
    "start_time = timeit.default_timer()\n",
    "node_features_test = G_test.ndata['feature']\n",
    "edge_features_test = G_test.edata['h']\n",
    "test_pred = model(G_test, node_features_test, edge_features_test).cuda()\n",
    "elapsed = timeit.default_timer() - start_time"
   ]
  },
  {
   "cell_type": "code",
   "execution_count": 48,
   "metadata": {
    "colab": {
     "base_uri": "https://localhost:8080/"
    },
    "id": "KecCvilSxcFK",
    "outputId": "8e974877-889d-43a1-e5c7-06e1e731e1d0"
   },
   "outputs": [
    {
     "name": "stdout",
     "output_type": "stream",
     "text": [
      "0.02484787100001995 seconds\n"
     ]
    }
   ],
   "source": [
    "print(str(elapsed) + ' seconds')\n"
   ]
  },
  {
   "cell_type": "code",
   "execution_count": 49,
   "metadata": {
    "id": "BNQLnLoAxdST"
   },
   "outputs": [],
   "source": [
    "test_pred = test_pred.argmax(1)\n"
   ]
  },
  {
   "cell_type": "code",
   "execution_count": 50,
   "metadata": {
    "id": "9dtggXXsxevx"
   },
   "outputs": [],
   "source": [
    "test_pred = th.Tensor.cpu(test_pred).detach().numpy()\n"
   ]
  },
  {
   "cell_type": "code",
   "execution_count": 51,
   "metadata": {
    "id": "5TGb_KWRxfzS"
   },
   "outputs": [],
   "source": [
    "actual = le.inverse_transform(actual)\n",
    "test_pred = le.inverse_transform(test_pred)"
   ]
  },
  {
   "cell_type": "code",
   "execution_count": 52,
   "metadata": {
    "id": "n7z7tHTPxhBC"
   },
   "outputs": [],
   "source": [
    "from sklearn.metrics import plot_confusion_matrix\n"
   ]
  },
  {
   "cell_type": "code",
   "execution_count": 53,
   "metadata": {
    "id": "uMRairwzxiBC"
   },
   "outputs": [],
   "source": [
    "import numpy as np\n",
    "\n",
    "\n",
    "def plot_confusion_matrix(cm,\n",
    "                          target_names,\n",
    "                          title='Confusion matrix',\n",
    "                          cmap=None,\n",
    "                          normalize=True):\n",
    "    \n",
    "    import matplotlib.pyplot as plt\n",
    "    import numpy as np\n",
    "    import itertools\n",
    "\n",
    "    accuracy = np.trace(cm) / float(np.sum(cm))\n",
    "    misclass = 1 - accuracy\n",
    "\n",
    "    if cmap is None:\n",
    "        cmap = plt.get_cmap('Blues')\n",
    "\n",
    "    plt.figure(figsize=(12, 12))\n",
    "    plt.imshow(cm, interpolation='nearest', cmap=cmap)\n",
    "    plt.title(title)\n",
    "    plt.colorbar()\n",
    "\n",
    "    if target_names is not None:\n",
    "        tick_marks = np.arange(len(target_names))\n",
    "        plt.xticks(tick_marks, target_names, rotation=45)\n",
    "        plt.yticks(tick_marks, target_names)\n",
    "\n",
    "    if normalize:\n",
    "        cm = cm.astype('float') / cm.sum(axis=1)[:, np.newaxis]\n",
    "\n",
    "\n",
    "    thresh = cm.max() / 1.5 if normalize else cm.max() / 2\n",
    "    for i, j in itertools.product(range(cm.shape[0]), range(cm.shape[1])):\n",
    "        if normalize:\n",
    "            plt.text(j, i, \"{:0.4f}\".format(cm[i, j]),\n",
    "                     horizontalalignment=\"center\",\n",
    "                     color=\"white\" if cm[i, j] > thresh else \"black\")\n",
    "        else:\n",
    "            plt.text(j, i, \"{:,}\".format(cm[i, j]),\n",
    "                     horizontalalignment=\"center\",\n",
    "                     color=\"white\" if cm[i, j] > thresh else \"black\")\n",
    "\n",
    "\n",
    "    plt.tight_layout()\n",
    "    plt.ylabel('True label')\n",
    "    plt.xlabel('Predicted label\\naccuracy={:0.4f}; misclass={:0.4f}'.format(accuracy, misclass))\n",
    "    plt.show()"
   ]
  },
  {
   "cell_type": "code",
   "execution_count": 54,
   "metadata": {
    "colab": {
     "base_uri": "https://localhost:8080/",
     "height": 718
    },
    "id": "KNCkVWyqxjaR",
    "outputId": "3af8ef73-a011-49a7-9335-52ba77ea7dd4"
   },
   "outputs": [
    {
     "data": {
      "image/png": "[encoded data removed]",
      "text/plain": [
       "<Figure size 864x864 with 2 Axes>"
      ]
     },
     "metadata": {
      "needs_background": "light",
      "tags": []
     },
     "output_type": "display_data"
    }
   ],
   "source": [
    "from sklearn.metrics import confusion_matrix\n",
    "\n",
    "plot_confusion_matrix(cm = confusion_matrix(actual, test_pred), \n",
    "                      normalize    = False,\n",
    "                      target_names = np.unique(actual),\n",
    "                      title        = \"Confusion Matrix\")"
   ]
  },
  {
   "cell_type": "code",
   "execution_count": null,
   "metadata": {
    "id": "rC9-S7j9A48K"
   },
   "outputs": [],
   "source": []
  }
 ],
 "metadata": {
  "accelerator": "GPU",
  "colab": {
   "collapsed_sections": [],
   "machine_shape": "hm",
   "name": "Unsw_bot_iot_multiclass_mean_agg.ipynb",
   "provenance": []
  },
  "kernelspec": {
   "display_name": "Python 3",
   "language": "python",
   "name": "python3"
  },
  "language_info": {
   "codemirror_mode": {
    "name": "ipython",
    "version": 3
   },
   "file_extension": ".py",
   "mimetype": "text/x-python",
   "name": "python",
   "nbconvert_exporter": "python",
   "pygments_lexer": "ipython3",
   "version": "3.8.5"
  }
 },
 "nbformat": 4,
 "nbformat_minor": 1
}
