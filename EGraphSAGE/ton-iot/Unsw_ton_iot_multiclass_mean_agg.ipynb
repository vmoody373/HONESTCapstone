{
  "cells": [
    {
      "cell_type": "code",
      "execution_count": 1,
      "metadata": {
        "colab": {
          "base_uri": "https://localhost:8080/"
        },
        "id": "mS0bWISTqhMI",
        "outputId": "c67bb709-77f1-45f5-976b-932f976e3b24"
      },
      "outputs": [
        {
          "name": "stderr",
          "output_type": "stream",
          "text": [
            "Using backend: pytorch\n",
            "/usr/local/lib/python3.6/dist-packages/statsmodels/tools/_testing.py:19: FutureWarning: pandas.util.testing is deprecated. Use the functions in the public API at pandas.testing instead.\n",
            "  import pandas.util.testing as tm\n"
          ]
        }
      ],
      "source": [
        "import dgl.nn as dglnn\n",
        "from dgl import from_networkx\n",
        "import torch.nn as nn\n",
        "import torch as th\n",
        "import torch.nn.functional as F\n",
        "import dgl.function as fn\n",
        "import networkx as nx\n",
        "import pandas as pd\n",
        "import socket\n",
        "import struct\n",
        "import random\n",
        "from sklearn.preprocessing import LabelEncoder\n",
        "from sklearn.preprocessing import StandardScaler\n",
        "from sklearn.model_selection import train_test_split\n",
        "import category_encoders as ce\n",
        "from sklearn.decomposition import PCA\n",
        "import seaborn as sns\n",
        "import matplotlib.pyplot as plt\n",
        "import numpy as np"
      ]
    },
    {
      "cell_type": "code",
      "execution_count": 2,
      "metadata": {
        "id": "ki0watiErdJp"
      },
      "outputs": [],
      "source": [
        "data = pd.read_csv('/content/NF-ToN-IoT.csv')"
      ]
    },
    {
      "cell_type": "code",
      "execution_count": 3,
      "metadata": {
        "colab": {
          "base_uri": "https://localhost:8080/",
          "height": 439
        },
        "id": "0JmyVopVrqWQ",
        "outputId": "b53ec05a-1324-45db-aba6-94cc7fecea40"
      },
      "outputs": [
        {
          "data": {
            "text/html": [
              "<div>\n",
              "<style scoped>\n",
              "    .dataframe tbody tr th:only-of-type {\n",
              "        vertical-align: middle;\n",
              "    }\n",
              "\n",
              "    .dataframe tbody tr th {\n",
              "        vertical-align: top;\n",
              "    }\n",
              "\n",
              "    .dataframe thead th {\n",
              "        text-align: right;\n",
              "    }\n",
              "</style>\n",
              "<table border=\"1\" class=\"dataframe\">\n",
              "  <thead>\n",
              "    <tr style=\"text-align: right;\">\n",
              "      <th></th>\n",
              "      <th>IPV4_SRC_ADDR</th>\n",
              "      <th>L4_SRC_PORT</th>\n",
              "      <th>IPV4_DST_ADDR</th>\n",
              "      <th>L4_DST_PORT</th>\n",
              "      <th>PROTOCOL</th>\n",
              "      <th>L7_PROTO</th>\n",
              "      <th>IN_BYTES</th>\n",
              "      <th>OUT_BYTES</th>\n",
              "      <th>IN_PKTS</th>\n",
              "      <th>OUT_PKTS</th>\n",
              "      <th>TCP_FLAGS</th>\n",
              "      <th>FLOW_DURATION_MILLISECONDS</th>\n",
              "      <th>Label</th>\n",
              "      <th>Attack</th>\n",
              "    </tr>\n",
              "  </thead>\n",
              "  <tbody>\n",
              "    <tr>\n",
              "      <th>0</th>\n",
              "      <td>192.168.1.195</td>\n",
              "      <td>63318</td>\n",
              "      <td>52.139.250.253</td>\n",
              "      <td>443</td>\n",
              "      <td>6</td>\n",
              "      <td>91.00</td>\n",
              "      <td>181</td>\n",
              "      <td>165</td>\n",
              "      <td>2</td>\n",
              "      <td>1</td>\n",
              "      <td>24</td>\n",
              "      <td>327</td>\n",
              "      <td>0</td>\n",
              "      <td>Benign</td>\n",
              "    </tr>\n",
              "    <tr>\n",
              "      <th>1</th>\n",
              "      <td>192.168.1.79</td>\n",
              "      <td>57442</td>\n",
              "      <td>192.168.1.255</td>\n",
              "      <td>15600</td>\n",
              "      <td>17</td>\n",
              "      <td>0.00</td>\n",
              "      <td>63</td>\n",
              "      <td>0</td>\n",
              "      <td>1</td>\n",
              "      <td>0</td>\n",
              "      <td>0</td>\n",
              "      <td>0</td>\n",
              "      <td>0</td>\n",
              "      <td>Benign</td>\n",
              "    </tr>\n",
              "    <tr>\n",
              "      <th>2</th>\n",
              "      <td>192.168.1.79</td>\n",
              "      <td>57452</td>\n",
              "      <td>239.255.255.250</td>\n",
              "      <td>15600</td>\n",
              "      <td>17</td>\n",
              "      <td>0.00</td>\n",
              "      <td>63</td>\n",
              "      <td>0</td>\n",
              "      <td>1</td>\n",
              "      <td>0</td>\n",
              "      <td>0</td>\n",
              "      <td>0</td>\n",
              "      <td>0</td>\n",
              "      <td>Benign</td>\n",
              "    </tr>\n",
              "    <tr>\n",
              "      <th>3</th>\n",
              "      <td>192.168.1.193</td>\n",
              "      <td>138</td>\n",
              "      <td>192.168.1.255</td>\n",
              "      <td>138</td>\n",
              "      <td>17</td>\n",
              "      <td>10.16</td>\n",
              "      <td>472</td>\n",
              "      <td>0</td>\n",
              "      <td>2</td>\n",
              "      <td>0</td>\n",
              "      <td>0</td>\n",
              "      <td>0</td>\n",
              "      <td>0</td>\n",
              "      <td>Benign</td>\n",
              "    </tr>\n",
              "    <tr>\n",
              "      <th>4</th>\n",
              "      <td>192.168.1.79</td>\n",
              "      <td>51989</td>\n",
              "      <td>192.168.1.255</td>\n",
              "      <td>15600</td>\n",
              "      <td>17</td>\n",
              "      <td>0.00</td>\n",
              "      <td>63</td>\n",
              "      <td>0</td>\n",
              "      <td>1</td>\n",
              "      <td>0</td>\n",
              "      <td>0</td>\n",
              "      <td>0</td>\n",
              "      <td>0</td>\n",
              "      <td>Benign</td>\n",
              "    </tr>\n",
              "    <tr>\n",
              "      <th>...</th>\n",
              "      <td>...</td>\n",
              "      <td>...</td>\n",
              "      <td>...</td>\n",
              "      <td>...</td>\n",
              "      <td>...</td>\n",
              "      <td>...</td>\n",
              "      <td>...</td>\n",
              "      <td>...</td>\n",
              "      <td>...</td>\n",
              "      <td>...</td>\n",
              "      <td>...</td>\n",
              "      <td>...</td>\n",
              "      <td>...</td>\n",
              "      <td>...</td>\n",
              "    </tr>\n",
              "    <tr>\n",
              "      <th>1379269</th>\n",
              "      <td>192.168.1.31</td>\n",
              "      <td>58032</td>\n",
              "      <td>192.168.1.194</td>\n",
              "      <td>80</td>\n",
              "      <td>6</td>\n",
              "      <td>7.00</td>\n",
              "      <td>216</td>\n",
              "      <td>180</td>\n",
              "      <td>4</td>\n",
              "      <td>3</td>\n",
              "      <td>18</td>\n",
              "      <td>9433</td>\n",
              "      <td>1</td>\n",
              "      <td>ddos</td>\n",
              "    </tr>\n",
              "    <tr>\n",
              "      <th>1379270</th>\n",
              "      <td>192.168.1.31</td>\n",
              "      <td>58034</td>\n",
              "      <td>192.168.1.194</td>\n",
              "      <td>80</td>\n",
              "      <td>6</td>\n",
              "      <td>7.00</td>\n",
              "      <td>216</td>\n",
              "      <td>180</td>\n",
              "      <td>4</td>\n",
              "      <td>3</td>\n",
              "      <td>18</td>\n",
              "      <td>9221</td>\n",
              "      <td>1</td>\n",
              "      <td>ddos</td>\n",
              "    </tr>\n",
              "    <tr>\n",
              "      <th>1379271</th>\n",
              "      <td>192.168.1.31</td>\n",
              "      <td>58036</td>\n",
              "      <td>192.168.1.194</td>\n",
              "      <td>80</td>\n",
              "      <td>6</td>\n",
              "      <td>7.00</td>\n",
              "      <td>216</td>\n",
              "      <td>180</td>\n",
              "      <td>4</td>\n",
              "      <td>3</td>\n",
              "      <td>18</td>\n",
              "      <td>9656</td>\n",
              "      <td>1</td>\n",
              "      <td>ddos</td>\n",
              "    </tr>\n",
              "    <tr>\n",
              "      <th>1379272</th>\n",
              "      <td>192.168.1.31</td>\n",
              "      <td>58038</td>\n",
              "      <td>192.168.1.194</td>\n",
              "      <td>80</td>\n",
              "      <td>6</td>\n",
              "      <td>7.00</td>\n",
              "      <td>216</td>\n",
              "      <td>180</td>\n",
              "      <td>4</td>\n",
              "      <td>3</td>\n",
              "      <td>18</td>\n",
              "      <td>10046</td>\n",
              "      <td>1</td>\n",
              "      <td>ddos</td>\n",
              "    </tr>\n",
              "    <tr>\n",
              "      <th>1379273</th>\n",
              "      <td>192.168.1.31</td>\n",
              "      <td>58040</td>\n",
              "      <td>192.168.1.194</td>\n",
              "      <td>80</td>\n",
              "      <td>6</td>\n",
              "      <td>7.00</td>\n",
              "      <td>216</td>\n",
              "      <td>180</td>\n",
              "      <td>4</td>\n",
              "      <td>3</td>\n",
              "      <td>18</td>\n",
              "      <td>10485</td>\n",
              "      <td>1</td>\n",
              "      <td>ddos</td>\n",
              "    </tr>\n",
              "  </tbody>\n",
              "</table>\n",
              "<p>1379274 rows × 14 columns</p>\n",
              "</div>"
            ],
            "text/plain": [
              "         IPV4_SRC_ADDR  L4_SRC_PORT  ... Label  Attack\n",
              "0        192.168.1.195        63318  ...     0  Benign\n",
              "1         192.168.1.79        57442  ...     0  Benign\n",
              "2         192.168.1.79        57452  ...     0  Benign\n",
              "3        192.168.1.193          138  ...     0  Benign\n",
              "4         192.168.1.79        51989  ...     0  Benign\n",
              "...                ...          ...  ...   ...     ...\n",
              "1379269   192.168.1.31        58032  ...     1    ddos\n",
              "1379270   192.168.1.31        58034  ...     1    ddos\n",
              "1379271   192.168.1.31        58036  ...     1    ddos\n",
              "1379272   192.168.1.31        58038  ...     1    ddos\n",
              "1379273   192.168.1.31        58040  ...     1    ddos\n",
              "\n",
              "[1379274 rows x 14 columns]"
            ]
          },
          "execution_count": 3,
          "metadata": {
            "tags": []
          },
          "output_type": "execute_result"
        }
      ],
      "source": [
        "data"
      ]
    },
    {
      "cell_type": "code",
      "execution_count": 4,
      "metadata": {
        "id": "PoVYaeFZtJBd"
      },
      "outputs": [],
      "source": [
        "data['IPV4_SRC_ADDR'] = data.IPV4_SRC_ADDR.apply(lambda x: socket.inet_ntoa(struct.pack('>I', random.randint(0xac100001, 0xac1f0001))))"
      ]
    },
    {
      "cell_type": "code",
      "execution_count": 5,
      "metadata": {
        "id": "zs4z58WCtu8k"
      },
      "outputs": [],
      "source": [
        "data['IPV4_SRC_ADDR'] = data.IPV4_SRC_ADDR.apply(str)\n",
        "data['L4_SRC_PORT'] = data.L4_SRC_PORT.apply(str)\n",
        "data['IPV4_DST_ADDR'] = data.IPV4_DST_ADDR.apply(str)\n",
        "data['L4_DST_PORT'] = data.L4_DST_PORT.apply(str)"
      ]
    },
    {
      "cell_type": "code",
      "execution_count": 6,
      "metadata": {
        "id": "9EEwTAK3tle9"
      },
      "outputs": [],
      "source": [
        "data['IPV4_SRC_ADDR'] = data['IPV4_SRC_ADDR'] + ':' + data['L4_SRC_PORT']\n",
        "data['IPV4_DST_ADDR'] = data['IPV4_DST_ADDR'] + ':' + data['L4_DST_PORT']"
      ]
    },
    {
      "cell_type": "code",
      "execution_count": 7,
      "metadata": {
        "id": "xbdaHUxOtzd-"
      },
      "outputs": [],
      "source": [
        "data.drop(columns=['L4_SRC_PORT','L4_DST_PORT'],inplace=True)"
      ]
    },
    {
      "cell_type": "code",
      "execution_count": 8,
      "metadata": {
        "colab": {
          "base_uri": "https://localhost:8080/",
          "height": 439
        },
        "id": "CN9rLLmr0eeI",
        "outputId": "9f79c3e6-b1f2-4af8-8fc2-3ba23dea1ee4"
      },
      "outputs": [
        {
          "data": {
            "text/html": [
              "<div>\n",
              "<style scoped>\n",
              "    .dataframe tbody tr th:only-of-type {\n",
              "        vertical-align: middle;\n",
              "    }\n",
              "\n",
              "    .dataframe tbody tr th {\n",
              "        vertical-align: top;\n",
              "    }\n",
              "\n",
              "    .dataframe thead th {\n",
              "        text-align: right;\n",
              "    }\n",
              "</style>\n",
              "<table border=\"1\" class=\"dataframe\">\n",
              "  <thead>\n",
              "    <tr style=\"text-align: right;\">\n",
              "      <th></th>\n",
              "      <th>IPV4_SRC_ADDR</th>\n",
              "      <th>IPV4_DST_ADDR</th>\n",
              "      <th>PROTOCOL</th>\n",
              "      <th>L7_PROTO</th>\n",
              "      <th>IN_BYTES</th>\n",
              "      <th>OUT_BYTES</th>\n",
              "      <th>IN_PKTS</th>\n",
              "      <th>OUT_PKTS</th>\n",
              "      <th>TCP_FLAGS</th>\n",
              "      <th>FLOW_DURATION_MILLISECONDS</th>\n",
              "      <th>Label</th>\n",
              "      <th>Attack</th>\n",
              "    </tr>\n",
              "  </thead>\n",
              "  <tbody>\n",
              "    <tr>\n",
              "      <th>0</th>\n",
              "      <td>172.18.174.73:63318</td>\n",
              "      <td>52.139.250.253:443</td>\n",
              "      <td>6</td>\n",
              "      <td>91.00</td>\n",
              "      <td>181</td>\n",
              "      <td>165</td>\n",
              "      <td>2</td>\n",
              "      <td>1</td>\n",
              "      <td>24</td>\n",
              "      <td>327</td>\n",
              "      <td>0</td>\n",
              "      <td>Benign</td>\n",
              "    </tr>\n",
              "    <tr>\n",
              "      <th>1</th>\n",
              "      <td>172.21.105.22:57442</td>\n",
              "      <td>192.168.1.255:15600</td>\n",
              "      <td>17</td>\n",
              "      <td>0.00</td>\n",
              "      <td>63</td>\n",
              "      <td>0</td>\n",
              "      <td>1</td>\n",
              "      <td>0</td>\n",
              "      <td>0</td>\n",
              "      <td>0</td>\n",
              "      <td>0</td>\n",
              "      <td>Benign</td>\n",
              "    </tr>\n",
              "    <tr>\n",
              "      <th>2</th>\n",
              "      <td>172.27.67.73:57452</td>\n",
              "      <td>239.255.255.250:15600</td>\n",
              "      <td>17</td>\n",
              "      <td>0.00</td>\n",
              "      <td>63</td>\n",
              "      <td>0</td>\n",
              "      <td>1</td>\n",
              "      <td>0</td>\n",
              "      <td>0</td>\n",
              "      <td>0</td>\n",
              "      <td>0</td>\n",
              "      <td>Benign</td>\n",
              "    </tr>\n",
              "    <tr>\n",
              "      <th>3</th>\n",
              "      <td>172.24.40.184:138</td>\n",
              "      <td>192.168.1.255:138</td>\n",
              "      <td>17</td>\n",
              "      <td>10.16</td>\n",
              "      <td>472</td>\n",
              "      <td>0</td>\n",
              "      <td>2</td>\n",
              "      <td>0</td>\n",
              "      <td>0</td>\n",
              "      <td>0</td>\n",
              "      <td>0</td>\n",
              "      <td>Benign</td>\n",
              "    </tr>\n",
              "    <tr>\n",
              "      <th>4</th>\n",
              "      <td>172.29.77.5:51989</td>\n",
              "      <td>192.168.1.255:15600</td>\n",
              "      <td>17</td>\n",
              "      <td>0.00</td>\n",
              "      <td>63</td>\n",
              "      <td>0</td>\n",
              "      <td>1</td>\n",
              "      <td>0</td>\n",
              "      <td>0</td>\n",
              "      <td>0</td>\n",
              "      <td>0</td>\n",
              "      <td>Benign</td>\n",
              "    </tr>\n",
              "    <tr>\n",
              "      <th>...</th>\n",
              "      <td>...</td>\n",
              "      <td>...</td>\n",
              "      <td>...</td>\n",
              "      <td>...</td>\n",
              "      <td>...</td>\n",
              "      <td>...</td>\n",
              "      <td>...</td>\n",
              "      <td>...</td>\n",
              "      <td>...</td>\n",
              "      <td>...</td>\n",
              "      <td>...</td>\n",
              "      <td>...</td>\n",
              "    </tr>\n",
              "    <tr>\n",
              "      <th>1379269</th>\n",
              "      <td>172.16.31.157:58032</td>\n",
              "      <td>192.168.1.194:80</td>\n",
              "      <td>6</td>\n",
              "      <td>7.00</td>\n",
              "      <td>216</td>\n",
              "      <td>180</td>\n",
              "      <td>4</td>\n",
              "      <td>3</td>\n",
              "      <td>18</td>\n",
              "      <td>9433</td>\n",
              "      <td>1</td>\n",
              "      <td>ddos</td>\n",
              "    </tr>\n",
              "    <tr>\n",
              "      <th>1379270</th>\n",
              "      <td>172.24.214.65:58034</td>\n",
              "      <td>192.168.1.194:80</td>\n",
              "      <td>6</td>\n",
              "      <td>7.00</td>\n",
              "      <td>216</td>\n",
              "      <td>180</td>\n",
              "      <td>4</td>\n",
              "      <td>3</td>\n",
              "      <td>18</td>\n",
              "      <td>9221</td>\n",
              "      <td>1</td>\n",
              "      <td>ddos</td>\n",
              "    </tr>\n",
              "    <tr>\n",
              "      <th>1379271</th>\n",
              "      <td>172.21.120.36:58036</td>\n",
              "      <td>192.168.1.194:80</td>\n",
              "      <td>6</td>\n",
              "      <td>7.00</td>\n",
              "      <td>216</td>\n",
              "      <td>180</td>\n",
              "      <td>4</td>\n",
              "      <td>3</td>\n",
              "      <td>18</td>\n",
              "      <td>9656</td>\n",
              "      <td>1</td>\n",
              "      <td>ddos</td>\n",
              "    </tr>\n",
              "    <tr>\n",
              "      <th>1379272</th>\n",
              "      <td>172.28.23.110:58038</td>\n",
              "      <td>192.168.1.194:80</td>\n",
              "      <td>6</td>\n",
              "      <td>7.00</td>\n",
              "      <td>216</td>\n",
              "      <td>180</td>\n",
              "      <td>4</td>\n",
              "      <td>3</td>\n",
              "      <td>18</td>\n",
              "      <td>10046</td>\n",
              "      <td>1</td>\n",
              "      <td>ddos</td>\n",
              "    </tr>\n",
              "    <tr>\n",
              "      <th>1379273</th>\n",
              "      <td>172.20.153.15:58040</td>\n",
              "      <td>192.168.1.194:80</td>\n",
              "      <td>6</td>\n",
              "      <td>7.00</td>\n",
              "      <td>216</td>\n",
              "      <td>180</td>\n",
              "      <td>4</td>\n",
              "      <td>3</td>\n",
              "      <td>18</td>\n",
              "      <td>10485</td>\n",
              "      <td>1</td>\n",
              "      <td>ddos</td>\n",
              "    </tr>\n",
              "  </tbody>\n",
              "</table>\n",
              "<p>1379274 rows × 12 columns</p>\n",
              "</div>"
            ],
            "text/plain": [
              "               IPV4_SRC_ADDR          IPV4_DST_ADDR  ...  Label  Attack\n",
              "0        172.18.174.73:63318     52.139.250.253:443  ...      0  Benign\n",
              "1        172.21.105.22:57442    192.168.1.255:15600  ...      0  Benign\n",
              "2         172.27.67.73:57452  239.255.255.250:15600  ...      0  Benign\n",
              "3          172.24.40.184:138      192.168.1.255:138  ...      0  Benign\n",
              "4          172.29.77.5:51989    192.168.1.255:15600  ...      0  Benign\n",
              "...                      ...                    ...  ...    ...     ...\n",
              "1379269  172.16.31.157:58032       192.168.1.194:80  ...      1    ddos\n",
              "1379270  172.24.214.65:58034       192.168.1.194:80  ...      1    ddos\n",
              "1379271  172.21.120.36:58036       192.168.1.194:80  ...      1    ddos\n",
              "1379272  172.28.23.110:58038       192.168.1.194:80  ...      1    ddos\n",
              "1379273  172.20.153.15:58040       192.168.1.194:80  ...      1    ddos\n",
              "\n",
              "[1379274 rows x 12 columns]"
            ]
          },
          "execution_count": 8,
          "metadata": {
            "tags": []
          },
          "output_type": "execute_result"
        }
      ],
      "source": [
        "data"
      ]
    },
    {
      "cell_type": "code",
      "execution_count": 9,
      "metadata": {
        "id": "C_WU15ngvnBM"
      },
      "outputs": [],
      "source": [
        "data.drop(columns=['Label'],inplace = True)"
      ]
    },
    {
      "cell_type": "code",
      "execution_count": 10,
      "metadata": {
        "id": "Q0d3nbdiv37j"
      },
      "outputs": [],
      "source": [
        "data.rename(columns={\"Attack\": \"label\"},inplace = True)"
      ]
    },
    {
      "cell_type": "code",
      "execution_count": 11,
      "metadata": {
        "id": "yjS-hTKDzI29"
      },
      "outputs": [],
      "source": [
        "le = LabelEncoder()\n",
        "le.fit_transform(data.label.values)\n",
        "data['label'] = le.transform(data['label'])"
      ]
    },
    {
      "cell_type": "code",
      "execution_count": 12,
      "metadata": {
        "id": "SVgjPVfg03XG"
      },
      "outputs": [],
      "source": [
        "label = data.label"
      ]
    },
    {
      "cell_type": "code",
      "execution_count": 13,
      "metadata": {
        "id": "ADl2Fj7H08Rr"
      },
      "outputs": [],
      "source": [
        "data.drop(columns=['label'],inplace = True)"
      ]
    },
    {
      "cell_type": "code",
      "execution_count": 14,
      "metadata": {
        "id": "qhsZMD3uwLk7"
      },
      "outputs": [],
      "source": [
        "scaler = StandardScaler()"
      ]
    },
    {
      "cell_type": "code",
      "execution_count": 15,
      "metadata": {
        "id": "aukoVdNf2zcp"
      },
      "outputs": [],
      "source": [
        "data =  pd.concat([data, label], axis=1)"
      ]
    },
    {
      "cell_type": "code",
      "execution_count": 16,
      "metadata": {
        "colab": {
          "base_uri": "https://localhost:8080/",
          "height": 439
        },
        "id": "IP-ZEZW4nxSm",
        "outputId": "75bb0453-8aa9-4b3f-cf05-9c158734627a"
      },
      "outputs": [
        {
          "data": {
            "text/html": [
              "<div>\n",
              "<style scoped>\n",
              "    .dataframe tbody tr th:only-of-type {\n",
              "        vertical-align: middle;\n",
              "    }\n",
              "\n",
              "    .dataframe tbody tr th {\n",
              "        vertical-align: top;\n",
              "    }\n",
              "\n",
              "    .dataframe thead th {\n",
              "        text-align: right;\n",
              "    }\n",
              "</style>\n",
              "<table border=\"1\" class=\"dataframe\">\n",
              "  <thead>\n",
              "    <tr style=\"text-align: right;\">\n",
              "      <th></th>\n",
              "      <th>IPV4_SRC_ADDR</th>\n",
              "      <th>IPV4_DST_ADDR</th>\n",
              "      <th>PROTOCOL</th>\n",
              "      <th>L7_PROTO</th>\n",
              "      <th>IN_BYTES</th>\n",
              "      <th>OUT_BYTES</th>\n",
              "      <th>IN_PKTS</th>\n",
              "      <th>OUT_PKTS</th>\n",
              "      <th>TCP_FLAGS</th>\n",
              "      <th>FLOW_DURATION_MILLISECONDS</th>\n",
              "      <th>label</th>\n",
              "    </tr>\n",
              "  </thead>\n",
              "  <tbody>\n",
              "    <tr>\n",
              "      <th>0</th>\n",
              "      <td>172.18.174.73:63318</td>\n",
              "      <td>52.139.250.253:443</td>\n",
              "      <td>6</td>\n",
              "      <td>91.00</td>\n",
              "      <td>181</td>\n",
              "      <td>165</td>\n",
              "      <td>2</td>\n",
              "      <td>1</td>\n",
              "      <td>24</td>\n",
              "      <td>327</td>\n",
              "      <td>0</td>\n",
              "    </tr>\n",
              "    <tr>\n",
              "      <th>1</th>\n",
              "      <td>172.21.105.22:57442</td>\n",
              "      <td>192.168.1.255:15600</td>\n",
              "      <td>17</td>\n",
              "      <td>0.00</td>\n",
              "      <td>63</td>\n",
              "      <td>0</td>\n",
              "      <td>1</td>\n",
              "      <td>0</td>\n",
              "      <td>0</td>\n",
              "      <td>0</td>\n",
              "      <td>0</td>\n",
              "    </tr>\n",
              "    <tr>\n",
              "      <th>2</th>\n",
              "      <td>172.27.67.73:57452</td>\n",
              "      <td>239.255.255.250:15600</td>\n",
              "      <td>17</td>\n",
              "      <td>0.00</td>\n",
              "      <td>63</td>\n",
              "      <td>0</td>\n",
              "      <td>1</td>\n",
              "      <td>0</td>\n",
              "      <td>0</td>\n",
              "      <td>0</td>\n",
              "      <td>0</td>\n",
              "    </tr>\n",
              "    <tr>\n",
              "      <th>3</th>\n",
              "      <td>172.24.40.184:138</td>\n",
              "      <td>192.168.1.255:138</td>\n",
              "      <td>17</td>\n",
              "      <td>10.16</td>\n",
              "      <td>472</td>\n",
              "      <td>0</td>\n",
              "      <td>2</td>\n",
              "      <td>0</td>\n",
              "      <td>0</td>\n",
              "      <td>0</td>\n",
              "      <td>0</td>\n",
              "    </tr>\n",
              "    <tr>\n",
              "      <th>4</th>\n",
              "      <td>172.29.77.5:51989</td>\n",
              "      <td>192.168.1.255:15600</td>\n",
              "      <td>17</td>\n",
              "      <td>0.00</td>\n",
              "      <td>63</td>\n",
              "      <td>0</td>\n",
              "      <td>1</td>\n",
              "      <td>0</td>\n",
              "      <td>0</td>\n",
              "      <td>0</td>\n",
              "      <td>0</td>\n",
              "    </tr>\n",
              "    <tr>\n",
              "      <th>...</th>\n",
              "      <td>...</td>\n",
              "      <td>...</td>\n",
              "      <td>...</td>\n",
              "      <td>...</td>\n",
              "      <td>...</td>\n",
              "      <td>...</td>\n",
              "      <td>...</td>\n",
              "      <td>...</td>\n",
              "      <td>...</td>\n",
              "      <td>...</td>\n",
              "      <td>...</td>\n",
              "    </tr>\n",
              "    <tr>\n",
              "      <th>1379269</th>\n",
              "      <td>172.16.31.157:58032</td>\n",
              "      <td>192.168.1.194:80</td>\n",
              "      <td>6</td>\n",
              "      <td>7.00</td>\n",
              "      <td>216</td>\n",
              "      <td>180</td>\n",
              "      <td>4</td>\n",
              "      <td>3</td>\n",
              "      <td>18</td>\n",
              "      <td>9433</td>\n",
              "      <td>2</td>\n",
              "    </tr>\n",
              "    <tr>\n",
              "      <th>1379270</th>\n",
              "      <td>172.24.214.65:58034</td>\n",
              "      <td>192.168.1.194:80</td>\n",
              "      <td>6</td>\n",
              "      <td>7.00</td>\n",
              "      <td>216</td>\n",
              "      <td>180</td>\n",
              "      <td>4</td>\n",
              "      <td>3</td>\n",
              "      <td>18</td>\n",
              "      <td>9221</td>\n",
              "      <td>2</td>\n",
              "    </tr>\n",
              "    <tr>\n",
              "      <th>1379271</th>\n",
              "      <td>172.21.120.36:58036</td>\n",
              "      <td>192.168.1.194:80</td>\n",
              "      <td>6</td>\n",
              "      <td>7.00</td>\n",
              "      <td>216</td>\n",
              "      <td>180</td>\n",
              "      <td>4</td>\n",
              "      <td>3</td>\n",
              "      <td>18</td>\n",
              "      <td>9656</td>\n",
              "      <td>2</td>\n",
              "    </tr>\n",
              "    <tr>\n",
              "      <th>1379272</th>\n",
              "      <td>172.28.23.110:58038</td>\n",
              "      <td>192.168.1.194:80</td>\n",
              "      <td>6</td>\n",
              "      <td>7.00</td>\n",
              "      <td>216</td>\n",
              "      <td>180</td>\n",
              "      <td>4</td>\n",
              "      <td>3</td>\n",
              "      <td>18</td>\n",
              "      <td>10046</td>\n",
              "      <td>2</td>\n",
              "    </tr>\n",
              "    <tr>\n",
              "      <th>1379273</th>\n",
              "      <td>172.20.153.15:58040</td>\n",
              "      <td>192.168.1.194:80</td>\n",
              "      <td>6</td>\n",
              "      <td>7.00</td>\n",
              "      <td>216</td>\n",
              "      <td>180</td>\n",
              "      <td>4</td>\n",
              "      <td>3</td>\n",
              "      <td>18</td>\n",
              "      <td>10485</td>\n",
              "      <td>2</td>\n",
              "    </tr>\n",
              "  </tbody>\n",
              "</table>\n",
              "<p>1379274 rows × 11 columns</p>\n",
              "</div>"
            ],
            "text/plain": [
              "               IPV4_SRC_ADDR  ... label\n",
              "0        172.18.174.73:63318  ...     0\n",
              "1        172.21.105.22:57442  ...     0\n",
              "2         172.27.67.73:57452  ...     0\n",
              "3          172.24.40.184:138  ...     0\n",
              "4          172.29.77.5:51989  ...     0\n",
              "...                      ...  ...   ...\n",
              "1379269  172.16.31.157:58032  ...     2\n",
              "1379270  172.24.214.65:58034  ...     2\n",
              "1379271  172.21.120.36:58036  ...     2\n",
              "1379272  172.28.23.110:58038  ...     2\n",
              "1379273  172.20.153.15:58040  ...     2\n",
              "\n",
              "[1379274 rows x 11 columns]"
            ]
          },
          "execution_count": 16,
          "metadata": {
            "tags": []
          },
          "output_type": "execute_result"
        }
      ],
      "source": [
        "data"
      ]
    },
    {
      "cell_type": "code",
      "execution_count": 17,
      "metadata": {
        "id": "PUa4uJbewQc7"
      },
      "outputs": [],
      "source": [
        "X_train, X_test, y_train, y_test = train_test_split(\n",
        "     data, label, test_size=0.4, random_state=42,stratify= label)"
      ]
    },
    {
      "cell_type": "code",
      "execution_count": 18,
      "metadata": {
        "colab": {
          "base_uri": "https://localhost:8080/"
        },
        "id": "z3DrIWDHqNxp",
        "outputId": "afdb1bda-42ae-4a6c-ed22-bd3eebf831bb"
      },
      "outputs": [
        {
          "name": "stderr",
          "output_type": "stream",
          "text": [
            "/usr/local/lib/python3.6/dist-packages/category_encoders/utils.py:21: FutureWarning: is_categorical is deprecated and will be removed in a future version.  Use is_categorical_dtype instead\n",
            "  elif pd.api.types.is_categorical(cols):\n"
          ]
        }
      ],
      "source": [
        "encoder = ce.TargetEncoder(cols=['TCP_FLAGS','L7_PROTO','PROTOCOL'])\n",
        "encoder.fit(X_train, y_train)\n",
        "X_train = encoder.transform(X_train)"
      ]
    },
    {
      "cell_type": "code",
      "execution_count": 19,
      "metadata": {
        "id": "EDKYHCbcqN81"
      },
      "outputs": [],
      "source": [
        "cols_to_norm = list(set(list(X_train.iloc[:, 2:].columns ))  - set(list(['label'])) )\n",
        "X_train[cols_to_norm] = scaler.fit_transform(X_train[cols_to_norm])"
      ]
    },
    {
      "cell_type": "code",
      "execution_count": 20,
      "metadata": {
        "id": "ek535MkWwUHN"
      },
      "outputs": [],
      "source": [
        "X_train['h'] = X_train[ cols_to_norm ].values.tolist()"
      ]
    },
    {
      "cell_type": "code",
      "execution_count": 21,
      "metadata": {
        "id": "OIrcNfMSwa0j"
      },
      "outputs": [],
      "source": [
        "G = nx.from_pandas_edgelist(X_train, \"IPV4_SRC_ADDR\", \"IPV4_DST_ADDR\", ['h','label'],create_using=nx.MultiGraph())"
      ]
    },
    {
      "cell_type": "code",
      "execution_count": 22,
      "metadata": {
        "id": "QluLSxbiwn7M"
      },
      "outputs": [],
      "source": [
        "G = G.to_directed()\n"
      ]
    },
    {
      "cell_type": "code",
      "execution_count": 23,
      "metadata": {
        "id": "2zClkKEzwrVb"
      },
      "outputs": [],
      "source": [
        "G = from_networkx(G,edge_attrs=['h','label'] )\n"
      ]
    },
    {
      "cell_type": "code",
      "execution_count": 24,
      "metadata": {
        "id": "9jlBYgE8wsW7"
      },
      "outputs": [],
      "source": [
        "# Eq1\n",
        "G.ndata['h'] = th.ones(G.num_nodes(), G.edata['h'].shape[1])"
      ]
    },
    {
      "cell_type": "code",
      "execution_count": 25,
      "metadata": {
        "id": "E7Vc6IELwuJr"
      },
      "outputs": [],
      "source": [
        "G.edata['train_mask'] = th.ones(len(G.edata['h']), dtype=th.bool)\n"
      ]
    },
    {
      "cell_type": "code",
      "execution_count": 26,
      "metadata": {
        "colab": {
          "base_uri": "https://localhost:8080/"
        },
        "id": "BIx7-W6s46Ju",
        "outputId": "67f2e7db-a13a-4e7e-be4b-1391149b7ddb"
      },
      "outputs": [
        {
          "data": {
            "text/plain": [
              "tensor([True, True, True,  ..., True, True, True])"
            ]
          },
          "execution_count": 26,
          "metadata": {
            "tags": []
          },
          "output_type": "execute_result"
        }
      ],
      "source": [
        "G.edata['train_mask'] "
      ]
    },
    {
      "cell_type": "code",
      "execution_count": 27,
      "metadata": {
        "id": "DzDap1MR5e95"
      },
      "outputs": [],
      "source": [
        "def compute_accuracy(pred, labels):\n",
        "    return (pred.argmax(1) == labels).float().mean().item()"
      ]
    },
    {
      "cell_type": "code",
      "execution_count": 28,
      "metadata": {
        "id": "5VzTQxAR5HoT"
      },
      "outputs": [],
      "source": [
        "class SAGELayer(nn.Module):\n",
        "    def __init__(self, ndim_in, edims, ndim_out, activation):\n",
        "        super(SAGELayer, self).__init__()\n",
        "        ### force to outut fix dimensions\n",
        "        self.W_msg = nn.Linear(ndim_in + edims, ndim_out)\n",
        "        ### apply weight\n",
        "        self.W_apply = nn.Linear(ndim_in + ndim_out, ndim_out)\n",
        "        self.activation = activation\n",
        "\n",
        "    def message_func(self, edges):\n",
        "        return {'m': self.W_msg(th.cat([edges.src['h'], edges.data['h']], 2))}\n",
        "\n",
        "    def forward(self, g_dgl, nfeats, efeats):\n",
        "        with g_dgl.local_scope():\n",
        "            g = g_dgl\n",
        "            g.ndata['h'] = nfeats\n",
        "            g.edata['h'] = efeats\n",
        "            # Eq4\n",
        "            g.update_all(self.message_func, fn.mean('m', 'h_neigh'))\n",
        "            # Eq5          \n",
        "            g.ndata['h'] = F.relu(self.W_apply(th.cat([g.ndata['h'], g.ndata['h_neigh']], 2)))\n",
        "            return g.ndata['h']\n",
        "\n",
        "\n",
        "class SAGE(nn.Module):\n",
        "    def __init__(self, ndim_in, ndim_out, edim, activation, dropout):\n",
        "        super(SAGE, self).__init__()\n",
        "        self.layers = nn.ModuleList()\n",
        "        self.layers.append(SAGELayer(ndim_in, edim, 128, activation))\n",
        "        self.layers.append(SAGELayer(128, edim, ndim_out, activation))\n",
        "        self.dropout = nn.Dropout(p=dropout)\n",
        "\n",
        "    def forward(self, g, nfeats, efeats):\n",
        "        for i, layer in enumerate(self.layers):\n",
        "            if i != 0:\n",
        "                nfeats = self.dropout(nfeats)\n",
        "            nfeats = layer(g, nfeats, efeats)\n",
        "        return nfeats.sum(1)"
      ]
    },
    {
      "cell_type": "code",
      "execution_count": 29,
      "metadata": {
        "id": "hrLYvze5wwMi"
      },
      "outputs": [],
      "source": [
        "class MLPPredictor(nn.Module):\n",
        "    def __init__(self, in_features, out_classes):\n",
        "        super().__init__()\n",
        "        self.W = nn.Linear(in_features * 2, out_classes)\n",
        "\n",
        "    def apply_edges(self, edges):\n",
        "        h_u = edges.src['h']\n",
        "        h_v = edges.dst['h']\n",
        "        score = self.W(th.cat([h_u, h_v], 1))\n",
        "        return {'score': score}\n",
        "\n",
        "    def forward(self, graph, h):\n",
        "        with graph.local_scope():\n",
        "            graph.ndata['h'] = h\n",
        "            graph.apply_edges(self.apply_edges)\n",
        "            return graph.edata['score']"
      ]
    },
    {
      "cell_type": "code",
      "execution_count": 30,
      "metadata": {
        "id": "GPLg-kCcwxLa"
      },
      "outputs": [],
      "source": [
        "G.ndata['h'] = th.reshape(G.ndata['h'], (G.ndata['h'].shape[0], 1,G.ndata['h'].shape[1]))\n",
        "G.edata['h'] = th.reshape(G.edata['h'], (G.edata['h'].shape[0], 1,G.edata['h'].shape[1]))"
      ]
    },
    {
      "cell_type": "code",
      "execution_count": 31,
      "metadata": {
        "id": "SwdZs785w1dT"
      },
      "outputs": [],
      "source": [
        "class Model(nn.Module):\n",
        "    def __init__(self, ndim_in, ndim_out, edim, activation, dropout):\n",
        "        super().__init__()\n",
        "        self.gnn = SAGE(ndim_in, ndim_out, edim, activation, dropout)\n",
        "        self.pred = MLPPredictor(ndim_out, 10)\n",
        "    def forward(self, g, nfeats, efeats):\n",
        "        h = self.gnn(g, nfeats, efeats)\n",
        "        return self.pred(g, h)"
      ]
    },
    {
      "cell_type": "code",
      "execution_count": 32,
      "metadata": {
        "id": "9ah_CyoGrfrB"
      },
      "outputs": [],
      "source": [
        "from sklearn.utils import class_weight\n",
        "class_weights = [5.1032e+01, 7.9973e+00, 4.2264e+00, 4.7852e+00, 5.9438e+01, 1.0651e+02,\n",
        "        8.8245e+01, 9.7360e+02, 10.4252e+01, 1.3800e-01]"
      ]
    },
    {
      "cell_type": "code",
      "execution_count": 33,
      "metadata": {
        "id": "Cti0vAFYw3A0"
      },
      "outputs": [],
      "source": [
        "class_weights = th.FloatTensor(class_weights).cuda()\n",
        "criterion = nn.CrossEntropyLoss(weight = class_weights)"
      ]
    },
    {
      "cell_type": "code",
      "execution_count": 34,
      "metadata": {
        "colab": {
          "base_uri": "https://localhost:8080/"
        },
        "id": "Rj3DHIZmw4IM",
        "outputId": "673d51ff-8ed8-463c-8ab3-f6c7f4609ac0"
      },
      "outputs": [
        {
          "data": {
            "text/plain": [
              "device(type='cuda', index=0)"
            ]
          },
          "execution_count": 34,
          "metadata": {
            "tags": []
          },
          "output_type": "execute_result"
        }
      ],
      "source": [
        "G = G.to('cuda:0')\n",
        "G.device"
      ]
    },
    {
      "cell_type": "code",
      "execution_count": 35,
      "metadata": {
        "colab": {
          "base_uri": "https://localhost:8080/"
        },
        "id": "qdlVG3JOw5Qj",
        "outputId": "5d9d3eb2-9d32-460f-c637-ae14314a5251"
      },
      "outputs": [
        {
          "data": {
            "text/plain": [
              "device(type='cuda', index=0)"
            ]
          },
          "execution_count": 35,
          "metadata": {
            "tags": []
          },
          "output_type": "execute_result"
        }
      ],
      "source": [
        "G.ndata['h'].device\n"
      ]
    },
    {
      "cell_type": "code",
      "execution_count": 36,
      "metadata": {
        "colab": {
          "base_uri": "https://localhost:8080/"
        },
        "id": "dvt3pnXmw6U7",
        "outputId": "ee6c43aa-2ed7-4c8f-efb4-c30358d502c5"
      },
      "outputs": [
        {
          "data": {
            "text/plain": [
              "device(type='cuda', index=0)"
            ]
          },
          "execution_count": 36,
          "metadata": {
            "tags": []
          },
          "output_type": "execute_result"
        }
      ],
      "source": [
        "G.edata['h'].device\n"
      ]
    },
    {
      "cell_type": "code",
      "execution_count": 37,
      "metadata": {
        "colab": {
          "base_uri": "https://localhost:8080/"
        },
        "id": "-_eTiHzWw8Cz",
        "outputId": "bc03099b-51f8-4efd-f2dd-60fd3df9dcd5"
      },
      "outputs": [
        {
          "name": "stdout",
          "output_type": "stream",
          "text": [
            "Training acc: 0.49338480830192566\n",
            "Training acc: 0.5795575976371765\n",
            "Training acc: 0.6212359666824341\n",
            "Training acc: 0.6268723607063293\n",
            "Training acc: 0.6353545188903809\n",
            "Training acc: 0.6454473733901978\n",
            "Training acc: 0.6479613780975342\n",
            "Training acc: 0.6500028967857361\n",
            "Training acc: 0.6547657251358032\n",
            "Training acc: 0.6484314203262329\n",
            "Training acc: 0.6512596011161804\n",
            "Training acc: 0.6600987911224365\n",
            "Training acc: 0.6593846678733826\n",
            "Training acc: 0.6485613584518433\n",
            "Training acc: 0.6594070196151733\n",
            "Training acc: 0.664171040058136\n",
            "Training acc: 0.6688902974128723\n",
            "Training acc: 0.6673858761787415\n",
            "Training acc: 0.6684141755104065\n",
            "Training acc: 0.6666475534439087\n",
            "Training acc: 0.6615198850631714\n",
            "Training acc: 0.6691319346427917\n",
            "Training acc: 0.6582294702529907\n",
            "Training acc: 0.6720429062843323\n",
            "Training acc: 0.6738397479057312\n",
            "Training acc: 0.6652349829673767\n",
            "Training acc: 0.6706943511962891\n",
            "Training acc: 0.674399197101593\n",
            "Training acc: 0.6597175598144531\n",
            "Training acc: 0.6683338284492493\n",
            "Training acc: 0.6722018122673035\n",
            "Training acc: 0.6499993205070496\n",
            "Training acc: 0.666408896446228\n",
            "Training acc: 0.6763458847999573\n",
            "Training acc: 0.6763604283332825\n",
            "Training acc: 0.654382050037384\n",
            "Training acc: 0.675874650478363\n",
            "Training acc: 0.6769349575042725\n",
            "Training acc: 0.6727437376976013\n",
            "Training acc: 0.6766074895858765\n",
            "Training acc: 0.6775289177894592\n",
            "Training acc: 0.6592801809310913\n",
            "Training acc: 0.6758178472518921\n",
            "Training acc: 0.675396740436554\n",
            "Training acc: 0.6625058650970459\n",
            "Training acc: 0.6654017567634583\n",
            "Training acc: 0.6763537526130676\n",
            "Training acc: 0.6770412921905518\n",
            "Training acc: 0.6765440702438354\n"
          ]
        }
      ],
      "source": [
        "node_features = G.ndata['h']\n",
        "edge_features = G.edata['h']\n",
        "\n",
        "edge_label = G.edata['label']\n",
        "train_mask = G.edata['train_mask']\n",
        "\n",
        "model = Model(G.ndata['h'].shape[2], 128, G.ndata['h'].shape[2], F.relu, 0.2).cuda()\n",
        "opt = th.optim.Adam(model.parameters())\n",
        "\n",
        "for epoch in range(1,5000):\n",
        "    pred = model(G, node_features,edge_features).cuda()\n",
        "    loss = criterion(pred[train_mask] ,edge_label[train_mask])\n",
        "    opt.zero_grad()\n",
        "    loss.backward()\n",
        "    opt.step()\n",
        "    if epoch % 100 == 0:\n",
        "      print('Training acc:', compute_accuracy(pred[train_mask], edge_label[train_mask]))\n"
      ]
    },
    {
      "cell_type": "code",
      "execution_count": 38,
      "metadata": {
        "id": "p7gYo6lVtHCN"
      },
      "outputs": [],
      "source": [
        "X_test = encoder.transform(X_test)"
      ]
    },
    {
      "cell_type": "code",
      "execution_count": 39,
      "metadata": {
        "id": "OUGIEbMFtSnf"
      },
      "outputs": [],
      "source": [
        "X_test[cols_to_norm] = scaler.transform(X_test[cols_to_norm])"
      ]
    },
    {
      "cell_type": "code",
      "execution_count": 40,
      "metadata": {
        "colab": {
          "base_uri": "https://localhost:8080/",
          "height": 439
        },
        "id": "VlyqlEqjtb9s",
        "outputId": "2f198c30-f354-40f2-f908-c578e9692fbe"
      },
      "outputs": [
        {
          "data": {
            "text/html": [
              "<div>\n",
              "<style scoped>\n",
              "    .dataframe tbody tr th:only-of-type {\n",
              "        vertical-align: middle;\n",
              "    }\n",
              "\n",
              "    .dataframe tbody tr th {\n",
              "        vertical-align: top;\n",
              "    }\n",
              "\n",
              "    .dataframe thead th {\n",
              "        text-align: right;\n",
              "    }\n",
              "</style>\n",
              "<table border=\"1\" class=\"dataframe\">\n",
              "  <thead>\n",
              "    <tr style=\"text-align: right;\">\n",
              "      <th></th>\n",
              "      <th>IPV4_SRC_ADDR</th>\n",
              "      <th>IPV4_DST_ADDR</th>\n",
              "      <th>PROTOCOL</th>\n",
              "      <th>L7_PROTO</th>\n",
              "      <th>IN_BYTES</th>\n",
              "      <th>OUT_BYTES</th>\n",
              "      <th>IN_PKTS</th>\n",
              "      <th>OUT_PKTS</th>\n",
              "      <th>TCP_FLAGS</th>\n",
              "      <th>FLOW_DURATION_MILLISECONDS</th>\n",
              "      <th>label</th>\n",
              "    </tr>\n",
              "  </thead>\n",
              "  <tbody>\n",
              "    <tr>\n",
              "      <th>1186073</th>\n",
              "      <td>172.26.225.219:443</td>\n",
              "      <td>192.168.1.31:36052</td>\n",
              "      <td>0.312674</td>\n",
              "      <td>-1.185025</td>\n",
              "      <td>-0.007690</td>\n",
              "      <td>-0.020804</td>\n",
              "      <td>-0.006124</td>\n",
              "      <td>-0.006233</td>\n",
              "      <td>-2.069811</td>\n",
              "      <td>-0.055115</td>\n",
              "      <td>0</td>\n",
              "    </tr>\n",
              "    <tr>\n",
              "      <th>658600</th>\n",
              "      <td>172.18.135.214:36914</td>\n",
              "      <td>192.168.1.195:80</td>\n",
              "      <td>0.312674</td>\n",
              "      <td>0.753148</td>\n",
              "      <td>-0.005481</td>\n",
              "      <td>-0.005525</td>\n",
              "      <td>-0.004410</td>\n",
              "      <td>-0.003977</td>\n",
              "      <td>0.897105</td>\n",
              "      <td>-0.051606</td>\n",
              "      <td>4</td>\n",
              "    </tr>\n",
              "    <tr>\n",
              "      <th>681042</th>\n",
              "      <td>172.28.74.134:37866</td>\n",
              "      <td>192.168.1.190:80</td>\n",
              "      <td>0.312674</td>\n",
              "      <td>0.753148</td>\n",
              "      <td>-0.005343</td>\n",
              "      <td>-0.004975</td>\n",
              "      <td>-0.004752</td>\n",
              "      <td>-0.003413</td>\n",
              "      <td>0.897105</td>\n",
              "      <td>-0.054863</td>\n",
              "      <td>4</td>\n",
              "    </tr>\n",
              "    <tr>\n",
              "      <th>477472</th>\n",
              "      <td>172.18.244.36:47740</td>\n",
              "      <td>192.168.1.152:80</td>\n",
              "      <td>0.312674</td>\n",
              "      <td>0.753148</td>\n",
              "      <td>-0.003317</td>\n",
              "      <td>0.006410</td>\n",
              "      <td>-0.004410</td>\n",
              "      <td>-0.002849</td>\n",
              "      <td>0.897105</td>\n",
              "      <td>-0.054695</td>\n",
              "      <td>9</td>\n",
              "    </tr>\n",
              "    <tr>\n",
              "      <th>1137968</th>\n",
              "      <td>172.22.20.209:35014</td>\n",
              "      <td>192.168.1.190:80</td>\n",
              "      <td>0.312674</td>\n",
              "      <td>0.753148</td>\n",
              "      <td>-0.007393</td>\n",
              "      <td>-0.020746</td>\n",
              "      <td>-0.005781</td>\n",
              "      <td>-0.006233</td>\n",
              "      <td>-0.380046</td>\n",
              "      <td>-0.055200</td>\n",
              "      <td>4</td>\n",
              "    </tr>\n",
              "    <tr>\n",
              "      <th>...</th>\n",
              "      <td>...</td>\n",
              "      <td>...</td>\n",
              "      <td>...</td>\n",
              "      <td>...</td>\n",
              "      <td>...</td>\n",
              "      <td>...</td>\n",
              "      <td>...</td>\n",
              "      <td>...</td>\n",
              "      <td>...</td>\n",
              "      <td>...</td>\n",
              "      <td>...</td>\n",
              "    </tr>\n",
              "    <tr>\n",
              "      <th>8050</th>\n",
              "      <td>172.21.31.241:34786</td>\n",
              "      <td>192.168.1.195:80</td>\n",
              "      <td>0.312674</td>\n",
              "      <td>0.753148</td>\n",
              "      <td>-0.005387</td>\n",
              "      <td>-0.016143</td>\n",
              "      <td>-0.004752</td>\n",
              "      <td>-0.004541</td>\n",
              "      <td>0.897105</td>\n",
              "      <td>-0.054223</td>\n",
              "      <td>4</td>\n",
              "    </tr>\n",
              "    <tr>\n",
              "      <th>221607</th>\n",
              "      <td>172.26.68.87:33542</td>\n",
              "      <td>192.168.1.190:80</td>\n",
              "      <td>0.312674</td>\n",
              "      <td>0.753148</td>\n",
              "      <td>-0.003461</td>\n",
              "      <td>-0.004975</td>\n",
              "      <td>-0.004752</td>\n",
              "      <td>-0.003413</td>\n",
              "      <td>0.897105</td>\n",
              "      <td>-0.055073</td>\n",
              "      <td>4</td>\n",
              "    </tr>\n",
              "    <tr>\n",
              "      <th>204101</th>\n",
              "      <td>172.22.43.189:48886</td>\n",
              "      <td>192.168.1.190:80</td>\n",
              "      <td>0.312674</td>\n",
              "      <td>0.753148</td>\n",
              "      <td>-0.004867</td>\n",
              "      <td>-0.004975</td>\n",
              "      <td>-0.004410</td>\n",
              "      <td>-0.003413</td>\n",
              "      <td>0.897105</td>\n",
              "      <td>-0.055031</td>\n",
              "      <td>4</td>\n",
              "    </tr>\n",
              "    <tr>\n",
              "      <th>1195738</th>\n",
              "      <td>172.27.129.92:39934</td>\n",
              "      <td>192.168.1.184:443</td>\n",
              "      <td>0.312674</td>\n",
              "      <td>-1.185025</td>\n",
              "      <td>-0.007393</td>\n",
              "      <td>-0.020746</td>\n",
              "      <td>-0.005781</td>\n",
              "      <td>-0.006233</td>\n",
              "      <td>-0.380046</td>\n",
              "      <td>-0.055200</td>\n",
              "      <td>2</td>\n",
              "    </tr>\n",
              "    <tr>\n",
              "      <th>309021</th>\n",
              "      <td>172.19.233.181:40238</td>\n",
              "      <td>192.168.1.195:80</td>\n",
              "      <td>0.312674</td>\n",
              "      <td>0.753148</td>\n",
              "      <td>-0.007056</td>\n",
              "      <td>-0.020225</td>\n",
              "      <td>-0.005095</td>\n",
              "      <td>-0.005105</td>\n",
              "      <td>0.897411</td>\n",
              "      <td>0.116520</td>\n",
              "      <td>4</td>\n",
              "    </tr>\n",
              "  </tbody>\n",
              "</table>\n",
              "<p>551710 rows × 11 columns</p>\n",
              "</div>"
            ],
            "text/plain": [
              "                IPV4_SRC_ADDR  ... label\n",
              "1186073    172.26.225.219:443  ...     0\n",
              "658600   172.18.135.214:36914  ...     4\n",
              "681042    172.28.74.134:37866  ...     4\n",
              "477472    172.18.244.36:47740  ...     9\n",
              "1137968   172.22.20.209:35014  ...     4\n",
              "...                       ...  ...   ...\n",
              "8050      172.21.31.241:34786  ...     4\n",
              "221607     172.26.68.87:33542  ...     4\n",
              "204101    172.22.43.189:48886  ...     4\n",
              "1195738   172.27.129.92:39934  ...     2\n",
              "309021   172.19.233.181:40238  ...     4\n",
              "\n",
              "[551710 rows x 11 columns]"
            ]
          },
          "execution_count": 40,
          "metadata": {
            "tags": []
          },
          "output_type": "execute_result"
        }
      ],
      "source": [
        "X_test"
      ]
    },
    {
      "cell_type": "code",
      "execution_count": 41,
      "metadata": {
        "id": "q5CMxVe5xIDb"
      },
      "outputs": [],
      "source": [
        "X_test['h'] = X_test[ cols_to_norm ].values.tolist()"
      ]
    },
    {
      "cell_type": "code",
      "execution_count": 42,
      "metadata": {
        "id": "VsAmtLAbxN_6"
      },
      "outputs": [],
      "source": [
        "G_test = nx.from_pandas_edgelist(X_test, \"IPV4_SRC_ADDR\", \"IPV4_DST_ADDR\", ['h','label'],create_using=nx.MultiGraph())\n",
        "G_test = G_test.to_directed()\n",
        "G_test = from_networkx(G_test,edge_attrs=['h','label'] )\n",
        "actual = G_test.edata.pop('label')\n",
        "G_test.ndata['feature'] = th.ones(G_test.num_nodes(), G.ndata['h'].shape[2])"
      ]
    },
    {
      "cell_type": "code",
      "execution_count": 43,
      "metadata": {
        "id": "Eeux6JIxxQtC"
      },
      "outputs": [],
      "source": [
        "G_test.ndata['feature'] = th.reshape(G_test.ndata['feature'], (G_test.ndata['feature'].shape[0], 1, G_test.ndata['feature'].shape[1]))"
      ]
    },
    {
      "cell_type": "code",
      "execution_count": 44,
      "metadata": {
        "id": "PBETQI3YxYay"
      },
      "outputs": [],
      "source": [
        "G_test.edata['h'] = th.reshape(G_test.edata['h'], (G_test.edata['h'].shape[0], 1, G_test.edata['h'].shape[1]))\n"
      ]
    },
    {
      "cell_type": "code",
      "execution_count": 45,
      "metadata": {
        "id": "qlTOyVN6xZZB"
      },
      "outputs": [],
      "source": [
        "G_test = G_test.to('cuda:0')\n"
      ]
    },
    {
      "cell_type": "code",
      "execution_count": 46,
      "metadata": {
        "id": "QyugNIt9xac6"
      },
      "outputs": [],
      "source": [
        "import timeit\n",
        "start_time = timeit.default_timer()\n",
        "node_features_test = G_test.ndata['feature']\n",
        "edge_features_test = G_test.edata['h']\n",
        "test_pred = model(G_test, node_features_test, edge_features_test).cuda()\n",
        "elapsed = timeit.default_timer() - start_time"
      ]
    },
    {
      "cell_type": "code",
      "execution_count": 46,
      "metadata": {
        "id": "0yu7IsTnlqK0"
      },
      "outputs": [],
      "source": []
    },
    {
      "cell_type": "code",
      "execution_count": 47,
      "metadata": {
        "colab": {
          "base_uri": "https://localhost:8080/"
        },
        "id": "KecCvilSxcFK",
        "outputId": "f768e819-21d5-4701-af7c-393e19f15d69"
      },
      "outputs": [
        {
          "name": "stdout",
          "output_type": "stream",
          "text": [
            "0.11393688899988774 seconds\n"
          ]
        }
      ],
      "source": [
        "print(str(elapsed) + ' seconds')\n"
      ]
    },
    {
      "cell_type": "code",
      "execution_count": 48,
      "metadata": {
        "id": "BNQLnLoAxdST"
      },
      "outputs": [],
      "source": [
        "test_pred = test_pred.argmax(1)\n"
      ]
    },
    {
      "cell_type": "code",
      "execution_count": 49,
      "metadata": {
        "id": "9dtggXXsxevx"
      },
      "outputs": [],
      "source": [
        "test_pred = th.Tensor.cpu(test_pred).detach().numpy()\n"
      ]
    },
    {
      "cell_type": "code",
      "execution_count": 54,
      "metadata": {
        "id": "5TGb_KWRxfzS"
      },
      "outputs": [],
      "source": [
        "actual = le.inverse_transform(actual)\n",
        "test_pred = le.inverse_transform(test_pred)"
      ]
    },
    {
      "cell_type": "code",
      "execution_count": 55,
      "metadata": {
        "id": "n7z7tHTPxhBC"
      },
      "outputs": [],
      "source": [
        "from sklearn.metrics import plot_confusion_matrix\n"
      ]
    },
    {
      "cell_type": "code",
      "execution_count": 56,
      "metadata": {
        "id": "uMRairwzxiBC"
      },
      "outputs": [],
      "source": [
        "import numpy as np\n",
        "\n",
        "\n",
        "def plot_confusion_matrix(cm,\n",
        "                          target_names,\n",
        "                          title='Confusion matrix',\n",
        "                          cmap=None,\n",
        "                          normalize=True):\n",
        "    \n",
        "    import matplotlib.pyplot as plt\n",
        "    import numpy as np\n",
        "    import itertools\n",
        "\n",
        "    accuracy = np.trace(cm) / float(np.sum(cm))\n",
        "    misclass = 1 - accuracy\n",
        "\n",
        "    if cmap is None:\n",
        "        cmap = plt.get_cmap('Blues')\n",
        "\n",
        "    plt.figure(figsize=(12, 12))\n",
        "    plt.imshow(cm, interpolation='nearest', cmap=cmap)\n",
        "    plt.title(title)\n",
        "    plt.colorbar()\n",
        "\n",
        "    if target_names is not None:\n",
        "        tick_marks = np.arange(len(target_names))\n",
        "        plt.xticks(tick_marks, target_names, rotation=45)\n",
        "        plt.yticks(tick_marks, target_names)\n",
        "\n",
        "    if normalize:\n",
        "        cm = cm.astype('float') / cm.sum(axis=1)[:, np.newaxis]\n",
        "\n",
        "\n",
        "    thresh = cm.max() / 1.5 if normalize else cm.max() / 2\n",
        "    for i, j in itertools.product(range(cm.shape[0]), range(cm.shape[1])):\n",
        "        if normalize:\n",
        "            plt.text(j, i, \"{:0.4f}\".format(cm[i, j]),\n",
        "                     horizontalalignment=\"center\",\n",
        "                     color=\"white\" if cm[i, j] > thresh else \"black\")\n",
        "        else:\n",
        "            plt.text(j, i, \"{:,}\".format(cm[i, j]),\n",
        "                     horizontalalignment=\"center\",\n",
        "                     color=\"white\" if cm[i, j] > thresh else \"black\")\n",
        "\n",
        "\n",
        "    plt.tight_layout()\n",
        "    plt.ylabel('True label')\n",
        "    plt.xlabel('Predicted label\\naccuracy={:0.4f}; misclass={:0.4f}'.format(accuracy, misclass))\n",
        "    plt.show()"
      ]
    },
    {
      "cell_type": "code",
      "execution_count": 57,
      "metadata": {
        "colab": {
          "base_uri": "https://localhost:8080/",
          "height": 709
        },
        "id": "KNCkVWyqxjaR",
        "outputId": "48f77bad-b02a-468b-d2c5-dbb5385dddff"
      },
      "outputs": [
        {
          "data": {
            "image/png": "[encoded data removed]",
            "text/plain": [
              "<Figure size 864x864 with 2 Axes>"
            ]
          },
          "metadata": {
            "needs_background": "light",
            "tags": []
          },
          "output_type": "display_data"
        }
      ],
      "source": [
        "from sklearn.metrics import confusion_matrix\n",
        "\n",
        "plot_confusion_matrix(cm = confusion_matrix(actual, test_pred), \n",
        "                      normalize    = False,\n",
        "                      target_names = np.unique(actual),\n",
        "                      title        = \"Confusion Matrix\")"
      ]
    },
    {
      "cell_type": "code",
      "execution_count": null,
      "metadata": {
        "id": "KZwPghTY57p1"
      },
      "outputs": [],
      "source": []
    }
  ],
  "metadata": {
    "accelerator": "GPU",
    "colab": {
      "collapsed_sections": [],
      "machine_shape": "hm",
      "name": "Unsw_ton_iot_multiclass_mean_agg.ipynb",
      "provenance": []
    },
    "kernelspec": {
      "display_name": "Python 3",
      "name": "python3"
    }
  },
  "nbformat": 4,
  "nbformat_minor": 0
}
